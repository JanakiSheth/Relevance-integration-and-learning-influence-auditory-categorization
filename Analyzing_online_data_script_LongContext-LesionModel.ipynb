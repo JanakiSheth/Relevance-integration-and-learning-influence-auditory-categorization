{
 "cells": [
  {
   "cell_type": "code",
   "execution_count": 1,
   "metadata": {},
   "outputs": [],
   "source": [
    "import pandas as pd\n",
    "import numpy as np\n",
    "import numpy.matlib\n",
    "import matplotlib.pyplot as plt\n",
    "import pdb\n",
    "import scipy\n",
    "from scipy.optimize import minimize\n",
    "from scipy.stats import multivariate_normal\n",
    "from scipy.optimize import basinhopping\n",
    "from tqdm.notebook import tqdm\n",
    "import math"
   ]
  },
  {
   "cell_type": "code",
   "execution_count": 2,
   "metadata": {},
   "outputs": [],
   "source": [
    "\"\"\" \n",
    "Obtaining data from a given expt\n",
    "\"\"\"\n",
    "csv_test = pd.read_csv('../auditory_categorization_longLow/important_things_not_included_in_assets/allTrials.csv');\n",
    "csv_data = pd.read_csv('auditory_categorization_lc_online_data/auditory_categorization_v2_119865_2021-06-11_19h04.17_d1d63a32-cae7-11eb-abb1-ac1f6b405aea/609dd2bc3360f6e164901570_categorization_task_longLow_2021-06-11_13h42.28.848.csv');\n",
    "        "
   ]
  },
  {
   "cell_type": "code",
   "execution_count": 3,
   "metadata": {},
   "outputs": [],
   "source": [
    "n_tones = 3\n",
    "n_trials = csv_data.shape[0]-47\n",
    "\n",
    "\"\"\"\n",
    "Get tones and values of keys pressed\n",
    "\"\"\"\n",
    "test_columns = list(csv_test.columns)\n",
    "test_tones_name = test_columns.index('Name')\n",
    "test_tones_col_idx = test_columns.index('Tones')\n",
    "df_names = (csv_test.iloc[0:800,test_tones_name]).values\n",
    "df_tones = (csv_test.iloc[0:800,test_tones_col_idx]).values\n",
    "\n",
    "tones_array_orig = np.zeros((n_trials,n_tones))\n",
    "tones_array_idxs_keep = []\n",
    "\n",
    "for i_wav in range(804):\n",
    "    if isinstance(csv_data['Name'][i_wav+46],str):\n",
    "        tones_array_orig[i_wav,:] = np.array(df_tones[np.where(csv_data['Name'][i_wav+46]\\\n",
    "                                                          ==df_names)[0]][0][1:-1].split(',')).astype(float)  \n",
    "        tones_array_idxs_keep += [i_wav]\n",
    "        \n",
    "df_tones = np.copy(tones_array_orig[tones_array_idxs_keep,:])\n",
    "df_corrans = np.copy(csv_data['corrAns'][46:csv_data.shape[0]])[tones_array_idxs_keep]\n",
    "df_keys = np.copy(csv_data['test_resp.keys'][46:csv_data.shape[0]])[tones_array_idxs_keep]"
   ]
  },
  {
   "cell_type": "code",
   "execution_count": 4,
   "metadata": {
    "scrolled": true
   },
   "outputs": [
    {
     "name": "stdout",
     "output_type": "stream",
     "text": [
      "Did not respond to:  []\n",
      "Got correct:  0.89375\n",
      "Got high correct:  0.8636363636363636\n",
      "Got low correct:  0.9051724137931034\n",
      "Got correct:  0.8\n",
      "Got high correct:  0.7962962962962963\n",
      "Got low correct:  0.8018867924528302\n",
      "Got correct:  0.83125\n",
      "Got high correct:  0.84\n",
      "Got low correct:  0.8272727272727273\n",
      "Got correct:  0.875\n",
      "Got high correct:  0.8372093023255814\n",
      "Got low correct:  0.8888888888888888\n",
      "Got correct:  0.9\n",
      "Got high correct:  0.9111111111111111\n",
      "Got low correct:  0.8956521739130435\n",
      "Got correct:  0.86\n",
      "Got high correct:  0.847457627118644\n",
      "Got low correct:  0.8652482269503546\n"
     ]
    }
   ],
   "source": [
    "\"\"\"\n",
    "Find no response cases in the expt\n",
    "\"\"\"\n",
    "no_response = np.intersect1d(np.where(df_keys!='h')[0],np.where(df_keys!='l')[0])\n",
    "print(\"Did not respond to: \",no_response)\n",
    "\n",
    "\"\"\"\n",
    "Convert keys ['l','h'] to [0,1] and plot p(H|T)\n",
    "\"\"\"\n",
    "corrans_num_orig = np.zeros_like(df_corrans)\n",
    "corrans_num_orig[df_corrans == 'h'] = 1\n",
    "\n",
    "keys_num_orig = np.zeros_like(df_keys)\n",
    "keys_num_orig[df_keys == 'h'] = 1\n",
    "\n",
    "corrans_num_160 = corrans_num_orig[:160]\n",
    "keys_num_160 = keys_num_orig[:160]\n",
    "tones_array_160 = df_tones[:160]\n",
    "print(\"Got correct: \", np.sum(keys_num_160==corrans_num_160)/len(tones_array_160))\n",
    "print(\"Got high correct: \", np.sum((keys_num_160)*(corrans_num_160))/np.sum(corrans_num_160))\n",
    "print(\"Got low correct: \", np.sum((1-keys_num_160)*(1-corrans_num_160))/np.sum(1-corrans_num_160))\n",
    "\n",
    "corrans_num_320 = corrans_num_orig[160:320]\n",
    "keys_num_320 = keys_num_orig[160:320]\n",
    "tones_array_320 = df_tones[160:320]\n",
    "print(\"Got correct: \", np.sum(keys_num_320==corrans_num_320)/len(tones_array_320))\n",
    "print(\"Got high correct: \", np.sum((keys_num_320)*(corrans_num_320))/np.sum(corrans_num_320))\n",
    "print(\"Got low correct: \", np.sum((1-keys_num_320)*(1-corrans_num_320))/np.sum(1-corrans_num_320))\n",
    "\n",
    "corrans_num_480 = corrans_num_orig[320:480]\n",
    "keys_num_480 = keys_num_orig[320:480]\n",
    "tones_array_480 = df_tones[320:480]\n",
    "print(\"Got correct: \", np.sum(keys_num_480==corrans_num_480)/len(tones_array_480))\n",
    "print(\"Got high correct: \", np.sum((keys_num_480)*(corrans_num_480))/np.sum(corrans_num_480))\n",
    "print(\"Got low correct: \", np.sum((1-keys_num_480)*(1-corrans_num_480))/np.sum(1-corrans_num_480))\n",
    "\n",
    "corrans_num_640 = corrans_num_orig[480:640]\n",
    "keys_num_640 = keys_num_orig[480:640]\n",
    "tones_array_640 = df_tones[480:640]\n",
    "print(\"Got correct: \", np.sum(keys_num_640==corrans_num_640)/len(tones_array_640))\n",
    "print(\"Got high correct: \", np.sum((keys_num_640)*(corrans_num_640))/np.sum(corrans_num_640))\n",
    "print(\"Got low correct: \", np.sum((1-keys_num_640)*(1-corrans_num_640))/np.sum(1-corrans_num_640))\n",
    "\n",
    "corrans_num_800 = corrans_num_orig[640:800]\n",
    "keys_num_800 = keys_num_orig[640:800]\n",
    "tones_array_800 = df_tones[640:800]\n",
    "print(\"Got correct: \", np.sum(keys_num_800==corrans_num_800)/len(tones_array_800))\n",
    "print(\"Got high correct: \", np.sum((keys_num_800)*(corrans_num_800))/np.sum(corrans_num_800))\n",
    "print(\"Got low correct: \", np.sum((1-keys_num_800)*(1-corrans_num_800))/np.sum(1-corrans_num_800))\n",
    "\n",
    "corrans_num = corrans_num_orig[:800]\n",
    "keys_num = keys_num_orig[:800]\n",
    "tones_array = df_tones[:800]\n",
    "print(\"Got correct: \", np.sum(keys_num==corrans_num)/len(tones_array))\n",
    "print(\"Got high correct: \", np.sum((keys_num)*(corrans_num))/np.sum(corrans_num))\n",
    "print(\"Got low correct: \", np.sum((1-keys_num)*(1-corrans_num))/np.sum(1-corrans_num))"
   ]
  },
  {
   "cell_type": "code",
   "execution_count": 5,
   "metadata": {},
   "outputs": [
    {
     "data": {
      "text/plain": [
       "(array([0.6, 0.7, 0.8, 0.9, 1. , 1.1, 1.2, 1.3, 1.4, 1.5, 1.6, 1.7, 1.8,\n",
       "        1.9, 2. , 2.1, 2.2, 2.3, 2.4, 2.5, 2.6, 2.7, 2.8, 2.9, 3. , 3.1,\n",
       "        3.2, 3.3, 3.4, 3.5, 3.6, 3.7, 3.8, 3.9, 4. , 4.1, 4.2, 4.3, 4.4,\n",
       "        4.5, 4.6]),\n",
       " (41,))"
      ]
     },
     "execution_count": 5,
     "metadata": {},
     "output_type": "execute_result"
    }
   ],
   "source": [
    "trial_tones = np.repeat(tones_array,1,axis = 0)\n",
    "trial_behaviour = np.reshape(keys_num,np.prod(keys_num.shape)) \n",
    "corrans_expt = np.reshape(corrans_num,np.prod(corrans_num.shape)) \n",
    "# this has been changed to check how values change with observer responses\n",
    "\n",
    "expt_tones = np.arange(90,3000,1) #array of possible true tones\n",
    "log_freq_seq_array = np.arange(0.6,4.7,0.1)\n",
    "log_freq_percept = np.arange(0.6,4.7,0.1) # array of possible perceptual tones\n",
    "\n",
    "idxs_with_response = np.delete(np.arange(len(trial_tones)),no_response)\n",
    "trial_tones = trial_tones[idxs_with_response,:]\n",
    "trial_behaviour = trial_behaviour[idxs_with_response]\n",
    "corrans_expt = corrans_expt[idxs_with_response]\n",
    "\n",
    "log_freq_percept, log_freq_seq_array.shape"
   ]
  },
  {
   "cell_type": "code",
   "execution_count": 6,
   "metadata": {},
   "outputs": [
    {
     "name": "stdout",
     "output_type": "stream",
     "text": [
      "probability of low given the data is likely to be:  0.655\n"
     ]
    }
   ],
   "source": [
    "\"\"\"\n",
    "Using data to constrain the plow parameter\n",
    "\"\"\"\n",
    "idxHigh = np.arange(len(trial_behaviour))[corrans_expt==1]\n",
    "idxLow = np.arange(len(trial_behaviour))[corrans_expt==0]\n",
    "idxToKeep = np.concatenate((idxHigh, np.random.choice(idxLow,size=len(idxLow),replace=False)))\n",
    "print(\"probability of low given the data is likely to be: \", 1-sum(trial_behaviour[idxToKeep])/len(idxToKeep))\n"
   ]
  },
  {
   "cell_type": "code",
   "execution_count": 7,
   "metadata": {},
   "outputs": [],
   "source": [
    "def gaussian(x, mean, sigma):\n",
    "    return np.exp(-(x-mean)**2/(2*sigma**2))\n",
    "\n",
    "def Tones3dgrid(latentTones, sigma):    \n",
    "    \n",
    "    input_array_0 = np.expand_dims(gaussian(log_freq_percept, latentTones[0], sigma), axis = 1)\n",
    "    input_array_1 = np.expand_dims(gaussian(log_freq_percept, latentTones[1], sigma), axis = 1)\n",
    "    input_array_2 = np.expand_dims(gaussian(log_freq_percept, latentTones[2], sigma), axis = 1)\n",
    "    s0 = 1/np.sum(input_array_0); s1 = 1/np.sum(input_array_1); s2 = 1/np.sum(input_array_2)\n",
    "    input_array_0 *= s0; input_array_1 *= s1; input_array_2 *= s2; \n",
    "    \n",
    "    input_array_mat = np.expand_dims(input_array_0@input_array_1.T,axis=2)@(input_array_2.T) #p(T1,T2..|H)     \n",
    "    \n",
    "    return input_array_mat\n",
    "\n",
    "def posterior_array(freq_input, n_tones, p_back, p_low, log_prior):\n",
    "    \"\"\"\n",
    "    Arguments: \n",
    "    freq_input - range of all possible frequencies (percepts?)\n",
    "    p_back - prob of background\n",
    "    p_low - prob of low condition\n",
    "    log_prior - list of prior parameters\n",
    "    \"\"\"\n",
    "    \n",
    "    log_prior_low_mean = log_prior[0]; log_prior_low_sigma = log_prior[2];\n",
    "    log_prior_high_mean = log_prior[1]; log_prior_high_sigma = log_prior[2];\n",
    "    prior_low = gaussian(x=freq_input, mean=log_prior_low_mean, sigma=log_prior_low_sigma)\n",
    "    prior_high = gaussian(x=freq_input, mean=log_prior_high_mean, sigma=log_prior_high_sigma)\n",
    "    prior_dist_mixed_high = p_back*(1/len(freq_input)) + (1-p_back)*prior_high \\\n",
    "    #mixture model with p(T|B) = 1/no. of possible freqs\n",
    "    prior_dist_mixed_high /= prior_dist_mixed_high.sum() #normalizing\n",
    "    prior_dist_mixed_high = np.expand_dims(prior_dist_mixed_high, axis = 1)\n",
    "    prior_dist_mixed_low = p_back*(1/len(freq_input)) + (1-p_back)*prior_low \\\n",
    "    #mixture model with p(T|B) = 1/no. of possible freqs\n",
    "    prior_dist_mixed_low /= prior_dist_mixed_low.sum() #normalizing\n",
    "    prior_dist_mixed_low = np.expand_dims(prior_dist_mixed_low, axis = 1)\n",
    "        \n",
    "    if n_tones == 3:\n",
    "        prior_tones_low = np.expand_dims(prior_dist_mixed_low@np.transpose\\\n",
    "                                         (prior_dist_mixed_low),axis=2)@np.transpose(prior_dist_mixed_low) \\\n",
    "        #p(T1,T2..|L) \n",
    "        prior_tones_high = np.expand_dims(prior_dist_mixed_high@np.transpose\\\n",
    "                                          (prior_dist_mixed_high),axis=2)@np.transpose(prior_dist_mixed_high) \\\n",
    "        #p(T1,T2..|H) \n",
    "    elif n_tones == 1:\n",
    "        prior_tones_low = prior_dist_mixed_low\n",
    "        prior_tones_high = prior_dist_mixed_high\n",
    "        \n",
    "    normalizer = (1-p_low)*prior_tones_high + p_low*prior_tones_low #p(H)*p(T1,T2..|H) + p(L)*p(T1,T2..|L)\n",
    "    posterior = prior_tones_high*(1-p_low)/normalizer\n",
    "    # posterior /= np.sum(posterior)\n",
    "    \n",
    "    return prior_dist_mixed_high, prior_dist_mixed_low, prior_tones_high, prior_tones_low, normalizer, posterior"
   ]
  },
  {
   "cell_type": "code",
   "execution_count": 8,
   "metadata": {},
   "outputs": [],
   "source": [
    "# define mle function\n",
    "def MLE(params):\n",
    "    log_prior_low_mean, log_prior_high_mean, log_prior_sigma, sigma_sensory, prob_back, prob_low = \\\n",
    "    params[0], params[1], params[2], params[3], params[4], params[5] # inputs are guesses at our parameters  \n",
    "        \n",
    "    _,_,LikelihoodLatentTonegivenHigh,LikelihoodLatentTonegivenLow,_,_ = \\\n",
    "    posterior_array(log_freq_seq_array, len(trial_tones[0]), p_back=prob_back, p_low=prob_low,\\\n",
    "                    log_prior=[log_prior_low_mean,log_prior_high_mean,log_prior_sigma])\n",
    "\n",
    "    LikelihoodPerceptgivenHigh = np.zeros((len(log_freq_percept),len(log_freq_percept),len(log_freq_percept)))\n",
    "    LikelihoodPerceptgivenLow = np.zeros((len(log_freq_percept),len(log_freq_percept),len(log_freq_percept)))\n",
    "    \n",
    "    for itrue1 in range(len(log_freq_seq_array)):\n",
    "        for itrue2 in range(len(log_freq_seq_array)):\n",
    "            for itrue3 in range(len(log_freq_seq_array)):\n",
    "                probPerceptgivenLatentTones = Tones3dgrid([log_freq_seq_array[itrue1],\\\n",
    "                                                           log_freq_seq_array[itrue2],\\\n",
    "                                                           log_freq_seq_array[itrue3]],sigma=sigma_sensory)\n",
    "                LikelihoodPerceptgivenHigh \\\n",
    "                += probPerceptgivenLatentTones * LikelihoodLatentTonegivenHigh[itrue1,itrue2,itrue3]\n",
    "                LikelihoodPerceptgivenLow \\\n",
    "                += probPerceptgivenLatentTones * LikelihoodLatentTonegivenLow[itrue1,itrue2,itrue3]\n",
    "    probHighgivenPercept = LikelihoodPerceptgivenHigh*(1-prob_low)/\\\n",
    "    (LikelihoodPerceptgivenHigh*(1-prob_low) + LikelihoodPerceptgivenLow*(prob_low))\n",
    "        \n",
    "    neg_ll = 0; \n",
    "    probability_high = np.zeros((len(trial_tones),1))\n",
    "    for i_trial in range(len(trial_tones)):\n",
    "        input_array_mat = Tones3dgrid(np.array([np.log10(trial_tones[i_trial][0]),\\\n",
    "                                               np.log10(trial_tones[i_trial][1]),\n",
    "                                               np.log10(trial_tones[i_trial][2])]),sigma=sigma_sensory)\n",
    "        probability_high0 = np.sum(np.multiply(probHighgivenPercept>0.5,input_array_mat))\n",
    "        probability_high[i_trial] = np.sum(np.multiply(probHighgivenPercept>0.5,input_array_mat))\n",
    "            \n",
    "        if trial_behaviour[i_trial]:\n",
    "            if np.isnan(np.log(probability_high0 + 0.0000001)) \\\n",
    "            or np.isinf(np.log(probability_high0 + 0.0000001)) \\\n",
    "            or np.isnan(np.log(1-probability_high0 + 0.0000001)) \\\n",
    "            or np.isinf(np.log(1-probability_high0 + 0.0000001)):\n",
    "                pdb.set_trace()\n",
    "            neg_ll += -np.log(probability_high0 + 0.0000001) # if high dist is chosen by observer\n",
    "        else:\n",
    "            neg_ll += -np.log(1 - probability_high0 + 0.0000001) # if low dist is chosen by observer   \n",
    "    return(neg_ll, probability_high)"
   ]
  },
  {
   "cell_type": "code",
   "execution_count": 9,
   "metadata": {},
   "outputs": [
    {
     "data": {
      "application/vnd.jupyter.widget-view+json": {
       "model_id": "44137cb2b63b4973a76e0196ca3948f4",
       "version_major": 2,
       "version_minor": 0
      },
      "text/plain": [
       "  0%|          | 0/5 [00:00<?, ?it/s]"
      ]
     },
     "metadata": {},
     "output_type": "display_data"
    },
    {
     "data": {
      "application/vnd.jupyter.widget-view+json": {
       "model_id": "",
       "version_major": 2,
       "version_minor": 0
      },
      "text/plain": [
       "High mean:   0%|          | 0/5 [00:00<?, ?it/s]"
      ]
     },
     "metadata": {},
     "output_type": "display_data"
    },
    {
     "name": "stderr",
     "output_type": "stream",
     "text": [
      "<ipython-input-7-c01720b117b2>:50: RuntimeWarning: invalid value encountered in true_divide\n",
      "  posterior = prior_tones_high*(1-p_low)/normalizer\n"
     ]
    },
    {
     "data": {
      "application/vnd.jupyter.widget-view+json": {
       "model_id": "",
       "version_major": 2,
       "version_minor": 0
      },
      "text/plain": [
       "High mean:   0%|          | 0/5 [00:00<?, ?it/s]"
      ]
     },
     "metadata": {},
     "output_type": "display_data"
    },
    {
     "data": {
      "application/vnd.jupyter.widget-view+json": {
       "model_id": "",
       "version_major": 2,
       "version_minor": 0
      },
      "text/plain": [
       "High mean:   0%|          | 0/5 [00:00<?, ?it/s]"
      ]
     },
     "metadata": {},
     "output_type": "display_data"
    },
    {
     "data": {
      "application/vnd.jupyter.widget-view+json": {
       "model_id": "",
       "version_major": 2,
       "version_minor": 0
      },
      "text/plain": [
       "High mean:   0%|          | 0/5 [00:00<?, ?it/s]"
      ]
     },
     "metadata": {},
     "output_type": "display_data"
    },
    {
     "data": {
      "application/vnd.jupyter.widget-view+json": {
       "model_id": "",
       "version_major": 2,
       "version_minor": 0
      },
      "text/plain": [
       "High mean:   0%|          | 0/5 [00:00<?, ?it/s]"
      ]
     },
     "metadata": {},
     "output_type": "display_data"
    },
    {
     "name": "stdout",
     "output_type": "stream",
     "text": [
      "[[2.1  2.1  2.1  2.1  2.1  2.1  2.25 2.25 2.25 2.25 2.25 2.25 2.25 2.25\n",
      "  2.25 2.4  2.4  2.4  2.4  2.4  2.4  2.4  2.4  2.55 2.55 2.55 2.55]\n",
      " [2.7  2.85 3.15 3.3  3.3  3.3  2.7  2.85 3.   3.   3.   3.15 3.15 3.15\n",
      "  3.15 2.7  2.7  2.85 2.85 3.   3.   3.   3.   2.7  2.85 2.85 2.85]\n",
      " [0.65 0.65 0.65 0.45 0.45 0.65 0.65 0.65 0.45 0.65 0.85 0.25 0.25 0.45\n",
      "  0.65 0.45 0.65 0.45 0.65 0.25 0.25 0.25 0.45 0.25 0.05 0.25 0.25]\n",
      " [0.15 0.15 0.15 0.15 0.15 0.15 0.15 0.15 0.15 0.15 0.15 0.15 0.15 0.15\n",
      "  0.15 0.15 0.15 0.15 0.15 0.15 0.15 0.15 0.15 0.15 0.15 0.15 0.15]\n",
      " [0.   0.   0.   0.   0.   0.   0.   0.   0.   0.   0.   0.   0.   0.\n",
      "  0.   0.   0.   0.   0.   0.   0.   0.   0.   0.   0.   0.   0.  ]\n",
      " [0.8  0.8  0.7  0.65 0.7  0.6  0.7  0.7  0.8  0.65 0.6  0.75 0.8  0.65\n",
      "  0.6  0.7  0.6  0.7  0.6  0.7  0.75 0.8  0.6  0.65 0.8  0.6  0.65]]\n"
     ]
    }
   ],
   "source": [
    "\"\"\"\n",
    "New optimization algorithm: uses scipy.optimize.fmin. \n",
    "Crude grid initially and then find minimum using the function.\n",
    "\"\"\"\n",
    "\n",
    "guess_low_mean = np.arange(2.1,2.71,0.15); guess_high_mean = np.arange(2.7,3.31,0.15); \n",
    "guess_sigma = np.arange(0.05,1,0.2); guess_sensory_sigma = np.array([0.15]);\n",
    "guess_p_back = np.array([0]); guess_p_low = np.arange(0.6,0.81,0.05);\n",
    "\n",
    "# Constraining guesses of means of low and high distributions based on observed behaviour in figure shown above. \n",
    "\n",
    "neg_ll_array = np.zeros((len(guess_low_mean), len(guess_high_mean), len(guess_sigma), \n",
    "                         len(guess_sensory_sigma), len(guess_p_back), len(guess_p_low)))\n",
    "for lm in tqdm(range(len(guess_low_mean))):\n",
    "    for hm in tqdm(range(len(guess_high_mean)), leave=False, desc=\"High mean\"):\n",
    "        for s in range(len(guess_sigma)):\n",
    "            for ss in range(len(guess_sensory_sigma)):\n",
    "                for pb in range(len(guess_p_back)):\n",
    "                    for pl in range(len(guess_p_low)):\n",
    "                        params = [guess_low_mean[lm], guess_high_mean[hm], guess_sigma[s], \n",
    "                                  guess_sensory_sigma[ss], guess_p_back[pb], guess_p_low[pl]]\n",
    "                        # print(lm, hm, pb)\n",
    "                        neg_ll_array[lm,hm,s,ss,pb,pl],_ = MLE(params) \n",
    "                    \n",
    "\"\"\"\n",
    "Means and p_back corresponding to the least negative log likelihood value\n",
    "\"\"\"\n",
    "idxs = np.where(neg_ll_array == np.amin(neg_ll_array)) \n",
    "best_thetas = np.array([guess_low_mean[idxs[0]], guess_high_mean[idxs[1]], guess_sigma[idxs[2]], \\\n",
    "                        guess_sensory_sigma[idxs[3]], guess_p_back[idxs[4]], guess_p_low[idxs[5]]])\n",
    "\n",
    "print(best_thetas)"
   ]
  },
  {
   "cell_type": "code",
   "execution_count": null,
   "metadata": {
    "scrolled": true
   },
   "outputs": [],
   "source": [
    "# define mle function\n",
    "def MLE_fmin(params):\n",
    "    log_prior_low_mean, log_prior_high_mean, log_prior_sigma, sigma_sensory, prob_back, prob_low = \\\n",
    "    params[0], params[1], params[2], params[3], params[4], params[5] # inputs are guesses at our parameters  \n",
    "    \n",
    "    _,_,LikelihoodLatentTonegivenHigh,LikelihoodLatentTonegivenLow,_,_ = \\\n",
    "    posterior_array(log_freq_seq_array, len(trial_tones[0]), p_back=prob_back, p_low=prob_low,\\\n",
    "                    log_prior=[log_prior_low_mean,log_prior_high_mean,log_prior_sigma])\n",
    "\n",
    "    LikelihoodPerceptgivenHigh = np.zeros((len(log_freq_percept),len(log_freq_percept),len(log_freq_percept)))\n",
    "    LikelihoodPerceptgivenLow = np.zeros((len(log_freq_percept),len(log_freq_percept),len(log_freq_percept)))\n",
    "    \n",
    "    for itrue1 in range(len(log_freq_seq_array)):\n",
    "        for itrue2 in range(len(log_freq_seq_array)):\n",
    "            for itrue3 in range(len(log_freq_seq_array)):\n",
    "                probPerceptgivenLatentTones = Tones3dgrid([log_freq_seq_array[itrue1],\\\n",
    "                                                           log_freq_seq_array[itrue2],\\\n",
    "                                                           log_freq_seq_array[itrue3]],sigma=sigma_sensory)\n",
    "                LikelihoodPerceptgivenHigh \\\n",
    "                += probPerceptgivenLatentTones * LikelihoodLatentTonegivenHigh[itrue1,itrue2,itrue3]\n",
    "                LikelihoodPerceptgivenLow \\\n",
    "                += probPerceptgivenLatentTones * LikelihoodLatentTonegivenLow[itrue1,itrue2,itrue3]\n",
    "    probHighgivenPercept = LikelihoodPerceptgivenHigh*(1-prob_low)/\\\n",
    "    (LikelihoodPerceptgivenHigh*(1-prob_low) + LikelihoodPerceptgivenLow*(prob_low))\n",
    "        \n",
    "    neg_ll = 0; \n",
    "    \n",
    "    probability_high = np.zeros((len(trial_tones),1))\n",
    "    for i_trial in range(len(trial_tones)):\n",
    "        input_array_mat = Tones3dgrid(np.array([np.log10(trial_tones[i_trial][0]),\\\n",
    "                                               np.log10(trial_tones[i_trial][1]),\n",
    "                                               np.log10(trial_tones[i_trial][2])]),sigma=sigma_sensory)\n",
    "        probability_high0 = np.sum(np.multiply(probHighgivenPercept>0.5,input_array_mat))\n",
    "        probability_high[i_trial] = np.sum(np.multiply(probHighgivenPercept>0.5,input_array_mat))\n",
    "            \n",
    "        if trial_behaviour[i_trial]:\n",
    "            if np.isnan(np.log(probability_high0 + 0.0000001)) \\\n",
    "            or np.isinf(np.log(probability_high0 + 0.0000001)) \\\n",
    "            or np.isnan(np.log(1-probability_high0 + 0.0000001)) \\\n",
    "            or np.isinf(np.log(1-probability_high0 + 0.0000001)):\n",
    "                pdb.set_trace()\n",
    "            neg_ll += -np.log(probability_high0 + 0.0000001) # if high dist is chosen by observer\n",
    "        else:\n",
    "            neg_ll += -np.log(1 - probability_high0 + 0.0000001) # if low dist is chosen by observer\n",
    "    print(params, neg_ll)        \n",
    "    return(neg_ll)\n",
    "\n",
    "minimum_nll = scipy.optimize.fmin(MLE_fmin, best_thetas, maxiter=10000, maxfun=10000, \n",
    "                                  xtol=0.01, ftol=0.01)\n",
    "\n",
    "print(minimum_nll)"
   ]
  },
  {
   "cell_type": "code",
   "execution_count": null,
   "metadata": {},
   "outputs": [],
   "source": [
    "# Influence plots the way we currently understand them (11-17-2020)\n",
    "unique_tones = np.unique(trial_tones)\n",
    "tone1_prob_behaviour = np.zeros((len(unique_tones)))\n",
    "\n",
    "tone2_prob_behaviour = np.zeros((len(unique_tones)))\n",
    "tone3_prob_behaviour = np.zeros((len(unique_tones)))\n",
    "\n",
    "for i_tone in range(len(unique_tones)):\n",
    "    tone1_prob_behaviour[i_tone] = np.mean(trial_behaviour[trial_tones[:,0]\\\n",
    "                                                       ==unique_tones[i_tone]])\n",
    "    tone2_prob_behaviour[i_tone] = np.mean(trial_behaviour[trial_tones[:,1]\\\n",
    "                                                       ==unique_tones[i_tone]])\n",
    "    tone3_prob_behaviour[i_tone] = np.mean(trial_behaviour[trial_tones[:,2]\\\n",
    "                                                       ==unique_tones[i_tone]])\n",
    "influence1, = plt.plot(np.log10(unique_tones), tone1_prob_behaviour, label = 'Influence of Tone 1')\n",
    "influence2, = plt.plot(np.log10(unique_tones), tone2_prob_behaviour, label = 'Influence of Tone 2')\n",
    "influence3, = plt.plot(np.log10(unique_tones), tone3_prob_behaviour, label = 'Influence of Tone 3')\n",
    "influence, = plt.plot(np.log10(unique_tones), (tone1_prob_behaviour+tone2_prob_behaviour+tone3_prob_behaviour)/3,\n",
    "                       'k', label = 'Average Influence')\n",
    "\n",
    "_, probability_high = MLE(minimum_nll)\n",
    "\n",
    "tone1_prob_behaviour = np.zeros((len(unique_tones)))\n",
    "tone2_prob_behaviour = np.zeros((len(unique_tones)))\n",
    "tone3_prob_behaviour = np.zeros((len(unique_tones)))\n",
    "\n",
    "for i_tone in range(len(unique_tones)):\n",
    "    tone1_prob_behaviour[i_tone] = np.mean(probability_high[trial_tones[:,0]\\\n",
    "                                                       ==unique_tones[i_tone]])\n",
    "    tone2_prob_behaviour[i_tone] = np.mean(probability_high[trial_tones[:,1]\\\n",
    "                                                       ==unique_tones[i_tone]])\n",
    "    tone3_prob_behaviour[i_tone] = np.mean(probability_high[trial_tones[:,2]\\\n",
    "                                                       ==unique_tones[i_tone]])\n",
    "mnll_influence, = plt.plot(np.log10(unique_tones),\n",
    "                           (tone1_prob_behaviour+tone2_prob_behaviour+tone3_prob_behaviour)/3,'k.',\n",
    "                          label = 'p(B_H|T) given fmin parameters')\n",
    "\"\"\"\n",
    " _, probability_high = MLE(best_thetas)\n",
    "\n",
    "tone1_prob_behaviour = np.zeros((len(unique_tones)))\n",
    "tone2_prob_behaviour = np.zeros((len(unique_tones)))\n",
    "tone3_prob_behaviour = np.zeros((len(unique_tones)))\n",
    "\n",
    "for i_tone in range(len(unique_tones)):\n",
    "    tone1_prob_behaviour[i_tone] = np.mean(probability_high[trial_tones[:,0]\\\n",
    "                                                       ==unique_tones[i_tone]])\n",
    "    tone2_prob_behaviour[i_tone] = np.mean(probability_high[trial_tones[:,1]\\\n",
    "                                                       ==unique_tones[i_tone]])\n",
    "    tone3_prob_behaviour[i_tone] = np.mean(probability_high[trial_tones[:,2]\\\n",
    "                                                       ==unique_tones[i_tone]])\n",
    "grid_influence, = plt.plot(np.log10(unique_tones),\n",
    "                           (tone1_prob_behaviour+tone2_prob_behaviour+tone3_prob_behaviour)/3,'k--',\n",
    "                          label = 'p(B_H|T) given grid parameters')\n",
    "\"\"\"\n",
    "plt.legend(handles=[influence, mnll_influence])\n",
    "\n",
    "plt.xlim([1.9,3.6])\n",
    "plt.ylim([-0.2,1.1])\n",
    "plt.xlabel('log10(Tones)')\n",
    "plt.ylabel('p(B_H|T)')\n",
    "# plt.savefig('figures/long_context/experimenter=nate_categorization_task_long_2021-01-18_16h48.56.916.png')"
   ]
  }
 ],
 "metadata": {
  "kernelspec": {
   "display_name": "Python 3",
   "language": "python",
   "name": "python3"
  },
  "language_info": {
   "codemirror_mode": {
    "name": "ipython",
    "version": 3
   },
   "file_extension": ".py",
   "mimetype": "text/x-python",
   "name": "python",
   "nbconvert_exporter": "python",
   "pygments_lexer": "ipython3",
   "version": "3.9.1"
  }
 },
 "nbformat": 4,
 "nbformat_minor": 4
}
