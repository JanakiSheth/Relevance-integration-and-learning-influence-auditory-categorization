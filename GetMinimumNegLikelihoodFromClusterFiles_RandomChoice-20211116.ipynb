{
 "cells": [
  {
   "cell_type": "code",
   "execution_count": 1,
   "metadata": {},
   "outputs": [],
   "source": [
    "import pdb\n",
    "import numpy as np\n",
    "import matplotlib.pyplot as plt\n",
    "\n",
    "def strip_new_line_char(string):\n",
    "    \n",
    "    if \"\\n\" in string:\n",
    "        return string[:-1]\n",
    "    return string"
   ]
  },
  {
   "cell_type": "code",
   "execution_count": 42,
   "metadata": {
    "scrolled": true
   },
   "outputs": [],
   "source": [
    "subject = 'a45d'\n",
    "subjectArray = np.zeros((100,3))\n",
    "file_dev = \"auditory_categorization_lc_online_data/preprocess_results/results_from_cluster/resultsProlificData/randomChoice/results_\"+subject+'.txt'\n",
    "with open(file_dev, 'r') as f:\n",
    "    filelines = f.readlines()\n",
    "iline=0\n",
    "while iline < len(filelines):\n",
    "    if filelines[iline].startswith('[') and filelines[iline].endswith(']\\n'):\n",
    "        lineWithNewLineChar = strip_new_line_char(filelines[iline])\n",
    "        lineElements = lineWithNewLineChar.split(\",\")\n",
    "        temp = np.zeros((1,3))\n",
    "        temp[:,2] = float(lineElements[2][:-1])\n",
    "        temp[:,1] = float(lineElements[1][8:-2])\n",
    "        temp[:,0] = float(lineElements[0][8:-2])\n",
    "        subjectArray[iline,:] = temp\n",
    "        #print(subjectArray[iline,:], iline)\n",
    "        iline += 1"
   ]
  },
  {
   "cell_type": "code",
   "execution_count": 43,
   "metadata": {},
   "outputs": [
    {
     "name": "stdout",
     "output_type": "stream",
     "text": [
      "100\n",
      "Mean [1.80000000e-01 5.81000000e-01 3.25809449e+02]\n",
      "Std [1.66533454e-16 3.92300905e-02 1.17397444e+00]\n",
      "Median 325.85\n",
      "5th quantile 323.82\n",
      "95th quantile 327.17\n"
     ]
    }
   ],
   "source": [
    "print(len(filelines))\n",
    "print(\"Mean\",np.mean(subjectArray,axis=0))\n",
    "print(\"Std\",np.std(subjectArray,axis=0))\n",
    "print(\"Median\",np.around(np.quantile(subjectArray[:,-1],q=0.5),decimals=2))\n",
    "print(\"5th quantile\",np.around(np.quantile(subjectArray[:,-1],q=0.05),decimals=2))\n",
    "print(\"95th quantile\",np.around(np.quantile(subjectArray[:,-1],q=0.95),decimals=2))"
   ]
  },
  {
   "cell_type": "code",
   "execution_count": null,
   "metadata": {},
   "outputs": [],
   "source": [
    "subjectArray"
   ]
  },
  {
   "cell_type": "code",
   "execution_count": null,
   "metadata": {},
   "outputs": [],
   "source": []
  }
 ],
 "metadata": {
  "kernelspec": {
   "display_name": "Python 3",
   "language": "python",
   "name": "python3"
  },
  "language_info": {
   "codemirror_mode": {
    "name": "ipython",
    "version": 3
   },
   "file_extension": ".py",
   "mimetype": "text/x-python",
   "name": "python",
   "nbconvert_exporter": "python",
   "pygments_lexer": "ipython3",
   "version": "3.9.2"
  }
 },
 "nbformat": 4,
 "nbformat_minor": 4
}
