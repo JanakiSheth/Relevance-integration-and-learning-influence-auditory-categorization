{
 "cells": [
  {
   "cell_type": "code",
   "execution_count": 1,
   "metadata": {},
   "outputs": [],
   "source": [
    "import numpy as np\n",
    "import matplotlib.pyplot as plt\n",
    "import pdb\n",
    "from scipy.optimize import minimize\n",
    "from scipy.stats import multivariate_normal\n",
    "from tqdm.notebook import tqdm\n",
    "import random\n",
    "import pwlf"
   ]
  },
  {
   "cell_type": "code",
   "execution_count": 2,
   "metadata": {},
   "outputs": [],
   "source": [
    "def gaussian(x, mean, sigma):\n",
    "    return np.exp(-(x-mean)**2/(2*sigma**2))\n",
    "\n",
    "def posterior_array(log_freq_percept, n_tones, p_back, p_low, \n",
    "                    log_prior_low, log_prior_high):\n",
    "    \"\"\"\n",
    "    Arguments: \n",
    "    log_freq_percept - range of all possible frequencies (percepts?)\n",
    "    p_back - prob of background, p_low - prob of low condition\n",
    "    log_prior_low - gaussian of low condition\n",
    "    log_prior_high - gaussian of high condition\n",
    "    \"\"\"\n",
    "    \n",
    "    log_prior_low_mean = log_prior_low[0]; log_prior_low_sigma = log_prior_low[1];\n",
    "    log_prior_high_mean = log_prior_high[0]; log_prior_high_sigma = log_prior_high[1];\n",
    "    prior_low = gaussian(x=log_freq_percept, mean=log_prior_low_mean, sigma=log_prior_low_sigma)\n",
    "    prior_high = gaussian(x=log_freq_percept, mean=log_prior_high_mean, sigma=log_prior_high_sigma)\n",
    "    prior_dist_mixed_high = p_back*(1/len(log_freq_percept)) + (1-p_back)*prior_high \\\n",
    "    #mixture model with p(T|B) = 1/no. of possible freqs\n",
    "    prior_dist_mixed_high /= prior_dist_mixed_high.sum() #normalizing\n",
    "    prior_dist_mixed_high = np.expand_dims(prior_dist_mixed_high, axis = 1)\n",
    "    prior_dist_mixed_low = p_back*(1/len(log_freq_percept)) + (1-p_back)*prior_low \\\n",
    "    #mixture model with p(T|B) = 1/no. of possible freqs\n",
    "    prior_dist_mixed_low /= prior_dist_mixed_low.sum() #normalizing\n",
    "    prior_dist_mixed_low = np.expand_dims(prior_dist_mixed_low, axis = 1)\n",
    "    \n",
    "    if n_tones == 3:\n",
    "        prior_tones_low = np.expand_dims(prior_dist_mixed_low@np.transpose\\\n",
    "                                         (prior_dist_mixed_low),axis=2)@np.transpose(prior_dist_mixed_low) \\\n",
    "        #p(T1,T2..|L) \n",
    "        prior_tones_high = np.expand_dims(prior_dist_mixed_high@np.transpose\\\n",
    "                                          (prior_dist_mixed_high),axis=2)@np.transpose(prior_dist_mixed_high) \\\n",
    "        #p(T1,T2..|H) \n",
    "    elif n_tones == 2:\n",
    "        prior_tones_low = prior_dist_mixed_low@np.transpose(prior_dist_mixed_low)\n",
    "        prior_tones_high = prior_dist_mixed_high@np.transpose(prior_dist_mixed_high)\n",
    "        \n",
    "    elif n_tones == 1:\n",
    "        prior_tones_low = prior_dist_mixed_low\n",
    "        prior_tones_high = prior_dist_mixed_high\n",
    "        \n",
    "    normalizer = (1-p_low)*prior_tones_high + p_low*prior_tones_low #p(H)*p(T1,T2..|H) + p(L)*p(T1,T2..|L)\n",
    "    posterior = prior_tones_high*(1-p_low)/normalizer\n",
    "    # posterior /= np.sum(posterior)\n",
    "    \n",
    "    return prior_dist_mixed_high, prior_dist_mixed_low, prior_tones_low, prior_tones_high, posterior"
   ]
  },
  {
   "cell_type": "code",
   "execution_count": 3,
   "metadata": {},
   "outputs": [],
   "source": [
    "# experimental task\n",
    "def task(freq_seq, n_trials = 10, n_tones = 3, p_low = 0.5, p_back = 0.3):\n",
    "    log_freq_seq_array = np.arange(np.log10(freq_seq[0]), np.log10(freq_seq[-1]), \\\n",
    "                                   np.log10(1003/1000)*30)\n",
    "    print(log_freq_seq_array)\n",
    "    log_freq_seq_mid = np.median(log_freq_seq_array)\n",
    "    log_freq_low = [log_freq_seq_mid - 0.2,0.1]  #low freq condition is gaussian \n",
    "    log_freq_high = [log_freq_seq_mid + 0.2,0.1] #high freq condition is gaussian\n",
    "    trial_tones = []\n",
    "    dist_chosen = []\n",
    "    kind_of_tones = []\n",
    "\n",
    "    for trial in range(n_trials):\n",
    "        signal_rand = np.random.random()\n",
    "        low_dist = signal_rand < p_low #choosing true tone from either low or high condition\n",
    "        tones = []\n",
    "        tone_kind = []\n",
    "        for n_tone in range(n_tones):\n",
    "            signal_back = np.random.random()\n",
    "            background = signal_back < p_back #choosing background or true tone\n",
    "            if background:\n",
    "                nearest_log_tone = np.random.choice(log_freq_seq_array)\n",
    "                #background freq is chosen from a uniform distribution\n",
    "                tone_kind.append(0)\n",
    "            else: \n",
    "                if low_dist:\n",
    "                    tone = min(max(np.random.randn()*log_freq_low[1] + log_freq_low[0],\\\n",
    "                                   log_freq_seq_array[0]),log_freq_seq_array[-1])                    \n",
    "                    tone_kind.append(1)\n",
    "                else:\n",
    "                    tone = min(max(np.random.randn()*log_freq_high[1] + log_freq_high[0],\\\n",
    "                                   log_freq_seq_array[0]),log_freq_seq_array[-1])\n",
    "                    tone_kind.append(2)\n",
    "                nearest_log_tone = log_freq_seq_array[np.argmin(np.abs(log_freq_seq_array \\\n",
    "                                                                       - tone))]\n",
    "            nearest_tone = freq_seq[np.argmin(np.abs(freq_seq - 10**nearest_log_tone))]        \n",
    "            tones.append(nearest_tone)\n",
    "        trial_tones.append(tones)\n",
    "        dist_chosen.append(low_dist)\n",
    "        kind_of_tones.append(tone_kind)\n",
    "    return trial_tones, dist_chosen, kind_of_tones, log_freq_low, log_freq_high"
   ]
  },
  {
   "cell_type": "code",
   "execution_count": 4,
   "metadata": {},
   "outputs": [
    {
     "name": "stdout",
     "output_type": "stream",
     "text": [
      "[2.         2.03902799 2.07805598 2.11708397 2.15611196 2.19513995\n",
      " 2.23416794 2.27319593 2.31222392 2.35125192 2.39027991 2.4293079\n",
      " 2.46833589 2.50736388 2.54639187 2.58541986 2.62444785 2.66347584\n",
      " 2.70250383 2.74153182 2.78055981 2.8195878  2.85861579 2.89764378\n",
      " 2.93667177 2.97569977 3.01472776 3.05375575 3.09278374 3.13181173\n",
      " 3.17083972 3.20986771 3.2488957  3.28792369]\n"
     ]
    }
   ],
   "source": [
    "\"\"\"\n",
    "Given three true tones\n",
    "Sample experiment\n",
    "\"\"\"\n",
    "expt_tones = np.arange(100,2000,1) #array of possible true tones\n",
    "log_freq_seq_array = np.arange(np.log10(expt_tones[0]), np.log10(expt_tones[-1]), \\\n",
    "                               np.log10(1003/1000)*30)\n",
    "\n",
    "training_trials, dist_chosen, tone_kind, low_dist, high_dist \\\n",
    "= task(freq_seq = expt_tones, n_trials = 500, n_tones = 3)"
   ]
  },
  {
   "cell_type": "code",
   "execution_count": 5,
   "metadata": {},
   "outputs": [
    {
     "data": {
      "image/png": "[encoded data removed]",
      "text/plain": [
       "<Figure size 432x288 with 2 Axes>"
      ]
     },
     "metadata": {
      "needs_background": "light"
     },
     "output_type": "display_data"
    }
   ],
   "source": [
    "\"\"\"\n",
    "Three tones\n",
    "Perceptual tones have a longer range than the experimental tones.\n",
    "This code snippet plots the posterior p(H|T_p1, T_p2, T_p3)\n",
    "\"\"\"\n",
    "# Parameters\n",
    "trial_tones = np.copy(training_trials)\n",
    "size = 1; n_tones = 3\n",
    "\n",
    "log_freq_percept = np.arange(np.log10(expt_tones[0])-0.5, np.log10(expt_tones[-1])+0.5, 0.05) \n",
    "\n",
    "_, _, _, _, posterior = \\\n",
    "posterior_array(log_freq_percept, n_tones=n_tones, p_back=0.3, p_low=0.5, \\\n",
    "               log_prior_low=low_dist, log_prior_high=high_dist)\n",
    "\n",
    "fig = plt.figure()\n",
    "ax = fig.add_subplot(111)\n",
    "colormap = ax.imshow(posterior[:,:,0], extent=[log_freq_percept[0], log_freq_percept[-1], \\\n",
    "                                               log_freq_percept[-1], log_freq_percept[0]])\n",
    "cbar = plt.colorbar(colormap, ax=ax)\n",
    "ax.invert_yaxis()\n",
    "ax.set_xlabel('Encoded frequency ($\\~{f}$)')\n",
    "ax.set_ylabel('Frequency (f)')\n",
    "plt.show()"
   ]
  },
  {
   "cell_type": "code",
   "execution_count": 6,
   "metadata": {},
   "outputs": [],
   "source": [
    "\"\"\"\n",
    "Trying two routes - 1. what if we have both sensory noise in that the perceived tones are from a gaussian \n",
    "whose mean is the true tone and we have decision noise in that the at a particular perceived tone the observer \n",
    "chooses high with probability p(H|T). So a trial is basically defined as [trial_tone, perceived_tone and decision]\n",
    "2. what if we only have sensory noise and the decision made is the best decision at a particular perceived tone. \n",
    "\n",
    "\"\"\"    \n",
    "\n",
    "all_trial_tones = np.empty((len(trial_tones)*size,n_tones))\n",
    "all_trial_behaviour = np.empty((len(trial_tones)*size,1))\n",
    "prob_trial_behaviour = np.empty((len(trial_tones),1))\n",
    "probability_high = np.zeros((len(trial_tones),1))\n",
    "probability_high_given_tone = np.zeros((len(trial_tones),n_tones))\n",
    "\n",
    "for i_stim in range(len(trial_tones)):\n",
    "    input_array = np.random.normal(loc=np.log10(trial_tones[i_stim]),scale=0.1,size=(size,1,n_tones)) \\\n",
    "    #pick tones from the gaussian with mean as log(true_tone) and sigma 0.1    \n",
    "    for i_tperc in range(size):\n",
    "        perc_tone_idxs = np.zeros((n_tones,1),dtype=int)\n",
    "        for i in range(n_tones):\n",
    "            perc_tone_idxs[i] = np.argmin(np.abs(log_freq_percept-input_array[i_tperc][0][i]))\n",
    "            # find relevant adjacent freq percepts   \n",
    "        posterior_perc_tone = posterior[perc_tone_idxs[0],perc_tone_idxs[1],perc_tone_idxs[2]]\n",
    "        # trial_behaviour = (np.random.random_sample() < np.squeeze(posterior_perc_tone)).astype(int)\n",
    "        # this encodes decision noise\n",
    "        trial_behaviour = np.squeeze(posterior_perc_tone) > 0.5\n",
    "        # this makes the same choice for one tone percept every time that tone is perceived   \n",
    "        all_trial_behaviour[i_stim*size+i_tperc,:] = trial_behaviour\n",
    "    all_trial_tones[i_stim*size:(i_stim+1)*size,:] = trial_tones[i_stim]    \n",
    "    prob_trial_behaviour[i_stim] = np.mean(all_trial_behaviour[i_stim*size:(i_stim+1)*size])\n",
    "    \n",
    "    gaussian_array_0 = np.expand_dims(gaussian(log_freq_percept, mean = np.log10(trial_tones[i_stim][0]), \\\n",
    "                                            sigma = 0.1), axis = 1)\n",
    "    gaussian_array_1 = np.expand_dims(gaussian(log_freq_percept, mean = np.log10(trial_tones[i_stim][1]), \\\n",
    "                                            sigma = 0.1), axis = 1)\n",
    "    gaussian_array_2 = np.expand_dims(gaussian(log_freq_percept, mean = np.log10(trial_tones[i_stim][2]), \\\n",
    "                                            sigma = 0.1), axis = 1)\n",
    "    gaussian_array_mat = np.expand_dims(gaussian_array_0@np.transpose(gaussian_array_1),\\\n",
    "                                        axis=2)@np.transpose(gaussian_array_2)             \n",
    "    gaussian_array_mat /= np.sum(gaussian_array_mat)\n",
    "    probability_high[i_stim] = np.sum(np.multiply(posterior>0.5, gaussian_array_mat))\n",
    "    \n",
    "\"\"\"\n",
    "Shuffling the tones and the behaviour to simluate an experiment\n",
    "\"\"\"\n",
    "s = np.arange(all_trial_tones.shape[0])\n",
    "np.random.shuffle(s)\n",
    "all_trial_tones = all_trial_tones[s]\n",
    "all_trial_behaviour = all_trial_behaviour[s]\n"
   ]
  },
  {
   "cell_type": "code",
   "execution_count": 7,
   "metadata": {},
   "outputs": [
    {
     "data": {
      "text/plain": [
       "[<matplotlib.lines.Line2D at 0x7f2378b119d0>]"
      ]
     },
     "execution_count": 7,
     "metadata": {},
     "output_type": "execute_result"
    },
    {
     "data": {
      "image/png": "[encoded data removed]",
      "text/plain": [
       "<Figure size 432x288 with 1 Axes>"
      ]
     },
     "metadata": {
      "needs_background": "light"
     },
     "output_type": "display_data"
    }
   ],
   "source": [
    "plt.plot(prob_trial_behaviour,'.')\n",
    "plt.plot(probability_high,'.')"
   ]
  },
  {
   "cell_type": "code",
   "execution_count": 8,
   "metadata": {},
   "outputs": [],
   "source": [
    "# define mle function\n",
    "def MLE(params):\n",
    "    log_prior_low_mean, log_prior_low_sigma, log_prior_high_mean, log_prior_high_sigma, p_back = \\\n",
    "    params[0], params[1], params[2], params[3], params[4] # inputs are guesses at our parameters\n",
    "    \n",
    "    prior_low = gaussian(x=log_freq_percept, mean=log_prior_low_mean, sigma=log_prior_low_sigma)\n",
    "    prior_high = gaussian(x=log_freq_percept, mean=log_prior_high_mean, sigma=log_prior_high_sigma)\n",
    "    prior_dist_mixed_high = p_back*(1/len(log_freq_percept)) + (1-p_back)*prior_high #mixture model\n",
    "    prior_dist_mixed_high /= prior_dist_mixed_high.sum() #normalizing\n",
    "    prior_dist_mixed_high = np.expand_dims(prior_dist_mixed_high, axis = 1)\n",
    "    prior_dist_mixed_low = p_back*(1/len(log_freq_percept)) + (1-p_back)*prior_low #mixture model\n",
    "    prior_dist_mixed_low /= prior_dist_mixed_low.sum() #normalizing\n",
    "    prior_dist_mixed_low = np.expand_dims(prior_dist_mixed_low, axis = 1)\n",
    "\n",
    "    if len(all_trial_tones[0]) == 3:\n",
    "        prior_tones_low = np.expand_dims(prior_dist_mixed_low@np.transpose\\\n",
    "                                         (prior_dist_mixed_low),axis=2)@np.transpose(prior_dist_mixed_low) \\\n",
    "        #p(T1,T2..|L) \n",
    "        prior_tones_high = np.expand_dims(prior_dist_mixed_high@np.transpose\\\n",
    "                                          (prior_dist_mixed_high),axis=2)@np.transpose(prior_dist_mixed_high) \\\n",
    "        #p(T1,T2..|H) \n",
    "        \n",
    "    elif len(all_trial_tones[0]) == 2:\n",
    "        prior_tones_low = prior_dist_mixed_low@np.transpose(prior_dist_mixed_low)\n",
    "        #p(T1,T2..|L) \n",
    "        prior_tones_high = prior_dist_mixed_high@np.transpose(prior_dist_mixed_high)\n",
    "        #p(T1,T2..|H) \n",
    "        \n",
    "    elif len(all_trial_tones[0]) == 1:\n",
    "        prior_tones_low = prior_dist_mixed_low\n",
    "        prior_tones_high = prior_dist_mixed_high\n",
    "    \n",
    "    p_low = 0.5 \n",
    "    normalizer = (1-p_low)*prior_tones_high + p_low*prior_tones_low #p(H)*p(T1,T2..|H) + p(L)*p(T1,T2..|L)\n",
    "    posterior = prior_tones_high*(1-p_low)/normalizer  \n",
    "        \n",
    "    neg_ll = 0; \n",
    "    probability_high = np.zeros((len(all_trial_tones),1))\n",
    "    for i_etrial in range(len(all_trial_tones)):\n",
    "        gaussian_array_0 = np.expand_dims(gaussian(log_freq_percept, \\\n",
    "                                                   mean = np.log10(all_trial_tones[i_etrial][0]), \\\n",
    "                                                   sigma = 0.1), axis = 1)\n",
    "        gaussian_array_1 = np.expand_dims(gaussian(log_freq_percept, \\\n",
    "                                                   mean = np.log10(all_trial_tones[i_etrial][1]), \\\n",
    "                                                   sigma = 0.1), axis = 1)\n",
    "        gaussian_array_2 = np.expand_dims(gaussian(log_freq_percept, \\\n",
    "                                                   mean = np.log10(all_trial_tones[i_etrial][2]), \\\n",
    "                                                   sigma = 0.1), axis = 1)\n",
    "        gaussian_array_mat = np.expand_dims(gaussian_array_0@np.transpose(gaussian_array_1),\\\n",
    "                                    axis=2)@np.transpose(gaussian_array_2)  \n",
    "        gaussian_array_mat /= np.sum(gaussian_array_mat)\n",
    "        probability_high[i_etrial] = np.sum(np.multiply(posterior>0.5, gaussian_array_mat))   \n",
    "\n",
    "        if all_trial_behaviour[i_etrial]:\n",
    "            neg_ll += -np.log(probability_high[i_etrial] + np.finfo(float).eps)\\\n",
    "            # if high dist is chosen by observer\n",
    "        else:\n",
    "            neg_ll += -np.log(1 - probability_high[i_etrial]+ np.finfo(float).eps) \\\n",
    "            # if low dist is chosen by observer\n",
    "        if np.isnan(np.log(probability_high[i_etrial] + 0.00001)) \\\n",
    "        or np.isinf(np.log(probability_high[i_etrial] + 0.00001)) \\\n",
    "        or np.isnan(np.log(1 - probability_high[i_etrial] + 0.00001)) \\\n",
    "        or np.isinf(np.log(1 - probability_high[i_etrial] + 0.00001)):\n",
    "            pdb.set_trace()        \n",
    "    return(neg_ll)"
   ]
  },
  {
   "cell_type": "code",
   "execution_count": 9,
   "metadata": {},
   "outputs": [
    {
     "data": {
      "application/vnd.jupyter.widget-view+json": {
       "model_id": "2857d39b3516474a9085e496ee3bee3d",
       "version_major": 2,
       "version_minor": 0
      },
      "text/plain": [
       "HBox(children=(HTML(value=''), FloatProgress(value=0.0, max=13.0), HTML(value='')))"
      ]
     },
     "metadata": {},
     "output_type": "display_data"
    },
    {
     "data": {
      "application/vnd.jupyter.widget-view+json": {
       "model_id": "",
       "version_major": 2,
       "version_minor": 0
      },
      "text/plain": [
       "HBox(children=(HTML(value='Low sigma'), FloatProgress(value=0.0, max=4.0), HTML(value='')))"
      ]
     },
     "metadata": {},
     "output_type": "display_data"
    },
    {
     "data": {
      "application/vnd.jupyter.widget-view+json": {
       "model_id": "",
       "version_major": 2,
       "version_minor": 0
      },
      "text/plain": [
       "HBox(children=(HTML(value='Low sigma'), FloatProgress(value=0.0, max=4.0), HTML(value='')))"
      ]
     },
     "metadata": {},
     "output_type": "display_data"
    },
    {
     "data": {
      "application/vnd.jupyter.widget-view+json": {
       "model_id": "",
       "version_major": 2,
       "version_minor": 0
      },
      "text/plain": [
       "HBox(children=(HTML(value='Low sigma'), FloatProgress(value=0.0, max=4.0), HTML(value='')))"
      ]
     },
     "metadata": {},
     "output_type": "display_data"
    },
    {
     "data": {
      "application/vnd.jupyter.widget-view+json": {
       "model_id": "",
       "version_major": 2,
       "version_minor": 0
      },
      "text/plain": [
       "HBox(children=(HTML(value='Low sigma'), FloatProgress(value=0.0, max=4.0), HTML(value='')))"
      ]
     },
     "metadata": {},
     "output_type": "display_data"
    },
    {
     "data": {
      "application/vnd.jupyter.widget-view+json": {
       "model_id": "",
       "version_major": 2,
       "version_minor": 0
      },
      "text/plain": [
       "HBox(children=(HTML(value='Low sigma'), FloatProgress(value=0.0, max=4.0), HTML(value='')))"
      ]
     },
     "metadata": {},
     "output_type": "display_data"
    },
    {
     "data": {
      "application/vnd.jupyter.widget-view+json": {
       "model_id": "",
       "version_major": 2,
       "version_minor": 0
      },
      "text/plain": [
       "HBox(children=(HTML(value='Low sigma'), FloatProgress(value=0.0, max=4.0), HTML(value='')))"
      ]
     },
     "metadata": {},
     "output_type": "display_data"
    },
    {
     "data": {
      "application/vnd.jupyter.widget-view+json": {
       "model_id": "",
       "version_major": 2,
       "version_minor": 0
      },
      "text/plain": [
       "HBox(children=(HTML(value='Low sigma'), FloatProgress(value=0.0, max=4.0), HTML(value='')))"
      ]
     },
     "metadata": {},
     "output_type": "display_data"
    },
    {
     "data": {
      "application/vnd.jupyter.widget-view+json": {
       "model_id": "",
       "version_major": 2,
       "version_minor": 0
      },
      "text/plain": [
       "HBox(children=(HTML(value='Low sigma'), FloatProgress(value=0.0, max=4.0), HTML(value='')))"
      ]
     },
     "metadata": {},
     "output_type": "display_data"
    },
    {
     "data": {
      "application/vnd.jupyter.widget-view+json": {
       "model_id": "",
       "version_major": 2,
       "version_minor": 0
      },
      "text/plain": [
       "HBox(children=(HTML(value='Low sigma'), FloatProgress(value=0.0, max=4.0), HTML(value='')))"
      ]
     },
     "metadata": {},
     "output_type": "display_data"
    },
    {
     "data": {
      "application/vnd.jupyter.widget-view+json": {
       "model_id": "",
       "version_major": 2,
       "version_minor": 0
      },
      "text/plain": [
       "HBox(children=(HTML(value='Low sigma'), FloatProgress(value=0.0, max=4.0), HTML(value='')))"
      ]
     },
     "metadata": {},
     "output_type": "display_data"
    },
    {
     "data": {
      "application/vnd.jupyter.widget-view+json": {
       "model_id": "",
       "version_major": 2,
       "version_minor": 0
      },
      "text/plain": [
       "HBox(children=(HTML(value='Low sigma'), FloatProgress(value=0.0, max=4.0), HTML(value='')))"
      ]
     },
     "metadata": {},
     "output_type": "display_data"
    },
    {
     "data": {
      "application/vnd.jupyter.widget-view+json": {
       "model_id": "",
       "version_major": 2,
       "version_minor": 0
      },
      "text/plain": [
       "HBox(children=(HTML(value='Low sigma'), FloatProgress(value=0.0, max=4.0), HTML(value='')))"
      ]
     },
     "metadata": {},
     "output_type": "display_data"
    },
    {
     "data": {
      "application/vnd.jupyter.widget-view+json": {
       "model_id": "",
       "version_major": 2,
       "version_minor": 0
      },
      "text/plain": [
       "HBox(children=(HTML(value='Low sigma'), FloatProgress(value=0.0, max=4.0), HTML(value='')))"
      ]
     },
     "metadata": {},
     "output_type": "display_data"
    },
    {
     "name": "stdout",
     "output_type": "stream",
     "text": [
      "\n"
     ]
    }
   ],
   "source": [
    "guess_low_mean = np.arange(2,2.6,0.05); guess_low_sigma = np.arange(0.05,0.2,0.05)\n",
    "guess_high_mean = np.arange(2.6,3.2,0.05); guess_high_sigma = np.arange(0.05,0.2,0.05)\n",
    "guess_p_back = np.arange(0.1,1,0.1); guess_p_low = np.arange(0.2,0.8,0.1)\n",
    "\"\"\"\n",
    "Constraining guesses of means of low and high distributions based on observed behaviour in figure shown above. \n",
    "Currently estimating only means and p_back.\n",
    "\"\"\"\n",
    "neg_ll_array = np.zeros((len(guess_low_mean),len(guess_low_sigma),\\\n",
    "                         len(guess_high_mean),len(guess_high_sigma),len(guess_p_back)))\n",
    "for lm in tqdm(range(len(guess_low_mean))):\n",
    "    for ls in tqdm(range(len(guess_low_sigma)), leave=False, desc=\"Low sigma\"):\n",
    "        for hm in range(len(guess_high_mean)):\n",
    "            for hs in range(len(guess_high_sigma)):\n",
    "                for pb in range(len(guess_p_back)):\n",
    "                    # for pl in range(len(guess_p_low)):\n",
    "                    params = [guess_low_mean[lm], guess_low_sigma[ls], guess_high_mean[hm], \\\n",
    "                              guess_high_sigma[hs], guess_p_back[pb]] # guess_p_low[pl]]\n",
    "                    # print(lm, hm, pb)\n",
    "                    neg_ll_array[lm,ls,hm,hs,pb] = MLE(params)      "
   ]
  },
  {
   "cell_type": "code",
   "execution_count": 12,
   "metadata": {},
   "outputs": [
    {
     "data": {
      "text/plain": [
       "(array([2.45]),\n",
       " array([0.1]),\n",
       " array([2.85]),\n",
       " array([0.15]),\n",
       " array([0.6]),\n",
       " 69.21485572033588)"
      ]
     },
     "execution_count": 12,
     "metadata": {},
     "output_type": "execute_result"
    }
   ],
   "source": [
    "# Means and p_back corresponding to the least negative log likelihood value\n",
    "idxs = np.where(neg_ll_array == np.amin(neg_ll_array)) \n",
    "guess_low_mean[idxs[0]], guess_low_sigma[idxs[1]],  guess_high_mean[idxs[2]], \\\n",
    "guess_high_sigma[idxs[3]], guess_p_back[idxs[4]], np.amin((neg_ll_array))"
   ]
  },
  {
   "cell_type": "code",
   "execution_count": 20,
   "metadata": {},
   "outputs": [
    {
     "data": {
      "image/png": "[encoded data removed]",
      "text/plain": [
       "<Figure size 432x288 with 1 Axes>"
      ]
     },
     "metadata": {
      "needs_background": "light"
     },
     "output_type": "display_data"
    }
   ],
   "source": [
    "# Influence plots the way we currently understand them (11-17-2020)\n",
    "\n",
    "unique_tones = np.unique(all_trial_tones)\n",
    "tone1_prob_behaviour = np.zeros((log_freq_seq_array.shape))\n",
    "tone2_prob_behaviour = np.zeros((log_freq_seq_array.shape))\n",
    "tone3_prob_behaviour = np.zeros((log_freq_seq_array.shape))\n",
    "\n",
    "for i_tone in range(len(unique_tones)):\n",
    "    tone1_prob_behaviour[i_tone] = np.mean(all_trial_behaviour[all_trial_tones[:,0]\\\n",
    "                                                       ==unique_tones[i_tone]])\n",
    "    tone2_prob_behaviour[i_tone] = np.mean(all_trial_behaviour[all_trial_tones[:,1]\\\n",
    "                                                       ==unique_tones[i_tone]])\n",
    "    tone3_prob_behaviour[i_tone] = np.mean(all_trial_behaviour[all_trial_tones[:,2]\\\n",
    "                                                       ==unique_tones[i_tone]])\n",
    "plt.plot(np.log10(unique_tones), tone1_prob_behaviour)\n",
    "plt.plot(np.log10(unique_tones), tone2_prob_behaviour)\n",
    "plt.plot(np.log10(unique_tones), tone3_prob_behaviour)\n",
    "\"\"\"\n",
    "tone1_prob_behaviour = np.zeros((log_freq_seq_array.shape))\n",
    "tone2_prob_behaviour = np.zeros((log_freq_seq_array.shape))\n",
    "tone3_prob_behaviour = np.zeros((log_freq_seq_array.shape))\n",
    "\n",
    "for i_tone in range(len(unique_tones)):\n",
    "    tone1_prob_behaviour[i_tone] = np.mean(prob_trial_behaviour[trial_tones[:,0]\\\n",
    "                                                       ==unique_tones[i_tone]])\n",
    "    tone2_prob_behaviour[i_tone] = np.mean(prob_trial_behaviour[trial_tones[:,1]\\\n",
    "                                                       ==unique_tones[i_tone]])\n",
    "    tone3_prob_behaviour[i_tone] = np.mean(prob_trial_behaviour[trial_tones[:,2]\\\n",
    "                                                       ==unique_tones[i_tone]])\n",
    "plt.plot(tone1_prob_behaviour)\n",
    "plt.plot(tone2_prob_behaviour)\n",
    "plt.plot(tone3_prob_behaviour)\n",
    "\n",
    "tone1_prob_behaviour = np.zeros((log_freq_seq_array.shape))\n",
    "tone2_prob_behaviour = np.zeros((log_freq_seq_array.shape))\n",
    "tone3_prob_behaviour = np.zeros((log_freq_seq_array.shape))\n",
    "\n",
    "for i_tone in range(len(unique_tones)):\n",
    "    tone1_prob_behaviour[i_tone] = np.mean(probability_high[trial_tones[:,0]\\\n",
    "                                                       ==unique_tones[i_tone]])\n",
    "    tone2_prob_behaviour[i_tone] = np.mean(probability_high[trial_tones[:,1]\\\n",
    "                                                       ==unique_tones[i_tone]])\n",
    "    tone3_prob_behaviour[i_tone] = np.mean(probability_high[trial_tones[:,2]\\\n",
    "                                                       ==unique_tones[i_tone]])\n",
    "plt.plot(tone1_prob_behaviour)\n",
    "plt.plot(tone2_prob_behaviour)\n",
    "plt.plot(tone3_prob_behaviour)\n",
    "\n",
    "for i_stim in range(len(trial_tones)):\n",
    "    _, _, true_tone_high_prior, true_tone_low_prior, _ = \\\n",
    "    posterior_array(log_freq_seq_array, n_tones=2, p_back=0.3, p_low=0.5, \\\n",
    "                    log_prior_low=low_dist, log_prior_high=high_dist)\n",
    "    for i_tone in range(n_tones): \n",
    "        i_tone_left = np.delete(range(n_tones),i_tone)\n",
    "        freq_idx0 = np.where(unique_tones==trial_tones[i_stim][i_tone_left[0]])[0]\n",
    "        freq_idx1 = np.where(unique_tones==trial_tones[i_stim][i_tone_left[1]])[0]\n",
    "        probability_high_given_tone[i_stim,i_tone] = probability_high[i_stim]*\\\n",
    "        (true_tone_high_prior[freq_idx0,freq_idx1]*0.5+\\\n",
    "         true_tone_low_prior[freq_idx0,freq_idx1]*0.5)\n",
    "\n",
    "tone1_prob_behaviour = np.zeros((log_freq_seq_array.shape))\n",
    "tone2_prob_behaviour = np.zeros((log_freq_seq_array.shape))\n",
    "tone3_prob_behaviour = np.zeros((log_freq_seq_array.shape))\n",
    "\n",
    "for i_tone in range(len(unique_tones)):\n",
    "    tone1_prob_behaviour[i_tone] = \\\n",
    "    np.mean(probability_high_given_tone[trial_tones[:,0]==unique_tones[i_tone],0])\n",
    "    tone2_prob_behaviour[i_tone] = \\\n",
    "    np.mean(probability_high_given_tone[trial_tones[:,1]==unique_tones[i_tone],1])\n",
    "    tone3_prob_behaviour[i_tone] = \\\n",
    "    np.mean(probability_high_given_tone[trial_tones[:,2]==unique_tones[i_tone],2])\n",
    "plt.plot((tone1_prob_behaviour+tone2_prob_behaviour+tone3_prob_behaviour)*150/3)\n",
    "\"\"\"\n",
    "y = (tone1_prob_behaviour+tone2_prob_behaviour+tone3_prob_behaviour)/3\n",
    "x = np.log10(unique_tones)\n",
    "plt.plot(np.log10(unique_tones), (tone1_prob_behaviour+tone2_prob_behaviour+tone3_prob_behaviour)/3,'k')\n",
    "\n",
    "_, _, _, _, posterior = \\\n",
    "posterior_array(log_freq_seq_array, n_tones=1, p_back=guess_p_back[idxs[4]], p_low=0.5, \\\n",
    "               log_prior_low=[guess_low_mean[idxs[0]], guess_low_sigma[idxs[1]]],\\\n",
    "                log_prior_high=[ guess_high_mean[idxs[2]], guess_high_sigma[idxs[3]]])\n",
    "plt.plot(np.log10(unique_tones), posterior,'ko')\n",
    "plt.xlabel('Tone')\n",
    "plt.ylabel('p(B_H|T)')\n",
    "\n",
    "plt.savefig('figures/experimenter=simulations_300_2000hz_range.png')"
   ]
  },
  {
   "cell_type": "code",
   "execution_count": 22,
   "metadata": {},
   "outputs": [
    {
     "name": "stdout",
     "output_type": "stream",
     "text": [
      "Parameter type | Parameter value | Standard error | t | P > np.abs(t) (p-value)\n",
      "Beta | 0.417 | 0.065 | 6.456 | 0.0\n",
      "Beta | 4.898 | 2.439 | 2.009 | 0.058\n",
      "Beta | -7.305 | 2.459 | -2.971 | 0.008\n",
      "Beta | 3.408 | 0.443 | 7.684 | 0.0\n",
      "Beta | 5.008 | 1.209 | 4.141 | 0.001\n",
      "Beta | -6.408 | 1.182 | -5.421 | 0.0\n",
      "Beta | -9.362 | 25.15 | -0.372 | 0.714\n",
      "Beta | 12.339 | 24.295 | 0.508 | 0.617\n",
      "Breakpoint | 2.057 | 0.016 | 129.702 | 0.0\n",
      "Breakpoint | 2.341 | 0.021 | 114.154 | 0.0\n",
      "Breakpoint | 2.608 | 0.018 | 145.508 | 0.0\n",
      "Breakpoint | 2.722 | 0.014 | 199.138 | 0.0\n",
      "Breakpoint | 3.13 | 0.01 | 306.958 | 0.0\n",
      "Breakpoint | 3.171 | 0.085 | 37.085 | 0.0\n"
     ]
    },
    {
     "data": {
      "image/png": "[encoded data removed]",
      "text/plain": [
       "<Figure size 432x288 with 1 Axes>"
      ]
     },
     "metadata": {
      "needs_background": "light"
     },
     "output_type": "display_data"
    }
   ],
   "source": [
    "y = (tone1_prob_behaviour+tone2_prob_behaviour+tone3_prob_behaviour)/3\n",
    "x = np.log10(unique_tones)\n",
    "\n",
    "# initialize piecewise linear fit with your x and y data\n",
    "my_pwlf = pwlf.PiecewiseLinFit(x, y)\n",
    "\n",
    "# fit the data with line segments\n",
    "res = my_pwlf.fit(7)\n",
    "\n",
    "# predict for the determined points\n",
    "xHat = np.linspace(min(x), max(x), num=10000)\n",
    "yHat = my_pwlf.predict(xHat)\n",
    "\n",
    "# plot the results\n",
    "plt.figure()\n",
    "plt.plot(x, y, 'o')\n",
    "plt.plot(xHat, yHat, '-')\n",
    "plt.xlabel('Tone')\n",
    "plt.ylabel('p(B_H|T)')\n",
    "plt.savefig('figures/experimenter=simulations_linear_fit.png')\n",
    "\n",
    "p = my_pwlf.p_values(method='non-linear', step_size=1e-4)\n",
    "se = my_pwlf.se  # standard errors\n",
    "\n",
    "parameters = np.concatenate((my_pwlf.beta,\n",
    "                             my_pwlf.fit_breaks[1:-1]))\n",
    "\n",
    "header = ['Parameter type', 'Parameter value', 'Standard error', 't',\n",
    "          'P > np.abs(t) (p-value)']\n",
    "print(*header, sep=' | ')\n",
    "values = np.zeros((parameters.size, 5), dtype=np.object_)\n",
    "values[:, 1] = np.around(parameters, decimals=3)\n",
    "values[:, 2] = np.around(se, decimals=3)\n",
    "values[:, 3] = np.around(parameters / se, decimals=3)\n",
    "values[:, 4] = np.around(p, decimals=3)\n",
    "\n",
    "for i, row in enumerate(values):\n",
    "    if i < my_pwlf.beta.size:\n",
    "        row[0] = 'Beta'\n",
    "        print(*row, sep=' | ')\n",
    "    else:\n",
    "        row[0] = 'Breakpoint'\n",
    "        print(*row, sep=' | ')"
   ]
  },
  {
   "cell_type": "code",
   "execution_count": 14,
   "metadata": {},
   "outputs": [
    {
     "name": "stdout",
     "output_type": "stream",
     "text": [
      "Equation number:  1\n",
      "4.89871421028826*x - 9.38076391574345\n",
      "Equation number:  2\n",
      "5.64966450290487 - 2.40699579736458*x\n",
      "Equation number:  3\n",
      "1.00059142612067*x - 2.32804251485643\n",
      "Equation number:  4\n",
      "6.00877916295542*x - 15.3905849990973\n",
      "Equation number:  5\n",
      "2.04868691032219 - 0.399101599387402*x\n",
      "Equation number:  6\n",
      "48.3611144654815 - 15.1922974557624*x\n",
      "Equation number:  7\n",
      "2.57877465265585*x - 7.77581820565499\n"
     ]
    }
   ],
   "source": [
    "from sympy import Symbol\n",
    "from sympy.utilities import lambdify\n",
    "x = Symbol('x')\n",
    "\n",
    "\n",
    "def get_symbolic_eqn(pwlf_, segment_number):\n",
    "    if pwlf_.degree < 1:\n",
    "        raise ValueError('Degree must be at least 1')\n",
    "    if segment_number < 1 or segment_number > pwlf_.n_segments:\n",
    "        raise ValueError('segment_number not possible')\n",
    "    # assemble degree = 1 first\n",
    "    for line in range(segment_number):\n",
    "        if line == 0:\n",
    "            my_eqn = pwlf_.beta[0] + (pwlf_.beta[1])*(x-pwlf_.fit_breaks[0])\n",
    "        else:\n",
    "            my_eqn += (pwlf_.beta[line+1])*(x-pwlf_.fit_breaks[line])\n",
    "    # assemble all other degrees\n",
    "    if pwlf_.degree > 1:\n",
    "        for k in range(2, pwlf_.degree + 1):\n",
    "            for line in range(segment_number):\n",
    "                beta_index = pwlf_.n_segments*(k-1) + line + 1 \n",
    "                my_eqn += (pwlf_.beta[beta_index])*(x-pwlf_.fit_breaks[line])**k\n",
    "    return my_eqn.simplify()\n",
    "\n",
    "\n",
    "eqn_list = []\n",
    "f_list = []\n",
    "for i in range(my_pwlf.n_segments):\n",
    "    eqn_list.append(get_symbolic_eqn(my_pwlf, i + 1))\n",
    "    print('Equation number: ', i + 1)\n",
    "    print(eqn_list[-1])\n",
    "    f_list.append(lambdify(x, eqn_list[-1]))"
   ]
  },
  {
   "cell_type": "code",
   "execution_count": null,
   "metadata": {},
   "outputs": [],
   "source": [
    "for i in range(len(unique_tones)):    \n",
    "    print(unique_tones[i],np.sum(all_trial_tones[:,0]==unique_tones[i]))"
   ]
  },
  {
   "cell_type": "code",
   "execution_count": null,
   "metadata": {},
   "outputs": [],
   "source": []
  }
 ],
 "metadata": {
  "kernelspec": {
   "display_name": "Python 3",
   "language": "python",
   "name": "python3"
  },
  "language_info": {
   "codemirror_mode": {
    "name": "ipython",
    "version": 3
   },
   "file_extension": ".py",
   "mimetype": "text/x-python",
   "name": "python",
   "nbconvert_exporter": "python",
   "pygments_lexer": "ipython3",
   "version": "3.7.8"
  }
 },
 "nbformat": 4,
 "nbformat_minor": 4
}
