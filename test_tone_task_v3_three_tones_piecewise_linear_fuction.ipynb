{
 "cells": [
  {
   "cell_type": "code",
   "execution_count": 1,
   "metadata": {},
   "outputs": [],
   "source": [
    "import numpy as np\n",
    "import matplotlib.pyplot as plt\n",
    "import pdb\n",
    "from scipy.optimize import minimize\n",
    "from scipy.stats import multivariate_normal\n",
    "from tqdm.notebook import tqdm\n",
    "import random"
   ]
  },
  {
   "cell_type": "code",
   "execution_count": 2,
   "metadata": {},
   "outputs": [],
   "source": [
    "def gaussian(x, mean, sigma):\n",
    "    return np.exp(-(x-mean)**2/(2*sigma**2))\n",
    "\n",
    "def posterior_array(log_freq_percept, n_tones, p_back, p_low, \n",
    "                    log_prior_low, log_prior_high):\n",
    "    \"\"\"\n",
    "    Arguments: \n",
    "    log_freq_percept - range of all possible frequencies (percepts?)\n",
    "    p_back - prob of background, p_low - prob of low condition\n",
    "    log_prior_low - gaussian of low condition\n",
    "    log_prior_high - gaussian of high condition\n",
    "    \"\"\"\n",
    "    \n",
    "    log_prior_low_mean = log_prior_low[0]; log_prior_low_sigma = log_prior_low[1];\n",
    "    log_prior_high_mean = log_prior_high[0]; log_prior_high_sigma = log_prior_high[1];\n",
    "    prior_low = gaussian(x=log_freq_percept, mean=log_prior_low_mean, sigma=log_prior_low_sigma)\n",
    "    prior_high = gaussian(x=log_freq_percept, mean=log_prior_high_mean, sigma=log_prior_high_sigma)\n",
    "    prior_dist_mixed_high = p_back*(1/len(log_freq_percept)) + (1-p_back)*prior_high \\\n",
    "    #mixture model with p(T|B) = 1/no. of possible freqs\n",
    "    prior_dist_mixed_high /= prior_dist_mixed_high.sum() #normalizing\n",
    "    prior_dist_mixed_high = np.expand_dims(prior_dist_mixed_high, axis = 1)\n",
    "    prior_dist_mixed_low = p_back*(1/len(log_freq_percept)) + (1-p_back)*prior_low \\\n",
    "    #mixture model with p(T|B) = 1/no. of possible freqs\n",
    "    prior_dist_mixed_low /= prior_dist_mixed_low.sum() #normalizing\n",
    "    prior_dist_mixed_low = np.expand_dims(prior_dist_mixed_low, axis = 1)\n",
    "    \n",
    "    if n_tones == 3:\n",
    "        prior_tones_low = np.expand_dims(prior_dist_mixed_low@np.transpose\\\n",
    "                                         (prior_dist_mixed_low),axis=2)@np.transpose(prior_dist_mixed_low) \\\n",
    "        #p(T1,T2..|L) \n",
    "        prior_tones_high = np.expand_dims(prior_dist_mixed_high@np.transpose\\\n",
    "                                          (prior_dist_mixed_high),axis=2)@np.transpose(prior_dist_mixed_high) \\\n",
    "        #p(T1,T2..|H) \n",
    "    elif n_tones == 2:\n",
    "        prior_tones_low = prior_dist_mixed_low@np.transpose(prior_dist_mixed_low)\n",
    "        prior_tones_high = prior_dist_mixed_high@np.transpose(prior_dist_mixed_high)\n",
    "        \n",
    "    elif n_tones == 1:\n",
    "        prior_tones_low = prior_dist_mixed_low\n",
    "        prior_tones_high = prior_dist_mixed_high\n",
    "        \n",
    "    normalizer = (1-p_low)*prior_tones_high + p_low*prior_tones_low #p(H)*p(T1,T2..|H) + p(L)*p(T1,T2..|L)\n",
    "    posterior = prior_tones_high*(1-p_low)/normalizer\n",
    "    # posterior /= np.sum(posterior)\n",
    "    \n",
    "    return prior_dist_mixed_high, prior_dist_mixed_low, prior_tones_low, prior_tones_high, normalizer, posterior"
   ]
  },
  {
   "cell_type": "code",
   "execution_count": 3,
   "metadata": {},
   "outputs": [],
   "source": [
    "# experimental task\n",
    "def task(freq_seq, n_trials = 10, n_tones = 3, p_low = 0.5, p_back = 0.3):\n",
    "    log_freq_seq_array = np.arange(np.log10(freq_seq[0]), np.log10(freq_seq[-1]), \\\n",
    "                                   np.log10(1003/1000)*30)\n",
    "    print(log_freq_seq_array)\n",
    "    log_freq_seq_mid = np.median(log_freq_seq_array)\n",
    "    log_freq_low = [log_freq_seq_mid - 0.2,0.1]  #low freq condition is gaussian \n",
    "    log_freq_high = [log_freq_seq_mid + 0.2,0.1] #high freq condition is gaussian\n",
    "    trial_tones = []\n",
    "    dist_chosen = []\n",
    "    kind_of_tones = []\n",
    "\n",
    "    for trial in range(n_trials):\n",
    "        signal_rand = np.random.random()\n",
    "        low_dist = signal_rand < p_low #choosing true tone from either low or high condition\n",
    "        tones = []\n",
    "        tone_kind = []\n",
    "        for n_tone in range(n_tones):\n",
    "            signal_back = np.random.random()\n",
    "            background = signal_back < p_back #choosing background or true tone\n",
    "            if background:\n",
    "                nearest_log_tone = np.random.choice(log_freq_seq_array)\n",
    "                #background freq is chosen from a uniform distribution\n",
    "                tone_kind.append(0)\n",
    "            else: \n",
    "                if low_dist:\n",
    "                    tone = min(max(np.random.randn()*log_freq_low[1] + log_freq_low[0],\\\n",
    "                                   log_freq_seq_array[0]),log_freq_seq_array[-1])                    \n",
    "                    tone_kind.append(1)\n",
    "                else:\n",
    "                    tone = min(max(np.random.randn()*log_freq_high[1] + log_freq_high[0],\\\n",
    "                                   log_freq_seq_array[0]),log_freq_seq_array[-1])\n",
    "                    tone_kind.append(2)\n",
    "                nearest_log_tone = log_freq_seq_array[np.argmin(np.abs(log_freq_seq_array \\\n",
    "                                                                       - tone))]\n",
    "            nearest_tone = freq_seq[np.argmin(np.abs(freq_seq - 10**nearest_log_tone))]        \n",
    "            tones.append(nearest_tone)\n",
    "        trial_tones.append(tones)\n",
    "        dist_chosen.append(low_dist)\n",
    "        kind_of_tones.append(tone_kind)\n",
    "    return trial_tones, dist_chosen, kind_of_tones, log_freq_low, log_freq_high"
   ]
  },
  {
   "cell_type": "code",
   "execution_count": 4,
   "metadata": {},
   "outputs": [
    {
     "name": "stdout",
     "output_type": "stream",
     "text": [
      "[2.         2.03902799 2.07805598 2.11708397 2.15611196 2.19513995\n",
      " 2.23416794 2.27319593 2.31222392 2.35125192 2.39027991 2.4293079\n",
      " 2.46833589 2.50736388 2.54639187 2.58541986 2.62444785 2.66347584\n",
      " 2.70250383 2.74153182 2.78055981 2.8195878  2.85861579 2.89764378\n",
      " 2.93667177 2.97569977 3.01472776 3.05375575 3.09278374 3.13181173\n",
      " 3.17083972 3.20986771 3.2488957  3.28792369]\n"
     ]
    }
   ],
   "source": [
    "\"\"\"\n",
    "Given three true tones\n",
    "Sample experiment\n",
    "\"\"\"\n",
    "expt_tones = np.arange(100,2000,1) #array of possible true tones\n",
    "log_freq_seq_array = np.arange(np.log10(expt_tones[0]), np.log10(expt_tones[-1]), \\\n",
    "                               np.log10(1003/1000)*30)\n",
    "\n",
    "training_trials, dist_chosen, tone_kind, low_dist, high_dist \\\n",
    "= task(freq_seq = expt_tones, n_trials = 500, n_tones = 3)"
   ]
  },
  {
   "cell_type": "code",
   "execution_count": 5,
   "metadata": {},
   "outputs": [
    {
     "data": {
      "image/png": "[encoded data removed]",
      "text/plain": [
       "<Figure size 432x288 with 2 Axes>"
      ]
     },
     "metadata": {
      "needs_background": "light"
     },
     "output_type": "display_data"
    }
   ],
   "source": [
    "\"\"\"\n",
    "Three tones\n",
    "Perceptual tones have a longer range than the experimental tones.\n",
    "This code snippet plots the posterior p(H|T_p1, T_p2, T_p3)\n",
    "\"\"\"\n",
    "# Parameters\n",
    "trial_tones = np.copy(training_trials)\n",
    "size = 1; n_tones = 3\n",
    "\n",
    "log_freq_percept = np.arange(np.log10(expt_tones[0])-0.5, np.log10(expt_tones[-1])+0.5, 0.05) \n",
    "\n",
    "_, _, _, _, _, posterior = \\\n",
    "posterior_array(log_freq_percept, n_tones=n_tones, p_back=0.3, p_low=0.5, \\\n",
    "               log_prior_low=low_dist, log_prior_high=high_dist)\n",
    "\n",
    "fig = plt.figure()\n",
    "ax = fig.add_subplot(111)\n",
    "colormap = ax.imshow(posterior[:,:,0], extent=[log_freq_percept[0], log_freq_percept[-1], \\\n",
    "                                               log_freq_percept[-1], log_freq_percept[0]])\n",
    "cbar = plt.colorbar(colormap, ax=ax)\n",
    "ax.invert_yaxis()\n",
    "ax.set_xlabel('Encoded frequency ($\\~{f}$)')\n",
    "ax.set_ylabel('Frequency (f)')\n",
    "plt.show()"
   ]
  },
  {
   "cell_type": "code",
   "execution_count": 6,
   "metadata": {},
   "outputs": [
    {
     "data": {
      "text/plain": [
       "'\\nShuffling the tones and the behaviour to simluate an experiment\\n\\ns = np.arange(all_trial_tones.shape[0])\\nnp.random.shuffle(s)\\nall_trial_tones = all_trial_tones[s]\\nall_trial_behaviour = all_trial_behaviour[s]\\n'"
      ]
     },
     "execution_count": 6,
     "metadata": {},
     "output_type": "execute_result"
    }
   ],
   "source": [
    "\"\"\"\n",
    "Trying two routes - 1. what if we have both sensory noise in that the perceived tones are from a gaussian \n",
    "whose mean is the true tone and we have decision noise in that the at a particular perceived tone the observer \n",
    "chooses high with probability p(H|T). So a trial is basically defined as [trial_tone, perceived_tone and decision]\n",
    "2. what if we only have sensory noise and the decision made is the best decision at a particular perceived tone. \n",
    "\n",
    "\"\"\"    \n",
    "\n",
    "all_trial_tones = np.empty((len(trial_tones)*size,n_tones))\n",
    "all_trial_behaviour = np.empty((len(trial_tones)*size,1))\n",
    "prob_trial_behaviour = np.empty((len(trial_tones),1))\n",
    "probability_sim_high = np.zeros((len(trial_tones),1))\n",
    "probability_high_given_tone = np.zeros((len(trial_tones),n_tones))\n",
    "\n",
    "for i_stim in range(len(trial_tones)):\n",
    "    input_array = np.random.normal(loc=np.log10(trial_tones[i_stim]),scale=0.1,size=(size,1,n_tones)) \\\n",
    "    #pick tones from the gaussian with mean as log(true_tone) and sigma 0.1    \n",
    "    for i_tperc in range(size):\n",
    "        perc_tone_idxs = np.zeros((n_tones,1),dtype=int)\n",
    "        for i in range(n_tones):\n",
    "            perc_tone_idxs[i] = np.argmin(np.abs(log_freq_percept-input_array[i_tperc][0][i]))\n",
    "            # find relevant adjacent freq percepts   \n",
    "        posterior_perc_tone = posterior[perc_tone_idxs[0],perc_tone_idxs[1],perc_tone_idxs[2]]\n",
    "        # trial_behaviour = (np.random.random_sample() < np.squeeze(posterior_perc_tone)).astype(int)\n",
    "        # this encodes decision noise\n",
    "        trial_behaviour = np.squeeze(posterior_perc_tone) > 0.5\n",
    "        # this makes the same choice for one tone percept every time that tone is perceived   \n",
    "        all_trial_behaviour[i_stim*size+i_tperc,:] = trial_behaviour\n",
    "    all_trial_tones[i_stim*size:(i_stim+1)*size,:] = trial_tones[i_stim]    \n",
    "    prob_trial_behaviour[i_stim] = np.mean(all_trial_behaviour[i_stim*size:(i_stim+1)*size])\n",
    "    \n",
    "    gaussian_array_0 = np.expand_dims(gaussian(log_freq_percept, mean = np.log10(trial_tones[i_stim][0]), \\\n",
    "                                            sigma = 0.1), axis = 1)\n",
    "    gaussian_array_1 = np.expand_dims(gaussian(log_freq_percept, mean = np.log10(trial_tones[i_stim][1]), \\\n",
    "                                            sigma = 0.1), axis = 1)\n",
    "    gaussian_array_2 = np.expand_dims(gaussian(log_freq_percept, mean = np.log10(trial_tones[i_stim][2]), \\\n",
    "                                            sigma = 0.1), axis = 1)\n",
    "    gaussian_array_mat = np.expand_dims(gaussian_array_0@np.transpose(gaussian_array_1),\\\n",
    "                                        axis=2)@np.transpose(gaussian_array_2)             \n",
    "    gaussian_array_mat /= np.sum(gaussian_array_mat)\n",
    "    probability_sim_high[i_stim] = np.sum(np.multiply(posterior>0.5, gaussian_array_mat))\n",
    "    \n",
    "\"\"\"\n",
    "Shuffling the tones and the behaviour to simluate an experiment\n",
    "\n",
    "s = np.arange(all_trial_tones.shape[0])\n",
    "np.random.shuffle(s)\n",
    "all_trial_tones = all_trial_tones[s]\n",
    "all_trial_behaviour = all_trial_behaviour[s]\n",
    "\"\"\""
   ]
  },
  {
   "cell_type": "code",
   "execution_count": 7,
   "metadata": {},
   "outputs": [
    {
     "name": "stdout",
     "output_type": "stream",
     "text": [
      "452\n"
     ]
    }
   ],
   "source": [
    "s=0\n",
    "for i in range(500):\n",
    "    s+=int(dist_chosen[i]!=all_trial_behaviour[i])\n",
    "print(s)"
   ]
  },
  {
   "cell_type": "code",
   "execution_count": 9,
   "metadata": {},
   "outputs": [],
   "source": [
    "# define mle function\n",
    "def MLE(params):\n",
    "    log_prior_low_mean, log_prior_low_sigma, log_prior_high_mean, log_prior_high_sigma, p_back = \\\n",
    "    params[0], params[1], params[2], params[3], params[4] # inputs are guesses at our parameters\n",
    "    \n",
    "    prior_low = gaussian(x=log_freq_percept, mean=log_prior_low_mean, sigma=log_prior_low_sigma)\n",
    "    prior_high = gaussian(x=log_freq_percept, mean=log_prior_high_mean, sigma=log_prior_high_sigma)\n",
    "    prior_dist_mixed_high = p_back*(1/len(log_freq_percept)) + (1-p_back)*prior_high #mixture model\n",
    "    prior_dist_mixed_high /= prior_dist_mixed_high.sum() #normalizing\n",
    "    prior_dist_mixed_high = np.expand_dims(prior_dist_mixed_high, axis = 1)\n",
    "    prior_dist_mixed_low = p_back*(1/len(log_freq_percept)) + (1-p_back)*prior_low #mixture model\n",
    "    prior_dist_mixed_low /= prior_dist_mixed_low.sum() #normalizing\n",
    "    prior_dist_mixed_low = np.expand_dims(prior_dist_mixed_low, axis = 1)\n",
    "\n",
    "    if len(all_trial_tones[0]) == 3:\n",
    "        prior_tones_low = np.expand_dims(prior_dist_mixed_low@np.transpose\\\n",
    "                                         (prior_dist_mixed_low),axis=2)@np.transpose(prior_dist_mixed_low) \\\n",
    "        #p(T1,T2..|L) \n",
    "        prior_tones_high = np.expand_dims(prior_dist_mixed_high@np.transpose\\\n",
    "                                          (prior_dist_mixed_high),axis=2)@np.transpose(prior_dist_mixed_high) \\\n",
    "        #p(T1,T2..|H) \n",
    "        \n",
    "    elif len(all_trial_tones[0]) == 2:\n",
    "        prior_tones_low = prior_dist_mixed_low@np.transpose(prior_dist_mixed_low)\n",
    "        #p(T1,T2..|L) \n",
    "        prior_tones_high = prior_dist_mixed_high@np.transpose(prior_dist_mixed_high)\n",
    "        #p(T1,T2..|H) \n",
    "        \n",
    "    elif len(all_trial_tones[0]) == 1:\n",
    "        prior_tones_low = prior_dist_mixed_low\n",
    "        prior_tones_high = prior_dist_mixed_high\n",
    "    \n",
    "    p_low = 0.5 \n",
    "    normalizer = (1-p_low)*prior_tones_high + p_low*prior_tones_low #p(H)*p(T1,T2..|H) + p(L)*p(T1,T2..|L)\n",
    "    posterior = prior_tones_high*(1-p_low)/normalizer  \n",
    "        \n",
    "    neg_ll = 0; \n",
    "    probability_high = np.zeros((len(all_trial_tones),1))\n",
    "    for i_etrial in range(len(all_trial_tones)):\n",
    "        gaussian_array_0 = np.expand_dims(gaussian(log_freq_percept, \\\n",
    "                                                   mean = np.log10(all_trial_tones[i_etrial][0]), \\\n",
    "                                                   sigma = 0.1), axis = 1)\n",
    "        gaussian_array_1 = np.expand_dims(gaussian(log_freq_percept, \\\n",
    "                                                   mean = np.log10(all_trial_tones[i_etrial][1]), \\\n",
    "                                                   sigma = 0.1), axis = 1)\n",
    "        gaussian_array_2 = np.expand_dims(gaussian(log_freq_percept, \\\n",
    "                                                   mean = np.log10(all_trial_tones[i_etrial][2]), \\\n",
    "                                                   sigma = 0.1), axis = 1)\n",
    "        gaussian_array_mat = np.expand_dims(gaussian_array_0@np.transpose(gaussian_array_1),\\\n",
    "                                    axis=2)@np.transpose(gaussian_array_2)  \n",
    "        gaussian_array_mat /= np.sum(gaussian_array_mat)\n",
    "        probability_high[i_etrial] = np.sum(np.multiply(posterior>0.5, gaussian_array_mat))   \n",
    "\n",
    "        if all_trial_behaviour[i_etrial]:\n",
    "            neg_ll += -np.log(probability_high[i_etrial] + np.finfo(float).eps)\\\n",
    "            # if high dist is chosen by observer\n",
    "        else:\n",
    "            neg_ll += -np.log(1 - probability_high[i_etrial]+ np.finfo(float).eps) \\\n",
    "            # if low dist is chosen by observer\n",
    "        if np.isnan(np.log(probability_high[i_etrial] + 0.00001)) \\\n",
    "        or np.isinf(np.log(probability_high[i_etrial] + 0.00001)) \\\n",
    "        or np.isnan(np.log(1 - probability_high[i_etrial] + 0.00001)) \\\n",
    "        or np.isinf(np.log(1 - probability_high[i_etrial] + 0.00001)):\n",
    "            pdb.set_trace()        \n",
    "    return(neg_ll)"
   ]
  },
  {
   "cell_type": "code",
   "execution_count": 10,
   "metadata": {},
   "outputs": [
    {
     "data": {
      "application/vnd.jupyter.widget-view+json": {
       "model_id": "a67b88889c3a4adaaac75a90a4dd7b63",
       "version_major": 2,
       "version_minor": 0
      },
      "text/plain": [
       "HBox(children=(HTML(value=''), FloatProgress(value=0.0, max=13.0), HTML(value='')))"
      ]
     },
     "metadata": {},
     "output_type": "display_data"
    },
    {
     "data": {
      "application/vnd.jupyter.widget-view+json": {
       "model_id": "",
       "version_major": 2,
       "version_minor": 0
      },
      "text/plain": [
       "HBox(children=(HTML(value='Low sigma'), FloatProgress(value=0.0, max=4.0), HTML(value='')))"
      ]
     },
     "metadata": {},
     "output_type": "display_data"
    },
    {
     "data": {
      "application/vnd.jupyter.widget-view+json": {
       "model_id": "",
       "version_major": 2,
       "version_minor": 0
      },
      "text/plain": [
       "HBox(children=(HTML(value='Low sigma'), FloatProgress(value=0.0, max=4.0), HTML(value='')))"
      ]
     },
     "metadata": {},
     "output_type": "display_data"
    },
    {
     "data": {
      "application/vnd.jupyter.widget-view+json": {
       "model_id": "",
       "version_major": 2,
       "version_minor": 0
      },
      "text/plain": [
       "HBox(children=(HTML(value='Low sigma'), FloatProgress(value=0.0, max=4.0), HTML(value='')))"
      ]
     },
     "metadata": {},
     "output_type": "display_data"
    },
    {
     "data": {
      "application/vnd.jupyter.widget-view+json": {
       "model_id": "",
       "version_major": 2,
       "version_minor": 0
      },
      "text/plain": [
       "HBox(children=(HTML(value='Low sigma'), FloatProgress(value=0.0, max=4.0), HTML(value='')))"
      ]
     },
     "metadata": {},
     "output_type": "display_data"
    },
    {
     "data": {
      "application/vnd.jupyter.widget-view+json": {
       "model_id": "",
       "version_major": 2,
       "version_minor": 0
      },
      "text/plain": [
       "HBox(children=(HTML(value='Low sigma'), FloatProgress(value=0.0, max=4.0), HTML(value='')))"
      ]
     },
     "metadata": {},
     "output_type": "display_data"
    },
    {
     "data": {
      "application/vnd.jupyter.widget-view+json": {
       "model_id": "",
       "version_major": 2,
       "version_minor": 0
      },
      "text/plain": [
       "HBox(children=(HTML(value='Low sigma'), FloatProgress(value=0.0, max=4.0), HTML(value='')))"
      ]
     },
     "metadata": {},
     "output_type": "display_data"
    },
    {
     "data": {
      "application/vnd.jupyter.widget-view+json": {
       "model_id": "",
       "version_major": 2,
       "version_minor": 0
      },
      "text/plain": [
       "HBox(children=(HTML(value='Low sigma'), FloatProgress(value=0.0, max=4.0), HTML(value='')))"
      ]
     },
     "metadata": {},
     "output_type": "display_data"
    },
    {
     "data": {
      "application/vnd.jupyter.widget-view+json": {
       "model_id": "57a6a89e9e1f4478b51b0376aecfe76b",
       "version_major": 2,
       "version_minor": 0
      },
      "text/plain": [
       "HBox(children=(HTML(value='Low sigma'), FloatProgress(value=0.0, max=4.0), HTML(value='')))"
      ]
     },
     "metadata": {},
     "output_type": "display_data"
    },
    {
     "name": "stdout",
     "output_type": "stream",
     "text": [
      "\n"
     ]
    },
    {
     "ename": "KeyboardInterrupt",
     "evalue": "",
     "output_type": "error",
     "traceback": [
      "\u001b[0;31m---------------------------------------------------------------------------\u001b[0m",
      "\u001b[0;31mKeyboardInterrupt\u001b[0m                         Traceback (most recent call last)",
      "\u001b[0;32m<ipython-input-10-c7f71a402c45>\u001b[0m in \u001b[0;36m<module>\u001b[0;34m()\u001b[0m\n\u001b[1;32m     14\u001b[0m                     \u001b[0mparams\u001b[0m \u001b[0;34m=\u001b[0m \u001b[0;34m[\u001b[0m\u001b[0mguess_low_mean\u001b[0m\u001b[0;34m[\u001b[0m\u001b[0mlm\u001b[0m\u001b[0;34m]\u001b[0m\u001b[0;34m,\u001b[0m \u001b[0mguess_low_sigma\u001b[0m\u001b[0;34m[\u001b[0m\u001b[0mls\u001b[0m\u001b[0;34m]\u001b[0m\u001b[0;34m,\u001b[0m \u001b[0mguess_high_mean\u001b[0m\u001b[0;34m[\u001b[0m\u001b[0mhm\u001b[0m\u001b[0;34m]\u001b[0m\u001b[0;34m,\u001b[0m                               \u001b[0mguess_high_sigma\u001b[0m\u001b[0;34m[\u001b[0m\u001b[0mhs\u001b[0m\u001b[0;34m]\u001b[0m\u001b[0;34m,\u001b[0m \u001b[0mguess_p_back\u001b[0m\u001b[0;34m[\u001b[0m\u001b[0mpb\u001b[0m\u001b[0;34m]\u001b[0m\u001b[0;34m]\u001b[0m\u001b[0;34m\u001b[0m\u001b[0;34m\u001b[0m\u001b[0m\n\u001b[1;32m     15\u001b[0m                     \u001b[0;31m# print(lm, hm, pb)\u001b[0m\u001b[0;34m\u001b[0m\u001b[0;34m\u001b[0m\u001b[0;34m\u001b[0m\u001b[0m\n\u001b[0;32m---> 16\u001b[0;31m                     \u001b[0mneg_ll_array\u001b[0m\u001b[0;34m[\u001b[0m\u001b[0mlm\u001b[0m\u001b[0;34m,\u001b[0m\u001b[0mls\u001b[0m\u001b[0;34m,\u001b[0m\u001b[0mhm\u001b[0m\u001b[0;34m,\u001b[0m\u001b[0mhs\u001b[0m\u001b[0;34m,\u001b[0m\u001b[0mpb\u001b[0m\u001b[0;34m]\u001b[0m \u001b[0;34m=\u001b[0m \u001b[0mMLE\u001b[0m\u001b[0;34m(\u001b[0m\u001b[0mparams\u001b[0m\u001b[0;34m)\u001b[0m\u001b[0;34m\u001b[0m\u001b[0;34m\u001b[0m\u001b[0m\n\u001b[0m",
      "\u001b[0;32m<ipython-input-9-8ccf1541b1d3>\u001b[0m in \u001b[0;36mMLE\u001b[0;34m(params)\u001b[0m\n\u001b[1;32m     36\u001b[0m         \u001b[0mgaussian_array_1\u001b[0m \u001b[0;34m=\u001b[0m \u001b[0mnp\u001b[0m\u001b[0;34m.\u001b[0m\u001b[0mexpand_dims\u001b[0m\u001b[0;34m(\u001b[0m\u001b[0mgaussian\u001b[0m\u001b[0;34m(\u001b[0m\u001b[0mlog_freq_percept\u001b[0m\u001b[0;34m,\u001b[0m                                                    \u001b[0mmean\u001b[0m \u001b[0;34m=\u001b[0m \u001b[0mnp\u001b[0m\u001b[0;34m.\u001b[0m\u001b[0mlog10\u001b[0m\u001b[0;34m(\u001b[0m\u001b[0mall_trial_tones\u001b[0m\u001b[0;34m[\u001b[0m\u001b[0mi_etrial\u001b[0m\u001b[0;34m]\u001b[0m\u001b[0;34m[\u001b[0m\u001b[0;36m1\u001b[0m\u001b[0;34m]\u001b[0m\u001b[0;34m)\u001b[0m\u001b[0;34m,\u001b[0m                                                    \u001b[0msigma\u001b[0m \u001b[0;34m=\u001b[0m \u001b[0;36m0.1\u001b[0m\u001b[0;34m)\u001b[0m\u001b[0;34m,\u001b[0m \u001b[0maxis\u001b[0m \u001b[0;34m=\u001b[0m \u001b[0;36m1\u001b[0m\u001b[0;34m)\u001b[0m\u001b[0;34m\u001b[0m\u001b[0;34m\u001b[0m\u001b[0m\n\u001b[1;32m     37\u001b[0m         \u001b[0mgaussian_array_2\u001b[0m \u001b[0;34m=\u001b[0m \u001b[0mnp\u001b[0m\u001b[0;34m.\u001b[0m\u001b[0mexpand_dims\u001b[0m\u001b[0;34m(\u001b[0m\u001b[0mgaussian\u001b[0m\u001b[0;34m(\u001b[0m\u001b[0mlog_freq_percept\u001b[0m\u001b[0;34m,\u001b[0m                                                    \u001b[0mmean\u001b[0m \u001b[0;34m=\u001b[0m \u001b[0mnp\u001b[0m\u001b[0;34m.\u001b[0m\u001b[0mlog10\u001b[0m\u001b[0;34m(\u001b[0m\u001b[0mall_trial_tones\u001b[0m\u001b[0;34m[\u001b[0m\u001b[0mi_etrial\u001b[0m\u001b[0;34m]\u001b[0m\u001b[0;34m[\u001b[0m\u001b[0;36m2\u001b[0m\u001b[0;34m]\u001b[0m\u001b[0;34m)\u001b[0m\u001b[0;34m,\u001b[0m                                                    \u001b[0msigma\u001b[0m \u001b[0;34m=\u001b[0m \u001b[0;36m0.1\u001b[0m\u001b[0;34m)\u001b[0m\u001b[0;34m,\u001b[0m \u001b[0maxis\u001b[0m \u001b[0;34m=\u001b[0m \u001b[0;36m1\u001b[0m\u001b[0;34m)\u001b[0m\u001b[0;34m\u001b[0m\u001b[0;34m\u001b[0m\u001b[0m\n\u001b[0;32m---> 38\u001b[0;31m         \u001b[0mgaussian_array_mat\u001b[0m \u001b[0;34m=\u001b[0m \u001b[0mnp\u001b[0m\u001b[0;34m.\u001b[0m\u001b[0mexpand_dims\u001b[0m\u001b[0;34m(\u001b[0m\u001b[0mgaussian_array_0\u001b[0m\u001b[0;34m@\u001b[0m\u001b[0mnp\u001b[0m\u001b[0;34m.\u001b[0m\u001b[0mtranspose\u001b[0m\u001b[0;34m(\u001b[0m\u001b[0mgaussian_array_1\u001b[0m\u001b[0;34m)\u001b[0m\u001b[0;34m,\u001b[0m                                    \u001b[0maxis\u001b[0m\u001b[0;34m=\u001b[0m\u001b[0;36m2\u001b[0m\u001b[0;34m)\u001b[0m\u001b[0;34m@\u001b[0m\u001b[0mnp\u001b[0m\u001b[0;34m.\u001b[0m\u001b[0mtranspose\u001b[0m\u001b[0;34m(\u001b[0m\u001b[0mgaussian_array_2\u001b[0m\u001b[0;34m)\u001b[0m\u001b[0;34m\u001b[0m\u001b[0;34m\u001b[0m\u001b[0m\n\u001b[0m\u001b[1;32m     39\u001b[0m         \u001b[0mgaussian_array_mat\u001b[0m \u001b[0;34m/=\u001b[0m \u001b[0mnp\u001b[0m\u001b[0;34m.\u001b[0m\u001b[0msum\u001b[0m\u001b[0;34m(\u001b[0m\u001b[0mgaussian_array_mat\u001b[0m\u001b[0;34m)\u001b[0m\u001b[0;34m\u001b[0m\u001b[0;34m\u001b[0m\u001b[0m\n\u001b[1;32m     40\u001b[0m         \u001b[0mprobability_high\u001b[0m\u001b[0;34m[\u001b[0m\u001b[0mi_etrial\u001b[0m\u001b[0;34m]\u001b[0m \u001b[0;34m=\u001b[0m \u001b[0mnp\u001b[0m\u001b[0;34m.\u001b[0m\u001b[0msum\u001b[0m\u001b[0;34m(\u001b[0m\u001b[0mnp\u001b[0m\u001b[0;34m.\u001b[0m\u001b[0mmultiply\u001b[0m\u001b[0;34m(\u001b[0m\u001b[0mposterior\u001b[0m\u001b[0;34m>\u001b[0m\u001b[0;36m0.5\u001b[0m\u001b[0;34m,\u001b[0m \u001b[0mgaussian_array_mat\u001b[0m\u001b[0;34m)\u001b[0m\u001b[0;34m)\u001b[0m\u001b[0;34m\u001b[0m\u001b[0;34m\u001b[0m\u001b[0m\n",
      "\u001b[0;31mKeyboardInterrupt\u001b[0m: "
     ]
    }
   ],
   "source": [
    "guess_low_mean = np.arange(2,2.6,0.05); guess_low_sigma = np.arange(0.05,0.2,0.05)\n",
    "guess_high_mean = np.arange(2.6,3.2,0.05); guess_high_sigma = np.arange(0.05,0.2,0.05)\n",
    "guess_p_back = np.arange(0.05,1,0.05)\n",
    "\"\"\"\n",
    "Constraining guesses of means of low and high distributions based on observed behaviour in figure shown above. \n",
    "Currently estimating only means and p_back.\n",
    "\"\"\"\n",
    "neg_ll_array = np.zeros((len(guess_low_mean),len(guess_low_sigma),\\\n",
    "                         len(guess_high_mean),len(guess_high_sigma),len(guess_p_back)))\n",
    "for lm in tqdm(range(len(guess_low_mean))):\n",
    "    for ls in tqdm(range(len(guess_low_sigma)), leave=False, desc=\"Low sigma\"):\n",
    "        for hm in range(len(guess_high_mean)):\n",
    "            for hs in range(len(guess_high_sigma)):\n",
    "                for pb in range(len(guess_p_back)):\n",
    "                    params = [guess_low_mean[lm], guess_low_sigma[ls], guess_high_mean[hm], \\\n",
    "                              guess_high_sigma[hs], guess_p_back[pb]]\n",
    "                    # print(lm, hm, pb)\n",
    "                    neg_ll_array[lm,ls,hm,hs,pb] = MLE(params)      "
   ]
  },
  {
   "cell_type": "code",
   "execution_count": null,
   "metadata": {},
   "outputs": [],
   "source": [
    "# Means and p_back corresponding to the least negative log likelihood value\n",
    "idxs = np.where(neg_ll_array == np.amin(neg_ll_array)) \n",
    "guess_low_mean[idxs[0]], guess_low_sigma[idxs[1]],  guess_high_mean[idxs[2]], \\\n",
    "guess_high_sigma[idxs[3]], guess_p_back[idxs[4]]"
   ]
  },
  {
   "cell_type": "code",
   "execution_count": 7,
   "metadata": {},
   "outputs": [
    {
     "data": {
      "text/plain": [
       "\"\\n\\n_, _, _, _, posterior = posterior_array(log_freq_seq_array, n_tones=1, p_back=guess_p_back[idxs[4]], p_low=0.5,                log_prior_low=[guess_low_mean[idxs[0]], guess_low_sigma[idxs[1]]],                 log_prior_high=[guess_high_mean[idxs[2]], guess_high_sigma[idxs[3]]])\\nplt.plot(posterior,'k')\\n\""
      ]
     },
     "execution_count": 7,
     "metadata": {},
     "output_type": "execute_result"
    },
    {
     "data": {
      "image/png": "[encoded data removed]",
      "text/plain": [
       "<Figure size 432x288 with 1 Axes>"
      ]
     },
     "metadata": {
      "needs_background": "light"
     },
     "output_type": "display_data"
    }
   ],
   "source": [
    "# Influence plots the way we currently understand them (11-17-2020)\n",
    "\n",
    "unique_tones = np.unique(all_trial_tones)\n",
    "tone1_prob_behaviour = np.zeros((log_freq_seq_array.shape))\n",
    "tone2_prob_behaviour = np.zeros((log_freq_seq_array.shape))\n",
    "tone3_prob_behaviour = np.zeros((log_freq_seq_array.shape))\n",
    "\n",
    "for i_tone in range(len(unique_tones)):\n",
    "    tone1_prob_behaviour[i_tone] = np.mean(all_trial_behaviour[all_trial_tones[:,0]\\\n",
    "                                                       ==unique_tones[i_tone]])\n",
    "    tone2_prob_behaviour[i_tone] = np.mean(all_trial_behaviour[all_trial_tones[:,1]\\\n",
    "                                                       ==unique_tones[i_tone]])\n",
    "    tone3_prob_behaviour[i_tone] = np.mean(all_trial_behaviour[all_trial_tones[:,2]\\\n",
    "                                                       ==unique_tones[i_tone]])\n",
    "plt.plot(tone1_prob_behaviour)\n",
    "plt.plot(tone2_prob_behaviour)\n",
    "plt.plot(tone3_prob_behaviour)\n",
    "\n",
    "\n",
    "tone1_prob_behaviour = np.zeros((log_freq_seq_array.shape))\n",
    "tone2_prob_behaviour = np.zeros((log_freq_seq_array.shape))\n",
    "tone3_prob_behaviour = np.zeros((log_freq_seq_array.shape))\n",
    "\n",
    "for i_tone in range(len(unique_tones)):\n",
    "    tone1_prob_behaviour[i_tone] = np.mean(prob_trial_behaviour[trial_tones[:,0]\\\n",
    "                                                       ==unique_tones[i_tone]])\n",
    "    tone2_prob_behaviour[i_tone] = np.mean(prob_trial_behaviour[trial_tones[:,1]\\\n",
    "                                                       ==unique_tones[i_tone]])\n",
    "    tone3_prob_behaviour[i_tone] = np.mean(prob_trial_behaviour[trial_tones[:,2]\\\n",
    "                                                       ==unique_tones[i_tone]])\n",
    "plt.plot(tone1_prob_behaviour)\n",
    "plt.plot(tone2_prob_behaviour)\n",
    "plt.plot(tone3_prob_behaviour)\n",
    "\n",
    "tone1_prob_behaviour = np.zeros((log_freq_seq_array.shape))\n",
    "tone2_prob_behaviour = np.zeros((log_freq_seq_array.shape))\n",
    "tone3_prob_behaviour = np.zeros((log_freq_seq_array.shape))\n",
    "\n",
    "for i_tone in range(len(unique_tones)):\n",
    "    tone1_prob_behaviour[i_tone] = np.mean(probability_sim_high[trial_tones[:,0]\\\n",
    "                                                       ==unique_tones[i_tone]])\n",
    "    tone2_prob_behaviour[i_tone] = np.mean(probability_sim_high[trial_tones[:,1]\\\n",
    "                                                       ==unique_tones[i_tone]])\n",
    "    tone3_prob_behaviour[i_tone] = np.mean(probability_sim_high[trial_tones[:,2]\\\n",
    "                                                       ==unique_tones[i_tone]])\n",
    "plt.plot(tone1_prob_behaviour)\n",
    "plt.plot(tone2_prob_behaviour)\n",
    "plt.plot(tone3_prob_behaviour)\n",
    "\"\"\"\n",
    "# I am having trouble getting this part of the code to work, but I am convinced that taking np.mean \n",
    "# effectively takes care of the p(T_2,T_3|_1) part in p(B_H|T_1,T_2,T_3)p(T_2,T_3,|T_1)\n",
    "\n",
    "true_tone_prior_high, true_tone_prior_low, _,_, true_tone_normalizer, _ = \\\n",
    "posterior_array(log_freq_seq_array, n_tones=3, p_back=0.3, p_low=0.5, \\\n",
    "                log_prior_low=low_dist, log_prior_high=high_dist)\n",
    "for i_stim in range(len(trial_tones)):    \n",
    "    for i_tone in range(n_tones): \n",
    "        freq_idx = np.where(unique_tones==trial_tones[i_stim][i_tone])[0]\n",
    "        i_tone_left = np.delete(range(n_tones),i_tone)\n",
    "        freq_idx0 = np.where(unique_tones==trial_tones[i_stim][i_tone_left[0]])[0]\n",
    "        freq_idx1 = np.where(unique_tones==trial_tones[i_stim][i_tone_left[1]])[0]\n",
    "        probability_high_given_tone[i_stim,i_tone] = probability_sim_high[i_stim]*\\\n",
    "        true_tone_normalizer[freq_idx,freq_idx0,freq_idx1]/np.sum(true_tone_normalizer[freq_idx,:,:])\n",
    "\n",
    "tone1_prob_behaviour = np.zeros((log_freq_seq_array.shape))\n",
    "tone2_prob_behaviour = np.zeros((log_freq_seq_array.shape))\n",
    "tone3_prob_behaviour = np.zeros((log_freq_seq_array.shape))\n",
    "\n",
    "for i_tone in range(len(unique_tones)):\n",
    "    tone1_prob_behaviour[i_tone] = \\\n",
    "    np.mean(probability_high_given_tone[trial_tones[:,0]==unique_tones[i_tone],0])\n",
    "    tone2_prob_behaviour[i_tone] = \\\n",
    "    np.mean(probability_high_given_tone[trial_tones[:,1]==unique_tones[i_tone],1])\n",
    "    tone3_prob_behaviour[i_tone] = \\\n",
    "    np.mean(probability_high_given_tone[trial_tones[:,2]==unique_tones[i_tone],2])\n",
    "\n",
    "plt.plot(tone1_prob_behaviour*300)\n",
    "plt.plot(tone2_prob_behaviour*300)\n",
    "plt.plot(tone3_prob_behaviour*300)\n",
    "\"\"\"\n",
    "\n",
    "_, _, _, _, posterior = \\\n",
    "posterior_array(log_freq_seq_array, n_tones=1, p_back=guess_p_back[idxs[4]], p_low=0.5, \\\n",
    "               log_prior_low=[guess_low_mean[idxs[0]], guess_low_sigma[idxs[1]]], \\\n",
    "                log_prior_high=[guess_high_mean[idxs[2]], guess_high_sigma[idxs[3]]])\n",
    "plt.plot(posterior,'k')\n"
   ]
  },
  {
   "cell_type": "code",
   "execution_count": 11,
   "metadata": {},
   "outputs": [
    {
     "data": {
      "text/plain": [
       "[<matplotlib.lines.Line2D at 0x7fb6aa8e8ad0>]"
      ]
     },
     "execution_count": 11,
     "metadata": {},
     "output_type": "execute_result"
    },
    {
     "data": {
      "image/png": "[encoded data removed]",
      "text/plain": [
       "<Figure size 432x288 with 1 Axes>"
      ]
     },
     "metadata": {
      "needs_background": "light"
     },
     "output_type": "display_data"
    }
   ],
   "source": [
    "a = np.zeros((len(unique_tones),1))\n",
    "for i in range(len(unique_tones)):\n",
    "    a[i] = np.sum(true_tone_normalizer[i,:,:])\n",
    "plt.plot(a)    \n",
    "\n",
    "for i_tone in range(len(unique_tones)):\n",
    "    a[i_tone] = np.sum(trial_tones[:,2]==unique_tones[i_tone])\n",
    "plt.plot(a/len(trial_tones))"
   ]
  },
  {
   "cell_type": "code",
   "execution_count": null,
   "metadata": {},
   "outputs": [],
   "source": []
  }
 ],
 "metadata": {
  "kernelspec": {
   "display_name": "Python 3",
   "language": "python",
   "name": "python3"
  },
  "language_info": {
   "codemirror_mode": {
    "name": "ipython",
    "version": 3
   },
   "file_extension": ".py",
   "mimetype": "text/x-python",
   "name": "python",
   "nbconvert_exporter": "python",
   "pygments_lexer": "ipython3",
   "version": "3.7.8"
  }
 },
 "nbformat": 4,
 "nbformat_minor": 4
}
