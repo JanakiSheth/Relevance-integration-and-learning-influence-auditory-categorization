{
 "cells": [
  {
   "cell_type": "markdown",
   "metadata": {},
   "source": [
    "This code includes probabilty matching. Thus we can then work with  posterior instead of behaviour when doing parameter fitting."
   ]
  },
  {
   "cell_type": "code",
   "execution_count": 12,
   "metadata": {},
   "outputs": [],
   "source": [
    "import numpy as np\n",
    "import matplotlib.pyplot as plt\n",
    "import pdb\n",
    "from scipy.optimize import minimize\n",
    "from scipy.stats import multivariate_normal\n",
    "from tqdm.notebook import tqdm\n",
    "import random"
   ]
  },
  {
   "cell_type": "code",
   "execution_count": 13,
   "metadata": {},
   "outputs": [],
   "source": [
    "def gaussian(x, mean, sigma):\n",
    "    return np.exp(-(x-mean)**2/(2*sigma**2))\n",
    "\n",
    "def posterior_array(log_freq_percept, n_tones, p_back, p_low, \n",
    "                    log_prior_low, log_prior_high):\n",
    "    \"\"\"\n",
    "    Arguments: \n",
    "    log_freq_percept - range of all possible frequencies (percepts?)\n",
    "    p_back - prob of background, p_low - prob of low condition\n",
    "    log_prior_low - gaussian of low condition\n",
    "    log_prior_high - gaussian of high condition\n",
    "    \"\"\"\n",
    "    \n",
    "    log_prior_low_mean = log_prior_low[0]; log_prior_low_sigma = log_prior_low[1];\n",
    "    log_prior_high_mean = log_prior_high[0]; log_prior_high_sigma = log_prior_high[1];\n",
    "    prior_low = gaussian(x=log_freq_percept, mean=log_prior_low_mean, sigma=log_prior_low_sigma)\n",
    "    prior_high = gaussian(x=log_freq_percept, mean=log_prior_high_mean, sigma=log_prior_high_sigma)\n",
    "    prior_dist_mixed_high = p_back*(1/len(log_freq_percept)) + (1-p_back)*prior_high \\\n",
    "    #mixture model with p(T|B) = 1/no. of possible freqs\n",
    "    prior_dist_mixed_high /= prior_dist_mixed_high.sum() #normalizing\n",
    "    prior_dist_mixed_high = np.expand_dims(prior_dist_mixed_high, axis = 1)\n",
    "    prior_dist_mixed_low = p_back*(1/len(log_freq_percept)) + (1-p_back)*prior_low \\\n",
    "    #mixture model with p(T|B) = 1/no. of possible freqs\n",
    "    prior_dist_mixed_low /= prior_dist_mixed_low.sum() #normalizing\n",
    "    prior_dist_mixed_low = np.expand_dims(prior_dist_mixed_low, axis = 1)\n",
    "    \n",
    "    if n_tones == 3:\n",
    "        prior_tones_low = np.expand_dims(prior_dist_mixed_low@np.transpose\\\n",
    "                                         (prior_dist_mixed_low),axis=2)@np.transpose(prior_dist_mixed_low) \\\n",
    "        #p(T1,T2..|L) \n",
    "        prior_tones_high = np.expand_dims(prior_dist_mixed_high@np.transpose\\\n",
    "                                          (prior_dist_mixed_high),axis=2)@np.transpose(prior_dist_mixed_high) \\\n",
    "        #p(T1,T2..|H) \n",
    "    elif n_tones == 2:\n",
    "        prior_tones_low = prior_dist_mixed_low@np.transpose(prior_dist_mixed_low)\n",
    "        prior_tones_high = prior_dist_mixed_high@np.transpose(prior_dist_mixed_high)\n",
    "        \n",
    "    elif n_tones == 1:\n",
    "        prior_tones_low = prior_dist_mixed_low\n",
    "        prior_tones_high = prior_dist_mixed_high\n",
    "        \n",
    "    normalizer = (1-p_low)*prior_tones_high + p_low*prior_tones_low #p(H)*p(T1,T2..|H) + p(L)*p(T1,T2..|L)\n",
    "    posterior = prior_tones_high*(1-p_low)/normalizer\n",
    "    # posterior /= np.sum(posterior)\n",
    "    \n",
    "    return prior_dist_mixed_high, prior_dist_mixed_low, posterior"
   ]
  },
  {
   "cell_type": "code",
   "execution_count": 20,
   "metadata": {},
   "outputs": [],
   "source": [
    "# experimental task\n",
    "def task(freq_seq, n_trials = 10, n_tones = 3, p_low = 0.5, p_back = 0.3):\n",
    "    log_freq_seq_array = np.arange(np.log10(freq_seq[0]), np.log10(freq_seq[-1]), np.log10(1003/1000)*30)\n",
    "    log_freq_seq_mid = np.median(log_freq_seq_array)\n",
    "    log_freq_low = [log_freq_seq_mid - 0.2,0.1]  #low freq condition is gaussian \n",
    "    log_freq_high = [log_freq_seq_mid + 0.2,0.1] #high freq condition is gaussian\n",
    "    trial_tones = []\n",
    "    dist_chosen = []\n",
    "    kind_of_tones = []\n",
    "\n",
    "    for trial in range(n_trials):\n",
    "        signal_rand = np.random.random()\n",
    "        low_dist = signal_rand < p_low #choosing true tone from either low or high condition\n",
    "        tones = []\n",
    "        tone_kind = []\n",
    "        for n_tone in range(n_tones):\n",
    "            signal_back = np.random.random()\n",
    "            background = signal_back < p_back #choosing background or true tone\n",
    "            if background:\n",
    "                nearest_log_tone = np.random.choice(log_freq_seq_array)\n",
    "                #background freq is chosen from a uniform distribution\n",
    "                tone_kind.append(0)\n",
    "            else: \n",
    "                if low_dist:\n",
    "                    tone = min(max(np.random.randn()*log_freq_low[1] + log_freq_low[0],\\\n",
    "                                   log_freq_seq_array[0]),log_freq_seq_array[-1])                    \n",
    "                    tone_kind.append(1)\n",
    "                else:\n",
    "                    tone = min(max(np.random.randn()*log_freq_high[1] + log_freq_high[0],\\\n",
    "                                   log_freq_seq_array[0]),log_freq_seq_array[-1])\n",
    "                    tone_kind.append(2)\n",
    "                nearest_log_tone = log_freq_seq_array[np.argmin(np.abs(log_freq_seq_array - tone))]\n",
    "            nearest_tone = freq_seq[np.argmin(np.abs(freq_seq - 10**nearest_log_tone))]        \n",
    "            tones.append(nearest_tone)\n",
    "        trial_tones.append(tones)\n",
    "        dist_chosen.append(low_dist)\n",
    "        kind_of_tones.append(tone_kind)\n",
    "    return trial_tones, dist_chosen, kind_of_tones, log_freq_low, log_freq_high"
   ]
  },
  {
   "cell_type": "code",
   "execution_count": 21,
   "metadata": {},
   "outputs": [],
   "source": [
    "\"\"\"\n",
    "Throwing away repetitions in training and testing trials\n",
    "\"\"\"\n",
    "\n",
    "def unique(trial_list, dist_list, tone_kind_list): \n",
    "  \n",
    "    # intilize a null list \n",
    "    unique_trial_list = [] \n",
    "    unique_dist_list = []\n",
    "    unique_tone_kind_list = []\n",
    "      \n",
    "    # traverse for all elements \n",
    "    for i_element in range(len(trial_list)): \n",
    "        # check if exists in unique_list or not \n",
    "        if trial_list[i_element] not in unique_trial_list: \n",
    "            unique_trial_list.append(trial_list[i_element]) \n",
    "            unique_dist_list.append(dist_list[i_element])\n",
    "            unique_tone_kind_list.append(tone_kind_list[i_element])\n",
    "    return unique_trial_list, unique_dist_list, unique_tone_kind_list       \n",
    "            \n",
    "\"\"\"\n",
    "Finding simple and difficult trials\n",
    "\"\"\"            \n",
    "\n",
    "def find_difficult_trials(trial_list, tone_kind_list, low_dist, high_dist):\n",
    "    n_tones = len(trial_list[0])\n",
    "    difficult_barrier = 0\n",
    "    difficult_trials = []\n",
    "    simple_trials = []\n",
    "    \n",
    "    for i_element in range(len(trial_list)):\n",
    "        if np.sum((np.asarray(trial_list[i_element]) < 10**(low_dist[0]-2*low_dist[1])) or \\\n",
    "        (np.asarray(trial_list[i_element]) > 10**(high_dist[0]+2*high_dist[1]))) > difficult_barrier:\n",
    "            difficult_trials.append(i_element)\n",
    "        elif np.sum((np.asarray(trial_list[i_element]) > 10**(low_dist[0]-low_dist[1]) and \\\n",
    "                    np.asarray(trial_list[i_element]) < 10**(low_dist[0]+low_dist[1])) or \\\n",
    "                    (np.asarray(trial_list[i_element]) > 10**(high_dist[0]-high_dist[1]) and \\\n",
    "                    np.asarray(trial_list[i_element]) < 10**(high_dist[0]+high_dist[1]))) == n_tones:\n",
    "            if tone_kind_list[i_element] in [[1],[2]]:\n",
    "                simple_trials.append(i_element)\n",
    "    return difficult_trials, simple_trials"
   ]
  },
  {
   "cell_type": "code",
   "execution_count": 22,
   "metadata": {},
   "outputs": [
    {
     "ename": "ValueError",
     "evalue": "Cannot take a larger sample than population when 'replace=False'",
     "output_type": "error",
     "traceback": [
      "\u001b[0;31m---------------------------------------------------------------------------\u001b[0m",
      "\u001b[0;31mValueError\u001b[0m                                Traceback (most recent call last)",
      "\u001b[0;32m<ipython-input-22-ed8f181a2432>\u001b[0m in \u001b[0;36m<module>\u001b[0;34m\u001b[0m\n\u001b[1;32m     34\u001b[0m \u001b[0mtone_kind\u001b[0m\u001b[0;34m[\u001b[0m\u001b[0mdifficult_trial_idxs\u001b[0m\u001b[0;34m]\u001b[0m \u001b[0;34m=\u001b[0m \u001b[0mnp\u001b[0m\u001b[0;34m.\u001b[0m\u001b[0masarray\u001b[0m\u001b[0;34m(\u001b[0m\u001b[0munique_tone_kind_list\u001b[0m\u001b[0;34m)\u001b[0m\u001b[0;34m[\u001b[0m\u001b[0mdifficult_trials_keep\u001b[0m\u001b[0;34m]\u001b[0m\u001b[0;34m\u001b[0m\u001b[0;34m\u001b[0m\u001b[0m\n\u001b[1;32m     35\u001b[0m \u001b[0;34m\u001b[0m\u001b[0m\n\u001b[0;32m---> 36\u001b[0;31m \u001b[0minitial_simple_trials\u001b[0m \u001b[0;34m=\u001b[0m \u001b[0mnp\u001b[0m\u001b[0;34m.\u001b[0m\u001b[0mrandom\u001b[0m\u001b[0;34m.\u001b[0m\u001b[0mchoice\u001b[0m\u001b[0;34m(\u001b[0m\u001b[0msimple_trials\u001b[0m\u001b[0;34m,\u001b[0m\u001b[0msize\u001b[0m\u001b[0;34m=\u001b[0m\u001b[0;36m10\u001b[0m\u001b[0;34m,\u001b[0m\u001b[0mreplace\u001b[0m\u001b[0;34m=\u001b[0m\u001b[0;32mFalse\u001b[0m\u001b[0;34m)\u001b[0m\u001b[0;34m\u001b[0m\u001b[0;34m\u001b[0m\u001b[0m\n\u001b[0m\u001b[1;32m     37\u001b[0m \u001b[0mtraining_trials\u001b[0m\u001b[0;34m[\u001b[0m\u001b[0;34m:\u001b[0m\u001b[0;36m10\u001b[0m\u001b[0;34m,\u001b[0m\u001b[0;34m:\u001b[0m\u001b[0;34m]\u001b[0m \u001b[0;34m=\u001b[0m \u001b[0mnp\u001b[0m\u001b[0;34m.\u001b[0m\u001b[0masarray\u001b[0m\u001b[0;34m(\u001b[0m\u001b[0munique_trial_list\u001b[0m\u001b[0;34m)\u001b[0m\u001b[0;34m[\u001b[0m\u001b[0minitial_simple_trials\u001b[0m\u001b[0;34m]\u001b[0m\u001b[0;34m\u001b[0m\u001b[0;34m\u001b[0m\u001b[0m\n\u001b[1;32m     38\u001b[0m \u001b[0mdist_chosen\u001b[0m\u001b[0;34m[\u001b[0m\u001b[0;34m:\u001b[0m\u001b[0;36m10\u001b[0m\u001b[0;34m]\u001b[0m \u001b[0;34m=\u001b[0m \u001b[0mnp\u001b[0m\u001b[0;34m.\u001b[0m\u001b[0masarray\u001b[0m\u001b[0;34m(\u001b[0m\u001b[0munique_dist_list\u001b[0m\u001b[0;34m)\u001b[0m\u001b[0;34m[\u001b[0m\u001b[0minitial_simple_trials\u001b[0m\u001b[0;34m]\u001b[0m\u001b[0;34m\u001b[0m\u001b[0;34m\u001b[0m\u001b[0m\n",
      "\u001b[0;32mmtrand.pyx\u001b[0m in \u001b[0;36mnumpy.random.mtrand.RandomState.choice\u001b[0;34m()\u001b[0m\n",
      "\u001b[0;31mValueError\u001b[0m: Cannot take a larger sample than population when 'replace=False'"
     ]
    }
   ],
   "source": [
    "# Given only one true tone\n",
    "\"\"\"\n",
    "Sample experiment\n",
    "\"\"\"\n",
    "expt_tones = np.arange(100,2000,1) #array of possible true tones\n",
    "orig_trial_tones, orig_dist_chosen, orig_tone_kind, low_dist, high_dist \\\n",
    "= task(freq_seq = expt_tones, n_trials = 50000, n_tones = 1)\n",
    "\n",
    "\"\"\"\n",
    "Throw away repetitions\n",
    "\"\"\"\n",
    "unique_trial_list, unique_dist_list, unique_tone_kind_list \\\n",
    "= unique(orig_trial_tones, orig_dist_chosen, orig_tone_kind)\n",
    "\n",
    "train_length = 60; n_tones = 1\n",
    "\n",
    "\"\"\"\n",
    "Create order in which to present the training trials\n",
    "\"\"\"\n",
    "difficult_trials, simple_trials = find_difficult_trials(unique_trial_list, unique_tone_kind_list, \\\n",
    "                                                        low_dist, high_dist)\n",
    "if len(difficult_trials) > 10:\n",
    "    difficult_trials_keep = np.random.choice(difficult_trials,size=10,replace=False)  \n",
    "else:\n",
    "    difficult_trials_keep = difficult_trials\n",
    "difficult_trial_idxs = np.random.choice(np.arange(10,train_length-5),size=10,replace=False)\n",
    "\n",
    "training_trials = np.zeros([train_length,n_tones])\n",
    "dist_chosen = np.zeros((train_length), dtype=bool)\n",
    "tone_kind = np.zeros([train_length,n_tones])\n",
    "\n",
    "training_trials[difficult_trial_idxs] = np.asarray(unique_trial_list)[difficult_trials_keep]\n",
    "dist_chosen[difficult_trial_idxs] = np.asarray(unique_dist_list)[difficult_trials_keep]\n",
    "tone_kind[difficult_trial_idxs] = np.asarray(unique_tone_kind_list)[difficult_trials_keep]\n",
    "\n",
    "initial_simple_trials = np.random.choice(simple_trials,size=10,replace=False)\n",
    "training_trials[:10,:] = np.asarray(unique_trial_list)[initial_simple_trials]\n",
    "dist_chosen[:10] = np.asarray(unique_dist_list)[initial_simple_trials]\n",
    "tone_kind[:10] = np.asarray(unique_tone_kind_list)[initial_simple_trials]\n",
    "\n",
    "remaining_trials = np.delete(np.arange(len(unique_trial_list)),\\\n",
    "                             np.concatenate((difficult_trials_keep,initial_simple_trials)))\n",
    "remaining_trial_size = 40\n",
    "remaining_trial_idxs = np.delete(np.delete(np.arange(train_length),\\\n",
    "                                           difficult_trial_idxs),np.arange(10))[:remaining_trial_size]\n",
    "remaining_trials_keep = np.random.choice(remaining_trials,\\\n",
    "                                         size=remaining_trial_size,replace=False)\n",
    "training_trials[remaining_trial_idxs] = np.asarray(unique_trial_list)[remaining_trials_keep]\n",
    "dist_chosen[remaining_trial_idxs] = np.asarray(unique_dist_list)[remaining_trials_keep]\n",
    "tone_kind[remaining_trial_idxs] = np.asarray(unique_tone_kind_list)[remaining_trials_keep]\n",
    "\n",
    "final_simple_trials = np.random.choice(simple_trials,size=5,replace=False)\n",
    "training_trials = np.concatenate((training_trials, np.asarray(unique_trial_list)[final_simple_trials]))\n",
    "dist_chosen = np.concatenate((dist_chosen, np.asarray(unique_dist_list)[final_simple_trials]))\n",
    "tone_kind = np.concatenate((tone_kind, np.asarray(unique_tone_kind_list)[final_simple_trials]))\n"
   ]
  },
  {
   "cell_type": "code",
   "execution_count": 23,
   "metadata": {},
   "outputs": [
    {
     "data": {
      "text/plain": [
       "(array([ 100,  109,  120,  131,  143,  157,  171,  188,  205,  225,  246,\n",
       "         269,  294,  322,  352,  385,  421,  461,  504,  551,  603,  660,\n",
       "         722,  790,  864,  946, 1034, 1132, 1238, 1355, 1482, 1621, 1774,\n",
       "        1941]),\n",
       " 34)"
      ]
     },
     "execution_count": 23,
     "metadata": {},
     "output_type": "execute_result"
    }
   ],
   "source": [
    "np.unique(orig_trial_tones), len(unique_trial_list)"
   ]
  },
  {
   "cell_type": "code",
   "execution_count": 7,
   "metadata": {
    "scrolled": true
   },
   "outputs": [
    {
     "data": {
      "image/png": "[encoded data removed]",
      "text/plain": [
       "<Figure size 432x288 with 1 Axes>"
      ]
     },
     "metadata": {
      "needs_background": "light"
     },
     "output_type": "display_data"
    },
    {
     "data": {
      "image/png": "[encoded data removed]",
      "text/plain": [
       "<Figure size 432x288 with 1 Axes>"
      ]
     },
     "metadata": {
      "needs_background": "light"
     },
     "output_type": "display_data"
    }
   ],
   "source": [
    "\"\"\"\n",
    "One tone\n",
    "Perceptual tones have a longer range than the experimental tones.\n",
    "\"\"\"\n",
    "trial_tones = np.copy(training_trials)\n",
    "\n",
    "log_freq_percept = np.arange(np.log10(expt_tones[0])-0.5, np.log10(expt_tones[-1])+0.5, 0.05) \n",
    "\n",
    "prior_dist_mixed_high, prior_dist_mixed_low, posterior = \\\n",
    "posterior_array(log_freq_percept, n_tones=1, p_back=0.3, p_low=0.5, \\\n",
    "               log_prior_low=low_dist, log_prior_high=high_dist)\n",
    "            \n",
    "plt.plot(log_freq_percept,posterior)\n",
    "plt.xlabel('1st tone frequency')\n",
    "plt.ylabel('p(H|$\\log T_{percept}$)')\n",
    "plt.show()      \n",
    "        \n",
    "\"\"\"\n",
    "Trying two routes - 1. what if we have both sensory noise in that the perceived tones are from a gaussian \n",
    "whose mean is the true tone and we have decision noise in that the at a particular perceived tone the observer \n",
    "chooses high with probability p(H|T). So a trial is basically defined as [trial_tone, perceived_tone and decision]\n",
    "2. what if we only have sensory noise and the decision made is the best decision at a particular perceived tone. \n",
    "\n",
    "\"\"\"    \n",
    "size = 6\n",
    "\n",
    "all_trial_tones = np.empty((len(trial_tones)*size,1))\n",
    "all_trial_behaviour = np.empty((len(trial_tones)*size,1))\n",
    "prob_trial_behaviour = np.empty((len(trial_tones),1))\n",
    "probability_high = np.zeros((len(trial_tones),1))\n",
    "\n",
    "i_trial = 0\n",
    "for i_stim in range(len(trial_tones)):\n",
    "    i_trial += 1\n",
    "    input_array = np.random.normal(loc=np.log10(trial_tones[i_stim]),scale=0.1,size=(size,1,n_tones)) \\\n",
    "    #pick tones from the gaussian with mean as log(true_tone) and sigma 0.1    \n",
    "    for i_tperc in range(size):\n",
    "        perc_tone_idxs = np.zeros((n_tones,1),dtype=int)\n",
    "        for i in range(n_tones):\n",
    "            perc_tone_idxs[i] = np.argmin(np.abs(log_freq_percept-input_array[i_tperc][0][i]))\n",
    "            # find relevant adjacent freq percepts   \n",
    "        posterior_perc_tone = posterior[perc_tone_idxs[0]]\n",
    "        # trial_behaviour = (np.random.random_sample() < np.squeeze(posterior_perc_tone)).astype(int)\n",
    "        # this encodes decision noise\n",
    "        trial_behaviour = np.squeeze(posterior_perc_tone) > 0.5\n",
    "        # this makes the same choice for one tone percept every time that tone is perceived   \n",
    "        all_trial_behaviour[(i_trial-1)*size+i_tperc,:] = trial_behaviour\n",
    "    all_trial_tones[(i_trial-1)*size:i_trial*size,:] = trial_tones[i_stim]    \n",
    "    prob_trial_behaviour[i_stim] = np.mean(all_trial_behaviour[(i_trial-1)*size:i_trial*size])\n",
    "\n",
    "    gaussian_prob_array = gaussian(log_freq_percept, mean = np.log10(trial_tones[i_stim]), sigma = 0.1)\n",
    "    gaussian_prob_array /= np.sum(gaussian_prob_array)\n",
    "    gaussian_prob_array = np.expand_dims(gaussian_prob_array, axis = 1)  \n",
    "    probability_high[i_stim] = (np.transpose(posterior)>0.5)@gaussian_prob_array\n",
    "\n",
    "probability_orig_high = np.zeros((len(orig_trial_tones),1))\n",
    "    \n",
    "for i_orig_stim in range(len(orig_trial_tones)):\n",
    "    gaussian_prob_array = gaussian(log_freq_percept, mean = np.log10(orig_trial_tones[i_orig_stim]), sigma = 0.1)\n",
    "    gaussian_prob_array /= np.sum(gaussian_prob_array)\n",
    "    gaussian_prob_array = np.expand_dims(gaussian_prob_array, axis = 1)  \n",
    "    probability_orig_high[i_orig_stim] = (np.transpose(posterior)>0.5)@gaussian_prob_array\n",
    "    \n",
    "fig = plt.figure()\n",
    "ax = plt.axes()\n",
    "ax.plot(np.log10(trial_tones),prob_trial_behaviour,'.')    \n",
    "ax.plot(np.log10(trial_tones),probability_high,'.')\n",
    "ax.plot(np.log10(orig_trial_tones),probability_orig_high,'.')\n",
    "ax.legend(['Simulated Data','Probabilities of reordered stimuli','Probabilities or original stimuli'])\n",
    "plt.xlim(np.log10(expt_tones[0]),np.log10(expt_tones[-1]))\n",
    "plt.ylabel('$p(B_H|\\log T)$')\n",
    "plt.xlabel('log(Frequency)')\n",
    "\n",
    "\"\"\"\n",
    "Shuffling the tones and the behaviour to simluate an experiment\n",
    "\"\"\"\n",
    "s = np.arange(all_trial_tones.shape[0])\n",
    "np.random.shuffle(s)\n",
    "all_trial_tones = all_trial_tones[s]\n",
    "all_trial_behaviour = all_trial_behaviour[s]"
   ]
  },
  {
   "cell_type": "code",
   "execution_count": 8,
   "metadata": {},
   "outputs": [],
   "source": [
    "# define mle function\n",
    "def MLE(params):\n",
    "    log_prior_low_mean, log_prior_low_sigma, log_prior_high_mean, log_prior_high_sigma, p_back = \\\n",
    "    params[0], params[1], params[2], params[3], params[4] # inputs are guesses at our parameters\n",
    "    \n",
    "    prior_low = gaussian(x=log_freq_percept, mean=log_prior_low_mean, sigma=log_prior_low_sigma)\n",
    "    prior_high = gaussian(x=log_freq_percept, mean=log_prior_high_mean, sigma=log_prior_high_sigma)\n",
    "    prior_dist_mixed_high = p_back*(1/len(log_freq_percept)) + (1-p_back)*prior_high #mixture model\n",
    "    prior_dist_mixed_high /= prior_dist_mixed_high.sum() #normalizing\n",
    "    prior_dist_mixed_high = np.expand_dims(prior_dist_mixed_high, axis = 1)\n",
    "    prior_dist_mixed_low = p_back*(1/len(log_freq_percept)) + (1-p_back)*prior_low #mixture model\n",
    "    prior_dist_mixed_low /= prior_dist_mixed_low.sum() #normalizing\n",
    "    prior_dist_mixed_low = np.expand_dims(prior_dist_mixed_low, axis = 1)\n",
    "\n",
    "    if len(all_trial_tones[0]) == 3:\n",
    "        prior_tones_low = np.expand_dims(prior_dist_mixed_low@np.transpose\\\n",
    "                                         (prior_dist_mixed_low),axis=2)@np.transpose(prior_dist_mixed_low) \\\n",
    "        #p(T1,T2..|L) \n",
    "        prior_tones_high = np.expand_dims(prior_dist_mixed_high@np.transpose\\\n",
    "                                          (prior_dist_mixed_high),axis=2)@np.transpose(prior_dist_mixed_high) \\\n",
    "        #p(T1,T2..|H) \n",
    "        \n",
    "    elif len(all_trial_tones[0]) == 2:\n",
    "        prior_tones_low = prior_dist_mixed_low@np.transpose(prior_dist_mixed_low)\n",
    "        #p(T1,T2..|L) \n",
    "        prior_tones_high = prior_dist_mixed_high@np.transpose(prior_dist_mixed_high)\n",
    "        #p(T1,T2..|H) \n",
    "        \n",
    "    elif len(all_trial_tones[0]) == 1:\n",
    "        prior_tones_low = prior_dist_mixed_low\n",
    "        prior_tones_high = prior_dist_mixed_high\n",
    "    \n",
    "    p_low = 0.5 \n",
    "    normalizer = (1-p_low)*prior_tones_high + p_low*prior_tones_low #p(H)*p(T1,T2..|H) + p(L)*p(T1,T2..|L)\n",
    "    posterior = prior_tones_high*(1-p_low)/normalizer  \n",
    "        \n",
    "    neg_ll = 0; \n",
    "    probability_high = np.zeros((len(all_trial_tones),1))\n",
    "    for i_etrial in range(len(all_trial_tones)):\n",
    "        if len(all_trial_tones[i_etrial]) == 1:\n",
    "            gaussian_prob_array = gaussian(log_freq_percept, \\\n",
    "                                           mean = np.log10(all_trial_tones[i_etrial][0]), sigma = 0.1)\n",
    "            gaussian_prob_array /= np.sum(gaussian_prob_array)\n",
    "            gaussian_prob_array = np.expand_dims(gaussian_prob_array, axis = 1)            \n",
    "            probability_high0 = np.transpose(posterior>0.5)@gaussian_prob_array \n",
    "            probability_high[i_etrial] = np.transpose(posterior>0.5)@gaussian_prob_array \\\n",
    "            # np.transpose(behaviour0)@input_array        \n",
    "            \n",
    "        if all_trial_behaviour[i_etrial]:\n",
    "            neg_ll += -np.log(probability_high0 + np.finfo(float).eps) # if high dist is chosen by observer\n",
    "        else:\n",
    "            neg_ll += -np.log(1 - probability_high0 + np.finfo(float).eps) # if low dist is chosen by observer\n",
    "        if np.isnan(np.log(probability_high0 + 0.00001)) \\\n",
    "        or np.isinf(np.log(probability_high0 + 0.00001)) \\\n",
    "        or np.isnan(np.log(1 - probability_high0 + 0.00001)) \\\n",
    "        or np.isinf(np.log(1 - probability_high0 + 0.00001)):\n",
    "            pdb.set_trace()        \n",
    "    return(neg_ll)"
   ]
  },
  {
   "cell_type": "code",
   "execution_count": 9,
   "metadata": {},
   "outputs": [
    {
     "data": {
      "application/vnd.jupyter.widget-view+json": {
       "model_id": "041c91163aa14cfa8d54cfefc00bc100",
       "version_major": 2,
       "version_minor": 0
      },
      "text/plain": [
       "HBox(children=(HTML(value=''), FloatProgress(value=0.0, max=13.0), HTML(value='')))"
      ]
     },
     "metadata": {},
     "output_type": "display_data"
    },
    {
     "data": {
      "application/vnd.jupyter.widget-view+json": {
       "model_id": "",
       "version_major": 2,
       "version_minor": 0
      },
      "text/plain": [
       "HBox(children=(HTML(value='Low sigma'), FloatProgress(value=0.0, max=4.0), HTML(value='')))"
      ]
     },
     "metadata": {},
     "output_type": "display_data"
    },
    {
     "data": {
      "application/vnd.jupyter.widget-view+json": {
       "model_id": "",
       "version_major": 2,
       "version_minor": 0
      },
      "text/plain": [
       "HBox(children=(HTML(value='Low sigma'), FloatProgress(value=0.0, max=4.0), HTML(value='')))"
      ]
     },
     "metadata": {},
     "output_type": "display_data"
    },
    {
     "data": {
      "application/vnd.jupyter.widget-view+json": {
       "model_id": "",
       "version_major": 2,
       "version_minor": 0
      },
      "text/plain": [
       "HBox(children=(HTML(value='Low sigma'), FloatProgress(value=0.0, max=4.0), HTML(value='')))"
      ]
     },
     "metadata": {},
     "output_type": "display_data"
    },
    {
     "data": {
      "application/vnd.jupyter.widget-view+json": {
       "model_id": "",
       "version_major": 2,
       "version_minor": 0
      },
      "text/plain": [
       "HBox(children=(HTML(value='Low sigma'), FloatProgress(value=0.0, max=4.0), HTML(value='')))"
      ]
     },
     "metadata": {},
     "output_type": "display_data"
    },
    {
     "data": {
      "application/vnd.jupyter.widget-view+json": {
       "model_id": "",
       "version_major": 2,
       "version_minor": 0
      },
      "text/plain": [
       "HBox(children=(HTML(value='Low sigma'), FloatProgress(value=0.0, max=4.0), HTML(value='')))"
      ]
     },
     "metadata": {},
     "output_type": "display_data"
    },
    {
     "data": {
      "application/vnd.jupyter.widget-view+json": {
       "model_id": "",
       "version_major": 2,
       "version_minor": 0
      },
      "text/plain": [
       "HBox(children=(HTML(value='Low sigma'), FloatProgress(value=0.0, max=4.0), HTML(value='')))"
      ]
     },
     "metadata": {},
     "output_type": "display_data"
    },
    {
     "data": {
      "application/vnd.jupyter.widget-view+json": {
       "model_id": "",
       "version_major": 2,
       "version_minor": 0
      },
      "text/plain": [
       "HBox(children=(HTML(value='Low sigma'), FloatProgress(value=0.0, max=4.0), HTML(value='')))"
      ]
     },
     "metadata": {},
     "output_type": "display_data"
    },
    {
     "data": {
      "application/vnd.jupyter.widget-view+json": {
       "model_id": "",
       "version_major": 2,
       "version_minor": 0
      },
      "text/plain": [
       "HBox(children=(HTML(value='Low sigma'), FloatProgress(value=0.0, max=4.0), HTML(value='')))"
      ]
     },
     "metadata": {},
     "output_type": "display_data"
    },
    {
     "data": {
      "application/vnd.jupyter.widget-view+json": {
       "model_id": "",
       "version_major": 2,
       "version_minor": 0
      },
      "text/plain": [
       "HBox(children=(HTML(value='Low sigma'), FloatProgress(value=0.0, max=4.0), HTML(value='')))"
      ]
     },
     "metadata": {},
     "output_type": "display_data"
    },
    {
     "data": {
      "application/vnd.jupyter.widget-view+json": {
       "model_id": "",
       "version_major": 2,
       "version_minor": 0
      },
      "text/plain": [
       "HBox(children=(HTML(value='Low sigma'), FloatProgress(value=0.0, max=4.0), HTML(value='')))"
      ]
     },
     "metadata": {},
     "output_type": "display_data"
    },
    {
     "data": {
      "application/vnd.jupyter.widget-view+json": {
       "model_id": "",
       "version_major": 2,
       "version_minor": 0
      },
      "text/plain": [
       "HBox(children=(HTML(value='Low sigma'), FloatProgress(value=0.0, max=4.0), HTML(value='')))"
      ]
     },
     "metadata": {},
     "output_type": "display_data"
    },
    {
     "data": {
      "application/vnd.jupyter.widget-view+json": {
       "model_id": "",
       "version_major": 2,
       "version_minor": 0
      },
      "text/plain": [
       "HBox(children=(HTML(value='Low sigma'), FloatProgress(value=0.0, max=4.0), HTML(value='')))"
      ]
     },
     "metadata": {},
     "output_type": "display_data"
    },
    {
     "data": {
      "application/vnd.jupyter.widget-view+json": {
       "model_id": "",
       "version_major": 2,
       "version_minor": 0
      },
      "text/plain": [
       "HBox(children=(HTML(value='Low sigma'), FloatProgress(value=0.0, max=4.0), HTML(value='')))"
      ]
     },
     "metadata": {},
     "output_type": "display_data"
    },
    {
     "name": "stdout",
     "output_type": "stream",
     "text": [
      "\n"
     ]
    }
   ],
   "source": [
    "guess_low_mean = np.arange(2,2.6,0.05); guess_low_sigma = np.arange(0.05,0.2,0.05)\n",
    "guess_high_mean = np.arange(2.6,3.2,0.05); guess_high_sigma = np.arange(0.05,0.2,0.05)\n",
    "guess_p_back = np.arange(0.05,1,0.05)\n",
    "\"\"\"\n",
    "Constraining guesses of means of low and high distributions based on observed behaviour in figure shown above. \n",
    "Currently estimating only means and p_back.\n",
    "\"\"\"\n",
    "neg_ll_array = np.zeros((len(guess_low_mean),len(guess_low_sigma),\\\n",
    "                         len(guess_high_mean),len(guess_high_sigma),len(guess_p_back)))\n",
    "for lm in tqdm(range(len(guess_low_mean))):\n",
    "    for ls in tqdm(range(len(guess_low_sigma)), leave=False, desc=\"Low sigma\"):\n",
    "        for hm in range(len(guess_high_mean)):\n",
    "            for hs in range(len(guess_high_sigma)):\n",
    "                for pb in range(len(guess_p_back)):\n",
    "                    params = [guess_low_mean[lm], guess_low_sigma[ls], guess_high_mean[hm], \\\n",
    "                              guess_high_sigma[hs], guess_p_back[pb]]\n",
    "                    # print(lm, hm, pb)\n",
    "                    neg_ll_array[lm,ls,hm,hs,pb] = MLE(params)      "
   ]
  },
  {
   "cell_type": "code",
   "execution_count": null,
   "metadata": {},
   "outputs": [],
   "source": [
    "# Means and p_back corresponding to the least negative log likelihood value\n",
    "idxs = np.where(neg_ll_array == np.amin(neg_ll_array)) \n",
    "guess_low_mean[idxs[0]], guess_low_sigma[idxs[1]],  guess_high_mean[idxs[2]], \\\n",
    "guess_high_sigma[idxs[3]], guess_p_back[idxs[4]]"
   ]
  },
  {
   "cell_type": "code",
   "execution_count": null,
   "metadata": {},
   "outputs": [],
   "source": [
    "neg_ll_array"
   ]
  },
  {
   "cell_type": "code",
   "execution_count": null,
   "metadata": {},
   "outputs": [],
   "source": [
    "\"\"\"\n",
    "Visualizing results from fitted parameters of one tone data\n",
    "Perceptual tones have a longer range than the experimental tones.\n",
    "\"\"\"\n",
    "\n",
    "log_freq_percept = np.arange(np.log10(expt_tones[0])-0.5, np.log10(expt_tones[-1])+0.5, 0.05) \n",
    "\n",
    "prior_high_fit,prior_low_fit,posterior_fit = \\\n",
    "posterior_array(log_freq_percept, n_tones=1, p_back=guess_p_back[idxs[4]], p_low=0.5, \\\n",
    "                log_prior_low=[guess_low_mean[idxs[0]],guess_low_sigma[idxs[1]]],\\\n",
    "                log_prior_high=[guess_high_mean[idxs[2]],guess_high_sigma[idxs[3]]])\n",
    "\n",
    "fig = plt.figure()\n",
    "ax = plt.axes()\n",
    "ax.plot(log_freq_percept,posterior)\n",
    "ax.plot(log_freq_percept,posterior_fit)\n",
    "ax.legend(['Original posterior','Fit posterior'])\n",
    "plt.xlabel('1st tone frequency')\n",
    "plt.ylabel('p(H|$\\log T_{percept}$)')\n",
    "plt.show()      \n",
    "        \n",
    "probability_high_fit = np.zeros((len(trial_tones),1))\n",
    "\n",
    "i_trial = 0\n",
    "for i_stim in range(len(trial_tones)):\n",
    "    gaussian_prob_array = gaussian(log_freq_percept, mean = np.log10(trial_tones[i_stim]), sigma = 0.1)\n",
    "    gaussian_prob_array /= np.sum(gaussian_prob_array)\n",
    "    gaussian_prob_array = np.expand_dims(gaussian_prob_array, axis = 1)  \n",
    "    probability_high_fit[i_stim] = np.transpose(posterior_fit)@gaussian_prob_array\n",
    "    \n",
    "fig = plt.figure()\n",
    "ax = plt.axes()\n",
    "ax.plot(np.log10(trial_tones),prob_trial_behaviour,'.') \n",
    "ax.plot(np.log10(trial_tones),probability_high,'.')\n",
    "ax.plot(np.log10(trial_tones),probability_high_fit,'.')\n",
    "ax.legend(['Simulated Data','Original probabilities','Fit probabilities'])\n",
    "plt.xlim(np.log10(expt_tones[0]),np.log10(expt_tones[-1]))\n",
    "plt.ylabel('$p(B_H|\\log T)$')\n",
    "plt.xlabel('log(Frequency)')\n",
    "plt.savefig(\"with_decision_rule,multiplier={},n_tones={},n_trials={}\".format(10,len(trial_tones),size))\n",
    "\n",
    "\"\"\"\n",
    "Shuffling the tones and the behaviour to simluate an experiment\n",
    "\"\"\"\n",
    "s = np.arange(all_trial_tones.shape[0])\n",
    "np.random.shuffle(s)\n",
    "all_trial_tones = all_trial_tones[s]\n",
    "all_trial_behaviour = all_trial_behaviour[s]"
   ]
  },
  {
   "cell_type": "code",
   "execution_count": null,
   "metadata": {},
   "outputs": [],
   "source": []
  }
 ],
 "metadata": {
  "kernelspec": {
   "display_name": "Python 3",
   "language": "python",
   "name": "python3"
  },
  "language_info": {
   "codemirror_mode": {
    "name": "ipython",
    "version": 3
   },
   "file_extension": ".py",
   "mimetype": "text/x-python",
   "name": "python",
   "nbconvert_exporter": "python",
   "pygments_lexer": "ipython3",
   "version": "3.7.6"
  }
 },
 "nbformat": 4,
 "nbformat_minor": 4
}
