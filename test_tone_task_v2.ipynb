{
 "cells": [
  {
   "cell_type": "markdown",
   "metadata": {},
   "source": [
    "This notebook has the following changes compared to \"test_tone_task_v1.nb\"\n",
    "\n",
    "1. Frequencies are distributed with a 20*log(1003/1000) difference in the log domain. \n"
   ]
  },
  {
   "cell_type": "code",
   "execution_count": 1,
   "metadata": {},
   "outputs": [],
   "source": [
    "import numpy as np\n",
    "import matplotlib.pyplot as plt\n",
    "import pdb\n",
    "from scipy.optimize import minimize\n",
    "from scipy.stats import multivariate_normal\n",
    "from tqdm.notebook import tqdm\n",
    "import random"
   ]
  },
  {
   "cell_type": "code",
   "execution_count": 2,
   "metadata": {},
   "outputs": [],
   "source": [
    "def gaussian(x, mean, sigma):\n",
    "    return np.exp(-(x-mean)**2/(2*sigma**2))\n",
    "\n",
    "def posterior_array(log_freq_percept, n_tones, p_back, p_low, \n",
    "                    log_prior_low, log_prior_high):\n",
    "    \"\"\"\n",
    "    Arguments: \n",
    "    log_freq_percept - range of all possible frequencies (percepts?)\n",
    "    p_back - prob of background, p_low - prob of low condition\n",
    "    log_prior_low - gaussian of low condition\n",
    "    log_prior_high - gaussian of high condition\n",
    "    \"\"\"\n",
    "    \n",
    "    log_prior_low_mean = log_prior_low[0]; log_prior_low_sigma = log_prior_low[1];\n",
    "    log_prior_high_mean = log_prior_high[0]; log_prior_high_sigma = log_prior_high[1];\n",
    "    prior_low = gaussian(x=log_freq_percept, mean=log_prior_low_mean, sigma=log_prior_low_sigma)\n",
    "    prior_high = gaussian(x=log_freq_percept, mean=log_prior_high_mean, sigma=log_prior_high_sigma)\n",
    "    prior_dist_mixed_high = p_back*(1/len(log_freq_percept)) + (1-p_back)*prior_high \\\n",
    "    #mixture model with p(T|B) = 1/no. of possible freqs\n",
    "    prior_dist_mixed_high /= prior_dist_mixed_high.sum() #normalizing\n",
    "    prior_dist_mixed_high = np.expand_dims(prior_dist_mixed_high, axis = 1)\n",
    "    prior_dist_mixed_low = p_back*(1/len(log_freq_percept)) + (1-p_back)*prior_low \\\n",
    "    #mixture model with p(T|B) = 1/no. of possible freqs\n",
    "    prior_dist_mixed_low /= prior_dist_mixed_low.sum() #normalizing\n",
    "    prior_dist_mixed_low = np.expand_dims(prior_dist_mixed_low, axis = 1)\n",
    "    \n",
    "    if n_tones == 3:\n",
    "        prior_tones_low = np.expand_dims(prior_dist_mixed_low@np.transpose\\\n",
    "                                         (prior_dist_mixed_low),axis=2)@np.transpose(prior_dist_mixed_low) \\\n",
    "        #p(T1,T2..|L) \n",
    "        prior_tones_high = np.expand_dims(prior_dist_mixed_high@np.transpose\\\n",
    "                                          (prior_dist_mixed_high),axis=2)@np.transpose(prior_dist_mixed_high) \\\n",
    "        #p(T1,T2..|H) \n",
    "    elif n_tones == 2:\n",
    "        prior_tones_low = prior_dist_mixed_low@np.transpose(prior_dist_mixed_low)\n",
    "        prior_tones_high = prior_dist_mixed_high@np.transpose(prior_dist_mixed_high)\n",
    "        \n",
    "    elif n_tones == 1:\n",
    "        prior_tones_low = prior_dist_mixed_low\n",
    "        prior_tones_high = prior_dist_mixed_high\n",
    "        \n",
    "    normalizer = (1-p_low)*prior_tones_high + p_low*prior_tones_low #p(H)*p(T1,T2..|H) + p(L)*p(T1,T2..|L)\n",
    "    posterior = prior_tones_high*(1-p_low)/normalizer\n",
    "    # posterior /= np.sum(posterior)\n",
    "    \n",
    "    return prior_dist_mixed_high, prior_dist_mixed_low, posterior"
   ]
  },
  {
   "cell_type": "code",
   "execution_count": 3,
   "metadata": {},
   "outputs": [],
   "source": [
    "# experimental task\n",
    "def task(freq_seq, n_trials = 10, n_tones = 3, p_low = 0.5, p_back = 0.3):\n",
    "    log_freq_seq_array = np.arange(np.log10(freq_seq[0]), np.log10(freq_seq[-1]), np.log10(1003/1000)*40)\n",
    "    log_freq_seq_mid = np.median(log_freq_seq_array)\n",
    "    log_freq_low = [log_freq_seq_mid - 0.2,0.1]  #low freq condition is gaussian \n",
    "    log_freq_high = [log_freq_seq_mid + 0.2,0.1] #high freq condition is gaussian\n",
    "    trial_tones = []\n",
    "    dist_chosen = []\n",
    "    kind_of_tones = []\n",
    "\n",
    "    for trial in range(n_trials):\n",
    "        signal_rand = np.random.random()\n",
    "        low_dist = signal_rand < p_low #choosing true tone from either low or high condition\n",
    "        tones = []\n",
    "        tone_kind = []\n",
    "        for n_tone in range(n_tones):\n",
    "            signal_back = np.random.random()\n",
    "            background = signal_back < p_back #choosing background or true tone\n",
    "            if background:\n",
    "                if np.random.random() < 0.5:                    \n",
    "                    nearest_log_tone = \\\n",
    "                    np.random.choice(log_freq_seq_array[0:np.argmin(np.abs(log_freq_seq_array -\\\n",
    "                                                        (log_freq_low[0]-0*log_freq_low[1])))])\n",
    "                else:\n",
    "                    nearest_log_tone = \\\n",
    "                    np.random.choice(log_freq_seq_array[np.argmin(np.abs(log_freq_seq_array -\\\n",
    "                                                        (log_freq_high[0]+0*log_freq_high[1]))):-1])\n",
    "                #background freq is chosen from a uniform distribution\n",
    "                tone_kind.append('b')\n",
    "            else: \n",
    "                if low_dist:\n",
    "                    tone = min(max(np.random.randn()*log_freq_low[1] + log_freq_low[0],\\\n",
    "                                   log_freq_seq_array[0]),log_freq_seq_array[-1])                    \n",
    "                    tone_kind.append('l')\n",
    "                else:\n",
    "                    tone = min(max(np.random.randn()*log_freq_high[1] + log_freq_high[0],\\\n",
    "                                   log_freq_seq_array[0]),log_freq_seq_array[-1])\n",
    "                    tone_kind.append('h')\n",
    "                nearest_log_tone = log_freq_seq_array[np.argmin(np.abs(log_freq_seq_array - tone))]\n",
    "            nearest_tone = freq_seq[np.argmin(np.abs(freq_seq - 10**nearest_log_tone))]        \n",
    "            tones.append(nearest_tone)\n",
    "        trial_tones.append(tones)\n",
    "        dist_chosen.append(low_dist)\n",
    "        kind_of_tones.append(tone_kind)\n",
    "    return trial_tones, dist_chosen, kind_of_tones, log_freq_low, log_freq_high"
   ]
  },
  {
   "cell_type": "code",
   "execution_count": 4,
   "metadata": {},
   "outputs": [
    {
     "name": "stdout",
     "output_type": "stream",
     "text": [
      "[102] [48]\n"
     ]
    }
   ],
   "source": [
    "# Given only one true tone\n",
    "\"\"\"\n",
    "Sample experiment\n",
    "\"\"\"\n",
    "expt_tones = np.arange(100,2000,1) #array of possible true tones\n",
    "trial_tones, dist_chosen, kind_of_tones, log_freq_low, log_freq_high \\\n",
    "= task(freq_seq = expt_tones, n_trials = 150, n_tones = 1)\n",
    "\n",
    "\"\"\"\n",
    "Following code helps with understanding how many background tones are being sampled. \n",
    "\"\"\"\n",
    "background_tone_cnt = np.zeros((len(trial_tones),1))\n",
    "for i_trial in range(len(trial_tones)):\n",
    "    background_tone_cnt[i_trial] = kind_of_tones[i_trial].count('b')\n",
    "num_difficult_tones = np.sum(background_tone_cnt > 1)\n",
    "\n",
    "old_difficult_tones_idxs = np.where(background_tone_cnt > 1)[0][:]\n",
    "old_simple_tones_idxs = np.where(background_tone_cnt < 2)[0][:]\n",
    "\n",
    "if (np.diff(old_difficult_tones_idxs)<2).any():\n",
    "    new_difficult_tones_idxs = \\\n",
    "    [2*i + x \\\n",
    "     for i, x \\\n",
    "     in enumerate(sorted(random.sample(range(2*num_difficult_tones), num_difficult_tones)))]\n",
    "    new_simple_tones_idxs = np.delete(np.arange(len(trial_tones)),new_difficult_tones_idxs)\n",
    "    new_testing_trials = np.zeros_like(trial_tones)   \n",
    "    new_testing_trials[new_difficult_tones_idxs] = np.array(trial_tones)[old_difficult_tones_idxs]\n",
    "    new_testing_trials[new_simple_tones_idxs] = np.array(trial_tones)[old_simple_tones_idxs]\n",
    "    new_dist_chosen = np.zeros_like(dist_chosen)\n",
    "    new_dist_chosen[new_difficult_tones_idxs] = np.array(dist_chosen)[old_difficult_tones_idxs]\n",
    "    new_dist_chosen[new_simple_tones_idxs] = np.array(dist_chosen)[old_simple_tones_idxs]\n",
    "    new_kind_of_tones = np.zeros_like(kind_of_tones)\n",
    "    new_kind_of_tones[new_difficult_tones_idxs] = np.array(kind_of_tones)[old_difficult_tones_idxs]\n",
    "    new_kind_of_tones[new_simple_tones_idxs] = np.array(kind_of_tones)[old_simple_tones_idxs]\n",
    "    \n",
    "    trial_tones = list(new_testing_trials)\n",
    "    dist_chosen = list(new_dist_chosen)\n",
    "    kind_of_tones = list(new_kind_of_tones)\n",
    "    \n",
    "print(sum(background_tone_cnt == 0), sum(background_tone_cnt == 1))\n",
    "    "
   ]
  },
  {
   "cell_type": "code",
   "execution_count": 7,
   "metadata": {},
   "outputs": [
    {
     "name": "stdout",
     "output_type": "stream",
     "text": [
      "[51] [37] [12]\n"
     ]
    }
   ],
   "source": [
    "# Given two tones\n",
    "\"\"\"\n",
    "Sample experiment\n",
    "\"\"\"\n",
    "expt_tones = np.arange(100,2000,1) #array of possible true tones\n",
    "trial_tones, dist_chosen, kind_of_tones, log_freq_low, log_freq_high = \\\n",
    "task(freq_seq = expt_tones, n_trials = 100, n_tones = 2)\n",
    "\n",
    "\"\"\"\n",
    "Following code helps with understanding how many background tones are being sampled. \n",
    "\"\"\"\n",
    "background_tone_cnt = np.zeros((len(trial_tones),1))\n",
    "for i_trial in range(len(trial_tones)):\n",
    "    background_tone_cnt[i_trial] = kind_of_tones[i_trial].count('b')\n",
    "num_difficult_tones = np.sum(background_tone_cnt > 1)\n",
    "\n",
    "old_difficult_tones_idxs = np.where(background_tone_cnt > 1)[0][:]\n",
    "old_simple_tones_idxs = np.where(background_tone_cnt < 2)[0][:]\n",
    "\n",
    "if (np.diff(old_difficult_tones_idxs)<2).any():\n",
    "    new_difficult_tones_idxs = \\\n",
    "    [2*i + x \\\n",
    "     for i, x \\\n",
    "     in enumerate(sorted(random.sample(range(2*num_difficult_tones), num_difficult_tones)))]\n",
    "    new_simple_tones_idxs = np.delete(np.arange(len(trial_tones)),new_difficult_tones_idxs)\n",
    "    new_testing_trials = np.zeros_like(trial_tones)   \n",
    "    new_testing_trials[new_difficult_tones_idxs] = np.array(trial_tones)[old_difficult_tones_idxs]\n",
    "    new_testing_trials[new_simple_tones_idxs] = np.array(trial_tones)[old_simple_tones_idxs]\n",
    "    new_dist_chosen = np.zeros_like(dist_chosen)\n",
    "    new_dist_chosen[new_difficult_tones_idxs] = np.array(dist_chosen)[old_difficult_tones_idxs]\n",
    "    new_dist_chosen[new_simple_tones_idxs] = np.array(dist_chosen)[old_simple_tones_idxs]\n",
    "    new_kind_of_tones = np.zeros_like(kind_of_tones)\n",
    "    new_kind_of_tones[new_difficult_tones_idxs] = np.array(kind_of_tones)[old_difficult_tones_idxs]\n",
    "    new_kind_of_tones[new_simple_tones_idxs] = np.array(kind_of_tones)[old_simple_tones_idxs]\n",
    "    \n",
    "    trial_tones = list(new_testing_trials)\n",
    "    dist_chosen = list(new_dist_chosen)\n",
    "    kind_of_tones = list(new_kind_of_tones)\n",
    "    \n",
    "print(sum(background_tone_cnt == 0), sum(background_tone_cnt == 1), sum(background_tone_cnt == 2))"
   ]
  },
  {
   "cell_type": "code",
   "execution_count": 6,
   "metadata": {},
   "outputs": [
    {
     "name": "stdout",
     "output_type": "stream",
     "text": [
      "[208] [444] [302] [46]\n"
     ]
    }
   ],
   "source": [
    "# Given three tones\n",
    "\"\"\"\n",
    "Sample experiment\n",
    "\"\"\"\n",
    "expt_tones = np.arange(100,2000,1) #array of possible true tones\n",
    "trial_tones, dist_chosen, kind_of_tones, log_freq_low, log_freq_high = \\\n",
    "task(freq_seq = expt_tones, n_trials = 1000, n_tones = 3)\n",
    "\n",
    "\"\"\"\n",
    "Following code helps with understanding how many background tones are being sampled. \n",
    "\"\"\"\n",
    "background_tone_cnt = np.zeros((len(trial_tones),1))\n",
    "for i_trial in range(len(trial_tones)):\n",
    "    background_tone_cnt[i_trial] = kind_of_tones[i_trial].count('b')\n",
    "num_difficult_tones = np.sum(background_tone_cnt > 2)\n",
    "\n",
    "old_difficult_tones_idxs = np.where(background_tone_cnt > 3)[0][:]\n",
    "old_simple_tones_idxs = np.where(background_tone_cnt < 3)[0][:]\n",
    "\n",
    "if (np.diff(old_difficult_tones_idxs)<2).any():\n",
    "    new_difficult_tones_idxs = \\\n",
    "    [2*i + x \\\n",
    "     for i, x \\\n",
    "     in enumerate(sorted(random.sample(range(2*num_difficult_tones), num_difficult_tones)))]\n",
    "    new_simple_tones_idxs = np.delete(np.arange(len(trial_tones)),new_difficult_tones_idxs)\n",
    "    new_testing_trials = np.zeros_like(trial_tones)   \n",
    "    new_testing_trials[new_difficult_tones_idxs] = np.array(trial_tones)[old_difficult_tones_idxs]\n",
    "    new_testing_trials[new_simple_tones_idxs] = np.array(trial_tones)[old_simple_tones_idxs]\n",
    "    new_dist_chosen = np.zeros_like(dist_chosen)\n",
    "    new_dist_chosen[new_difficult_tones_idxs] = np.array(dist_chosen)[old_difficult_tones_idxs]\n",
    "    new_dist_chosen[new_simple_tones_idxs] = np.array(dist_chosen)[old_simple_tones_idxs]\n",
    "    new_kind_of_tones = np.zeros_like(kind_of_tones)\n",
    "    new_kind_of_tones[new_difficult_tones_idxs] = np.array(kind_of_tones)[old_difficult_tones_idxs]\n",
    "    new_kind_of_tones[new_simple_tones_idxs] = np.array(kind_of_tones)[old_simple_tones_idxs]\n",
    "    \n",
    "    trial_tones = list(new_testing_trials)\n",
    "    dist_chosen = list(new_dist_chosen)\n",
    "    kind_of_tones = list(new_kind_of_tones)\n",
    "    \n",
    "print(sum(background_tone_cnt == 0), sum(background_tone_cnt == 1), \\\n",
    "      sum(background_tone_cnt == 2), sum(background_tone_cnt == 3))"
   ]
  },
  {
   "cell_type": "code",
   "execution_count": 23,
   "metadata": {},
   "outputs": [
    {
     "data": {
      "image/png": "[encoded data removed]",
      "text/plain": [
       "<Figure size 432x288 with 1 Axes>"
      ]
     },
     "metadata": {
      "needs_background": "light"
     },
     "output_type": "display_data"
    },
    {
     "data": {
      "image/png": "[encoded data removed]",
      "text/plain": [
       "<Figure size 432x288 with 1 Axes>"
      ]
     },
     "metadata": {
      "needs_background": "light"
     },
     "output_type": "display_data"
    },
    {
     "data": {
      "text/plain": [
       "[<matplotlib.lines.Line2D at 0x7fb379e70890>]"
      ]
     },
     "execution_count": 23,
     "metadata": {},
     "output_type": "execute_result"
    },
    {
     "data": {
      "image/png": "[encoded data removed]",
      "text/plain": [
       "<Figure size 432x288 with 1 Axes>"
      ]
     },
     "metadata": {
      "needs_background": "light"
     },
     "output_type": "display_data"
    }
   ],
   "source": [
    "\"\"\"\n",
    "One tone\n",
    "Perceptual tones have a longer range than the experimental tones.\n",
    "\"\"\"\n",
    "\n",
    "log_freq_percept = np.arange(np.log10(expt_tones[0])-0.5, np.log10(expt_tones[-1])+0.5, 0.05) \n",
    "\n",
    "prior_dist_mixed_high, prior_dist_mixed_low, posterior = \\\n",
    "posterior_array(log_freq_percept, n_tones=1, p_back=0.2, p_low=0.5, \\\n",
    "               log_prior_low=log_freq_low, log_prior_high=log_freq_high)\n",
    "            \n",
    "plt.plot(log_freq_percept,posterior)\n",
    "plt.xlabel('1st tone frequency')\n",
    "plt.ylabel('p(H|$\\log T_{percept}$)')\n",
    "plt.show() \n",
    "\n",
    "\"\"\"\n",
    "Given the true tones, derive the noisy perceptual distribution and compute the correponding observer's behaviour\n",
    "Decision rule - the behaviour is 1 if p(H|log(T_{perc})) > 0.52 and 0 if p(H|log(T_{perc})) < 0.48. \n",
    "Otherwise we assume that the observer being imperfect has a 0.5 probability of choosing high or low. \n",
    "Probability_high - probability the observer will choose high given the true tone, p(B_H|log(T))\n",
    "\"\"\"\n",
    "probability_bhigh = np.zeros((len(trial_tones),1))\n",
    "probability_high = np.zeros((len(trial_tones),1))\n",
    "behaviour = (posterior >= 0.7)\n",
    "for i_post in range(len(posterior)):\n",
    "    if posterior[i_post] < 0.7 and posterior[i_post] > 0.3:\n",
    "        behaviour[i_post] = np.random.random() < 0.5\n",
    "plt.plot(log_freq_percept, behaviour,'.')\n",
    "plt.xlabel('1st tone frequency')\n",
    "plt.ylabel('Behaviour$)')\n",
    "plt.show()         \n",
    "        \n",
    "for i_stim in range(len(trial_tones)):\n",
    "    input_array = gaussian(log_freq_percept, mean = np.log10(trial_tones[i_stim]), sigma = 0.1)\n",
    "    input_array /= np.sum(input_array)\n",
    "    input_array = np.expand_dims(input_array, axis = 1)  \n",
    "    \"\"\"\n",
    "    for i_post in range(len(posterior)):\n",
    "        if posterior[i_post] < 0.53 and posterior[i_post] > 0.47:\n",
    "            behaviour[i_post] = np.random.random() < 0.5\n",
    "    \"\"\"        \n",
    "    probability_bhigh[i_stim] = np.transpose(behaviour)@input_array\n",
    "    probability_high[i_stim] = np.transpose(posterior)@input_array\n",
    "\n",
    "plt.plot(np.log10(trial_tones), probability_bhigh,'.') \n",
    "plt.plot(np.log10(trial_tones), probability_high,'.')\n",
    "plt.xlim(np.log10(expt_tones[0]),np.log10(expt_tones[-1]))\n",
    "plt.ylabel('$p(H|\\log T)$')\n",
    "plt.xlabel('log(Frequency)')\n",
    "\n",
    "\"\"\"\n",
    "For sample experiment, we choose the observer's behaviour based on p(B_H|\\log T).\n",
    "If p(B_H|\\log T) > 0.55, H = 1, if less than < 0.45, H = 0. Else it is a coin toss. \n",
    "\"\"\"\n",
    "\n",
    "trial_behaviour = probability_bhigh > 0.7\n",
    "for i_prob in range(len(probability_bhigh)):\n",
    "        if probability_bhigh[i_prob] > 0.3 and probability_bhigh[i_prob] < 0.7:\n",
    "            trial_behaviour[i_prob] = np.random.random() < 0.5\n",
    "plt.plot(np.log10(trial_tones), trial_behaviour, '.')"
   ]
  },
  {
   "cell_type": "code",
   "execution_count": 8,
   "metadata": {},
   "outputs": [],
   "source": [
    "\"\"\"\n",
    "Two tones\n",
    "Perceptual tones have a longer range than the experimental tones.\n",
    "\"\"\"\n",
    "log_freq_percept = np.arange(np.log10(expt_tones[0])-0.5, \\\n",
    "                             np.log10(expt_tones[-1])+0.5, 0.05) # array of possible perceptual tones\n",
    "\n",
    "prior_dist_mixed_high, prior_dist_mixed_low, posterior = \\\n",
    "posterior_array(log_freq_percept, n_tones=2, p_back=0.2, p_low=0.5, \\\n",
    "                log_prior_low=log_freq_low, log_prior_high=log_freq_high) \n",
    "\n",
    "\"\"\"\n",
    "Given the true tones, derive the noisy perceptual distribution and compute the correponding observer's behaviour\n",
    "Decision rule - the behaviour is 1 if p(H|log T_{perc}) > 0.52 and 0 if p(H|log T_{perc}) < 0.48. \n",
    "Otherwise we assume that the observer being imperfect has a 0.5 probability of choosing high or low. \n",
    "Probability_high - probability the observer will choose high given the true tone, p(B_H|T)\n",
    "\"\"\"\n",
    "probability_high = np.zeros((len(trial_tones),1))\n",
    "probability_bhigh = np.zeros((len(trial_tones),1))\n",
    "behaviour = posterior >= 0.52\n",
    "for i_post0 in range(posterior.shape[0]):\n",
    "    for i_post1 in range(posterior.shape[1]):\n",
    "        if posterior[i_post0, i_post1] < 0.52 and posterior[i_post0, i_post1] > 0.48:\n",
    "            behaviour[i_post0, i_post1] = np.random.random() < 0.5\n",
    "            \n",
    "for i_stim in range(len(trial_tones)):\n",
    "    input_array_0 = np.expand_dims(gaussian(log_freq_percept, mean = np.log10(trial_tones[i_stim][0]), \\\n",
    "                                            sigma = 0.1), axis = 1)\n",
    "    input_array_1 = np.expand_dims(gaussian(log_freq_percept, mean = np.log10(trial_tones[i_stim][1]), \\\n",
    "                                            sigma = 0.1), axis = 1)\n",
    "    input_array_mat = input_array_0@np.transpose(input_array_1)  \n",
    "    input_array_mat /= np.sum(input_array_mat)\n",
    "    probability_bhigh[i_stim] = np.sum(np.multiply(behaviour, input_array_mat))\n",
    "    probability_high[i_stim] = np.sum(np.multiply(posterior, input_array_mat))\n",
    "\n",
    "\"\"\"\n",
    "For sample experiment, we choose the observer's behaviour based on p(B_H|T).\n",
    "If p(B_H|T) > 0.55, H = 1, if less than < 0.45, H = 0. Else it is a coin toss. \n",
    "\"\"\"\n",
    "trial_behaviour =  probability_bhigh > 0.6\n",
    "for i_prob in range(len(probability_bhigh)):\n",
    "    if probability_bhigh[i_prob] > 0.4 and probability_bhigh[i_prob] < 0.6:\n",
    "        trial_behaviour[i_prob] = np.random.random() < 0.5"
   ]
  },
  {
   "cell_type": "code",
   "execution_count": 9,
   "metadata": {},
   "outputs": [
    {
     "data": {
      "text/plain": [
       "Text(0, 0.5, '2nd tone frequency')"
      ]
     },
     "execution_count": 9,
     "metadata": {},
     "output_type": "execute_result"
    },
    {
     "data": {
      "image/png": "[encoded data removed]",
      "text/plain": [
       "<Figure size 432x288 with 2 Axes>"
      ]
     },
     "metadata": {
      "needs_background": "light"
     },
     "output_type": "display_data"
    }
   ],
   "source": [
    "fig = plt.figure()\n",
    "ax = fig.add_subplot(111)\n",
    "colormap = ax.imshow(posterior, extent=[log_freq_percept[0], log_freq_percept[-1], \\\n",
    "                                        log_freq_percept[-1], log_freq_percept[0]])\n",
    "ax.invert_yaxis()\n",
    "cbar = plt.colorbar(colormap, ax=ax)\n",
    "ax.set_xlabel('1st tone frequency')\n",
    "ax.set_ylabel('2nd tone frequency')"
   ]
  },
  {
   "cell_type": "code",
   "execution_count": 7,
   "metadata": {},
   "outputs": [],
   "source": [
    "\"\"\"\n",
    "Three tones\n",
    "Perceptual tones have a longer range than the experimental tones.\n",
    "\"\"\"\n",
    "log_freq_percept = np.arange(np.log10(expt_tones[0])-0.5, \\\n",
    "                             np.log10(expt_tones[-1])+0.5, 0.05) # array of possible perceptual tones\n",
    "\n",
    "prior_dist_mixed_high, prior_dist_mixed_low, posterior = \\\n",
    "posterior_array(log_freq_percept, n_tones=3, p_back=0.2, p_low=0.5, \\\n",
    "                log_prior_low=log_freq_low, log_prior_high=log_freq_high) \n",
    "\n",
    "\"\"\"\n",
    "Given the true tones, derive the noisy perceptual distribution and compute the correponding observer's behaviour\n",
    "Decision rule - the behaviour is 1 if p(H|log T_{perc}) > 0.52 and 0 if p(H|log T_{perc}) < 0.48. \n",
    "Otherwise we assume that the observer being imperfect has a 0.5 probability of choosing high or low. \n",
    "Probability_high - probability the observer will choose high given the true tone, p(B_H|T)\n",
    "\"\"\"\n",
    "probability_high = np.zeros((len(trial_tones),1))\n",
    "probability_bhigh = np.zeros((len(trial_tones),1))\n",
    "behaviour = posterior >= 0.52\n",
    "for i_post0 in range(posterior.shape[0]):\n",
    "    for i_post1 in range(posterior.shape[1]):\n",
    "        for i_post2 in range(posterior.shape[2]):\n",
    "            if posterior[i_post0, i_post1, i_post2] < 0.52 and posterior[i_post0, i_post1, i_post2] > 0.48:\n",
    "                behaviour[i_post0, i_post1, i_post2] = np.random.random() < 0.5\n",
    "            \n",
    "for i_stim in range(len(trial_tones)):\n",
    "    input_array_0 = np.expand_dims(gaussian(log_freq_percept, mean = np.log10(trial_tones[i_stim][0]), \\\n",
    "                                            sigma = 0.1), axis = 1)\n",
    "    input_array_1 = np.expand_dims(gaussian(log_freq_percept, mean = np.log10(trial_tones[i_stim][1]), \\\n",
    "                                            sigma = 0.1), axis = 1)\n",
    "    input_array_2 = np.expand_dims(gaussian(log_freq_percept, mean = np.log10(trial_tones[i_stim][2]), \\\n",
    "                                            sigma = 0.1), axis = 1)\n",
    "    input_array_mat = np.expand_dims(input_array_0@np.transpose(input_array_1),axis=2)@np.transpose(input_array_2)\\\n",
    "                                   #p(T1,T2..|H)     \n",
    "    input_array_mat /= np.sum(input_array_mat)\n",
    "    probability_bhigh[i_stim] = np.sum(np.multiply(behaviour, input_array_mat))\n",
    "    probability_high[i_stim] = np.sum(np.multiply(posterior, input_array_mat))\n",
    "\n",
    "\"\"\"\n",
    "For sample experiment, we choose the observer's behaviour based on p(B_H|T).\n",
    "If p(B_H|T) > 0.55, H = 1, if less than < 0.45, H = 0. Else it is a coin toss. \n",
    "\"\"\"\n",
    "trial_behaviour =  probability_bhigh > 0.6\n",
    "for i_prob in range(len(probability_bhigh)):\n",
    "    if probability_bhigh[i_prob] > 0.4 and probability_bhigh[i_prob] < 0.6:\n",
    "        trial_behaviour[i_prob] = np.random.random() < 0.5"
   ]
  },
  {
   "cell_type": "code",
   "execution_count": 10,
   "metadata": {},
   "outputs": [],
   "source": [
    "# define mle function\n",
    "def MLE(params):\n",
    "    log_prior_low_mean, log_prior_low_sigma, log_prior_high_mean, log_prior_high_sigma, p_back = \\\n",
    "    params[0], params[1], params[2], params[3], params[4] # inputs are guesses at our parameters\n",
    "    \n",
    "    prior_low = gaussian(x=log_freq_percept, mean=log_prior_low_mean, sigma=log_prior_low_sigma)\n",
    "    prior_high = gaussian(x=log_freq_percept, mean=log_prior_high_mean, sigma=log_prior_high_sigma)\n",
    "    prior_dist_mixed_high = p_back*(1/len(log_freq_percept)) + (1-p_back)*prior_high #mixture model\n",
    "    prior_dist_mixed_high /= prior_dist_mixed_high.sum() #normalizing\n",
    "    prior_dist_mixed_high = np.expand_dims(prior_dist_mixed_high, axis = 1)\n",
    "    prior_dist_mixed_low = p_back*(1/len(log_freq_percept)) + (1-p_back)*prior_low #mixture model\n",
    "    prior_dist_mixed_low /= prior_dist_mixed_low.sum() #normalizing\n",
    "    prior_dist_mixed_low = np.expand_dims(prior_dist_mixed_low, axis = 1)\n",
    "\n",
    "    if len(trial_tones[0]) == 3:\n",
    "        prior_tones_low = np.expand_dims(prior_dist_mixed_low@np.transpose\\\n",
    "                                         (prior_dist_mixed_low),axis=2)@np.transpose(prior_dist_mixed_low) \\\n",
    "        #p(T1,T2..|L) \n",
    "        prior_tones_high = np.expand_dims(prior_dist_mixed_high@np.transpose\\\n",
    "                                          (prior_dist_mixed_high),axis=2)@np.transpose(prior_dist_mixed_high) \\\n",
    "        #p(T1,T2..|H) \n",
    "        \n",
    "    elif len(trial_tones[0]) == 2:\n",
    "        prior_tones_low = prior_dist_mixed_low@np.transpose(prior_dist_mixed_low)\n",
    "        #p(T1,T2..|L) \n",
    "        prior_tones_high = prior_dist_mixed_high@np.transpose(prior_dist_mixed_high)\n",
    "        #p(T1,T2..|H) \n",
    "        \n",
    "    elif len(trial_tones[0]) == 1:\n",
    "        prior_tones_low = prior_dist_mixed_low\n",
    "        prior_tones_high = prior_dist_mixed_high\n",
    "    \n",
    "    p_low = 0.5 \n",
    "    normalizer = (1-p_low)*prior_tones_high + p_low*prior_tones_low #p(H)*p(T1,T2..|H) + p(L)*p(T1,T2..|L)\n",
    "    posterior = prior_tones_high*(1-p_low)/normalizer  \n",
    "    behaviour0 = posterior >= 0.52\n",
    "    if len(trial_tones[0]) == 3:\n",
    "        for i_post0 in range(posterior.shape[0]):\n",
    "            for i_post1 in range(posterior.shape[1]):\n",
    "                for i_post2 in range(posterior.shape[2]):\n",
    "                    if posterior[i_post0, i_post1, i_post2] < 0.52 and posterior[i_post0, i_post1, i_post2] > 0.48:\n",
    "                        behaviour0[i_post0, i_post1, i_post2] = np.random.random() < 0.5    \n",
    "    elif len(trial_tones[0]) == 2:\n",
    "        for i_post0 in range(posterior.shape[0]):\n",
    "            for i_post1 in range(posterior.shape[1]):\n",
    "                    if posterior[i_post0, i_post1] < 0.52 and posterior[i_post0, i_post1] > 0.48:\n",
    "                        behaviour0[i_post0, i_post1] = np.random.random() < 0.5 \n",
    "    elif len(trial_tones[0]) == 1:           \n",
    "        for i_post in range(len(posterior)):\n",
    "            if posterior[i_post] < 0.52 and posterior[i_post] > 0.48:\n",
    "                behaviour0[i_post] = np.random.random() < 0.5\n",
    "        \n",
    "    neg_ll = 0; \n",
    "    probability_high = np.zeros((len(trial_tones),1))\n",
    "    for i_trial in range(len(trial_tones)):\n",
    "        if len(trial_tones[i_trial]) == 3: \n",
    "            input_array_0 = np.expand_dims(gaussian(log_freq_percept, mean = np.log10(trial_tones[i_trial][0]), \\\n",
    "                                            sigma = 0.1), axis = 1)\n",
    "            input_array_1 = np.expand_dims(gaussian(log_freq_percept, mean = np.log10(trial_tones[i_trial][1]), \\\n",
    "                                            sigma = 0.1), axis = 1)\n",
    "            input_array_2 = np.expand_dims(gaussian(log_freq_percept, mean = np.log10(trial_tones[i_trial][2]), \\\n",
    "                                            sigma = 0.1), axis = 1)\n",
    "            input_array_mat = np.expand_dims(input_array_0@np.transpose\\\n",
    "                                             (input_array_1),axis=2)@np.transpose(input_array_2) #p(T1,T2..|H)     \n",
    "            input_array_mat /= np.sum(input_array_mat)\n",
    "            probability_high0 = np.sum(np.multiply(posterior, input_array_mat))\n",
    "            \n",
    "        elif len(trial_tones[i_trial]) == 2: \n",
    "            for i_post0 in range(posterior.shape[0]):\n",
    "                for i_post1 in range(posterior.shape[1]):\n",
    "                    if posterior[i_post0, i_post1] < 0.52 and posterior[i_post0, i_post1] > 0.48:\n",
    "                        behaviour0[i_post0, i_post1] = np.random.random() < 0.5 \n",
    "            input_array_0 = np.expand_dims(gaussian(log_freq_percept, mean = np.log10(trial_tones[i_trial][0]), \\\n",
    "                                            sigma = 0.1), axis = 1)\n",
    "            input_array_1 = np.expand_dims(gaussian(log_freq_percept, mean = np.log10(trial_tones[i_trial][1]), \\\n",
    "                                            sigma = 0.1), axis = 1)\n",
    "            input_array_mat = input_array_0@np.transpose(input_array_1) #p(T1,T2..|H)     \n",
    "            input_array_mat /= np.sum(input_array_mat)\n",
    "            probability_high0 = np.sum(np.multiply(behaviour0, input_array_mat))    \n",
    "            \n",
    "        elif len(trial_tones[i_trial]) == 1:\n",
    "            for i_post in range(len(posterior)):\n",
    "                if posterior[i_post] < 0.52 and posterior[i_post] > 0.48:\n",
    "                    behaviour0[i_post] = np.random.random() < 0.5\n",
    "            input_array = gaussian(log_freq_percept, mean = np.log10(trial_tones[i_trial][0]), sigma = 0.1)\n",
    "            input_array /= np.sum(input_array)\n",
    "            input_array = np.expand_dims(input_array, axis = 1)            \n",
    "            probability_high0 = np.transpose(behaviour0)@input_array # np.transpose(behaviour0)@input_array\n",
    "            probability_high[i_trial] = np.transpose(behaviour0)@input_array \\\n",
    "            # np.transpose(behaviour0)@input_array       \n",
    "            \n",
    "        if trial_behaviour[i_trial]:\n",
    "            neg_ll += -np.log(probability_high0 + np.finfo(float).eps) # if high dist is chosen by observer\n",
    "        else:\n",
    "            neg_ll += -np.log(1 - probability_high0 + np.finfo(float).eps) # if low dist is chosen by observer\n",
    "        if np.isnan(np.log(probability_high0 + 0.00001)) \\\n",
    "        or np.isinf(np.log(probability_high0 + 0.00001)) \\\n",
    "        or np.isnan(np.log(1 - probability_high0 + 0.00001)) \\\n",
    "        or np.isinf(np.log(1 - probability_high0 + 0.00001)):\n",
    "            pdb.set_trace()        \n",
    "    return(neg_ll)"
   ]
  },
  {
   "cell_type": "code",
   "execution_count": 11,
   "metadata": {},
   "outputs": [
    {
     "data": {
      "application/vnd.jupyter.widget-view+json": {
       "model_id": "0fb67926b2184feaa3904d1aff8ddf72",
       "version_major": 2,
       "version_minor": 0
      },
      "text/plain": [
       "HBox(children=(HTML(value=''), FloatProgress(value=0.0, max=13.0), HTML(value='')))"
      ]
     },
     "metadata": {},
     "output_type": "display_data"
    },
    {
     "data": {
      "application/vnd.jupyter.widget-view+json": {
       "model_id": "",
       "version_major": 2,
       "version_minor": 0
      },
      "text/plain": [
       "HBox(children=(HTML(value='Low sigma'), FloatProgress(value=0.0, max=4.0), HTML(value='')))"
      ]
     },
     "metadata": {},
     "output_type": "display_data"
    },
    {
     "data": {
      "application/vnd.jupyter.widget-view+json": {
       "model_id": "",
       "version_major": 2,
       "version_minor": 0
      },
      "text/plain": [
       "HBox(children=(HTML(value='Low sigma'), FloatProgress(value=0.0, max=4.0), HTML(value='')))"
      ]
     },
     "metadata": {},
     "output_type": "display_data"
    },
    {
     "data": {
      "application/vnd.jupyter.widget-view+json": {
       "model_id": "",
       "version_major": 2,
       "version_minor": 0
      },
      "text/plain": [
       "HBox(children=(HTML(value='Low sigma'), FloatProgress(value=0.0, max=4.0), HTML(value='')))"
      ]
     },
     "metadata": {},
     "output_type": "display_data"
    },
    {
     "data": {
      "application/vnd.jupyter.widget-view+json": {
       "model_id": "",
       "version_major": 2,
       "version_minor": 0
      },
      "text/plain": [
       "HBox(children=(HTML(value='Low sigma'), FloatProgress(value=0.0, max=4.0), HTML(value='')))"
      ]
     },
     "metadata": {},
     "output_type": "display_data"
    },
    {
     "data": {
      "application/vnd.jupyter.widget-view+json": {
       "model_id": "",
       "version_major": 2,
       "version_minor": 0
      },
      "text/plain": [
       "HBox(children=(HTML(value='Low sigma'), FloatProgress(value=0.0, max=4.0), HTML(value='')))"
      ]
     },
     "metadata": {},
     "output_type": "display_data"
    },
    {
     "data": {
      "application/vnd.jupyter.widget-view+json": {
       "model_id": "",
       "version_major": 2,
       "version_minor": 0
      },
      "text/plain": [
       "HBox(children=(HTML(value='Low sigma'), FloatProgress(value=0.0, max=4.0), HTML(value='')))"
      ]
     },
     "metadata": {},
     "output_type": "display_data"
    },
    {
     "data": {
      "application/vnd.jupyter.widget-view+json": {
       "model_id": "",
       "version_major": 2,
       "version_minor": 0
      },
      "text/plain": [
       "HBox(children=(HTML(value='Low sigma'), FloatProgress(value=0.0, max=4.0), HTML(value='')))"
      ]
     },
     "metadata": {},
     "output_type": "display_data"
    },
    {
     "data": {
      "application/vnd.jupyter.widget-view+json": {
       "model_id": "",
       "version_major": 2,
       "version_minor": 0
      },
      "text/plain": [
       "HBox(children=(HTML(value='Low sigma'), FloatProgress(value=0.0, max=4.0), HTML(value='')))"
      ]
     },
     "metadata": {},
     "output_type": "display_data"
    },
    {
     "data": {
      "application/vnd.jupyter.widget-view+json": {
       "model_id": "",
       "version_major": 2,
       "version_minor": 0
      },
      "text/plain": [
       "HBox(children=(HTML(value='Low sigma'), FloatProgress(value=0.0, max=4.0), HTML(value='')))"
      ]
     },
     "metadata": {},
     "output_type": "display_data"
    },
    {
     "data": {
      "application/vnd.jupyter.widget-view+json": {
       "model_id": "",
       "version_major": 2,
       "version_minor": 0
      },
      "text/plain": [
       "HBox(children=(HTML(value='Low sigma'), FloatProgress(value=0.0, max=4.0), HTML(value='')))"
      ]
     },
     "metadata": {},
     "output_type": "display_data"
    },
    {
     "data": {
      "application/vnd.jupyter.widget-view+json": {
       "model_id": "",
       "version_major": 2,
       "version_minor": 0
      },
      "text/plain": [
       "HBox(children=(HTML(value='Low sigma'), FloatProgress(value=0.0, max=4.0), HTML(value='')))"
      ]
     },
     "metadata": {},
     "output_type": "display_data"
    },
    {
     "data": {
      "application/vnd.jupyter.widget-view+json": {
       "model_id": "",
       "version_major": 2,
       "version_minor": 0
      },
      "text/plain": [
       "HBox(children=(HTML(value='Low sigma'), FloatProgress(value=0.0, max=4.0), HTML(value='')))"
      ]
     },
     "metadata": {},
     "output_type": "display_data"
    },
    {
     "data": {
      "application/vnd.jupyter.widget-view+json": {
       "model_id": "",
       "version_major": 2,
       "version_minor": 0
      },
      "text/plain": [
       "HBox(children=(HTML(value='Low sigma'), FloatProgress(value=0.0, max=4.0), HTML(value='')))"
      ]
     },
     "metadata": {},
     "output_type": "display_data"
    },
    {
     "name": "stdout",
     "output_type": "stream",
     "text": [
      "\n"
     ]
    }
   ],
   "source": [
    "guess_low_mean = np.arange(2,2.6,0.05); guess_low_sigma = np.arange(0.05,0.2,0.05)\n",
    "guess_high_mean = np.arange(2.6,3.2,0.05); guess_high_sigma = np.arange(0.05,0.2,0.05)\n",
    "guess_p_back = np.arange(0.05,1,0.05)\n",
    "\"\"\"\n",
    "Constraining guesses of means of low and high distributions based on observed behaviour in figure shown above. \n",
    "Currently estimating only means and p_back.\n",
    "\"\"\"\n",
    "neg_ll_array = np.zeros((len(guess_low_mean),len(guess_low_sigma),\\\n",
    "                         len(guess_high_mean),len(guess_high_sigma),len(guess_p_back)))\n",
    "for lm in tqdm(range(len(guess_low_mean))):\n",
    "    for ls in tqdm(range(len(guess_low_sigma)), leave=False, desc=\"Low sigma\"):\n",
    "        for hm in range(len(guess_high_mean)):\n",
    "            for hs in range(len(guess_high_sigma)):\n",
    "                for pb in range(len(guess_p_back)):\n",
    "                    params = [guess_low_mean[lm], guess_low_sigma[ls], guess_high_mean[hm], \\\n",
    "                              guess_high_sigma[hs], guess_p_back[pb]]\n",
    "                    # print(lm, hm, pb)\n",
    "                    neg_ll_array[lm,ls,hm,hs,pb] = MLE(params)      "
   ]
  },
  {
   "cell_type": "code",
   "execution_count": 12,
   "metadata": {},
   "outputs": [
    {
     "data": {
      "text/plain": [
       "(array([2.45]), array([0.1]), array([2.85]), array([0.15]), array([0.5]))"
      ]
     },
     "execution_count": 12,
     "metadata": {},
     "output_type": "execute_result"
    }
   ],
   "source": [
    "# Means and p_back corresponding to the least negative log likelihood value\n",
    "idxs = np.where(neg_ll_array == np.amin(neg_ll_array)) \n",
    "guess_low_mean[idxs[0]], guess_low_sigma[idxs[1]],  guess_high_mean[idxs[2]], \\\n",
    "guess_high_sigma[idxs[3]], guess_p_back[idxs[4]]"
   ]
  },
  {
   "cell_type": "code",
   "execution_count": null,
   "metadata": {},
   "outputs": [],
   "source": []
  }
 ],
 "metadata": {
  "kernelspec": {
   "display_name": "Python 3",
   "language": "python",
   "name": "python3"
  },
  "language_info": {
   "codemirror_mode": {
    "name": "ipython",
    "version": 3
   },
   "file_extension": ".py",
   "mimetype": "text/x-python",
   "name": "python",
   "nbconvert_exporter": "python",
   "pygments_lexer": "ipython3",
   "version": "3.7.8"
  }
 },
 "nbformat": 4,
 "nbformat_minor": 4
}
