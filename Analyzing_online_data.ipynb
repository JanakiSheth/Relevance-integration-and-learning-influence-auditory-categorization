{
 "cells": [
  {
   "cell_type": "code",
   "execution_count": 1,
   "metadata": {},
   "outputs": [],
   "source": [
    "import pandas as pd\n",
    "import numpy as np\n",
    "import matplotlib.pyplot as plt\n",
    "import pdb\n",
    "from scipy.optimize import minimize\n",
    "from scipy.stats import multivariate_normal\n",
    "from tqdm.notebook import tqdm"
   ]
  },
  {
   "cell_type": "code",
   "execution_count": 2,
   "metadata": {},
   "outputs": [],
   "source": [
    "\"\"\" \n",
    "Obtaining data from a given expt\n",
    "\"\"\"\n",
    "csv_train = pd.read_csv('dummy_task/train_three_tones_v5_file.csv')\n",
    "csv_test = pd.read_csv('dummy_task/test_three_tones_v5_file.csv')\n",
    "csv_data = pd.read_csv('auditory_categorization_online_data/auditory_categorization_task_81488_2020-12-07_22h54.27_2886f998-38df-11eb-90ef-d05099d383f7/Tyler Ling_categorization_task_2020-11-24_10h02.51.696.csv');"
   ]
  },
  {
   "cell_type": "code",
   "execution_count": 3,
   "metadata": {},
   "outputs": [],
   "source": [
    "n_tones = 3\n",
    "n_trials = 507\n",
    "\n",
    "\"\"\"\n",
    "Get tones and values of keys pressed\n",
    "\"\"\"\n",
    "train_columns = list(csv_train.columns)\n",
    "train_tones_name = train_columns.index('Name')\n",
    "train_tones_col_idx = train_columns.index('Tones')\n",
    "df1_names = (csv_train.iloc[0:100,train_tones_name]).values\n",
    "df1_tones = (csv_train.iloc[0:100,train_tones_col_idx]).values\n",
    "\n",
    "test_columns = list(csv_test.columns)\n",
    "test_tones_name = test_columns.index('Name')\n",
    "test_tones_col_idx = test_columns.index('Tones')\n",
    "df2_names = (csv_test.iloc[0:400,test_tones_name]).values\n",
    "df2_tones = (csv_test.iloc[0:400,test_tones_col_idx]).values\n",
    "\n",
    "tones_array = np.zeros((n_trials,n_tones))\n",
    "for i_wav in range(7,107):\n",
    "    tones_array[i_wav,:] = np.array(df1_tones[np.where(csv_data['Name'][i_wav]\\\n",
    "                                                       \n",
    "                                                        ==df1_names)[0]][0][1:-1].split(',')).astype(float)     \n",
    "for i_wav in range(107,507):\n",
    "    tones_array[i_wav,:] = np.array(df2_tones[np.where(csv_data['Name'][i_wav]\\\n",
    "                                                        ==df2_names)[0]][0][1:-1].split(',')).astype(float)  \n",
    "    \n",
    "df_tones = np.copy(tones_array)\n",
    "df_corrans = np.copy(csv_data['corrAns'])\n",
    "df_keys = np.concatenate((csv_data['resp.keys'][7:107],csv_data['test_resp.keys'][107:507]))"
   ]
  },
  {
   "cell_type": "code",
   "execution_count": 4,
   "metadata": {},
   "outputs": [
    {
     "name": "stdout",
     "output_type": "stream",
     "text": [
      "Did not respond to:  [  0  89 348]\n",
      "Got correct:  417\n"
     ]
    }
   ],
   "source": [
    "\"\"\"\n",
    "Find no response cases in the expt\n",
    "\"\"\"\n",
    "no_response = np.intersect1d(np.where(df_keys!='h')[0],np.where(df_keys!='l')[0])\n",
    "print(\"Did not respond to: \",no_response)\n",
    "\n",
    "\"\"\"\n",
    "Convert keys ['l','h'] to [0,1] and plot p(H|T)\n",
    "\"\"\"\n",
    "corrans_num = np.zeros_like(df_corrans)\n",
    "corrans_num[df_corrans == 'h'] = 1\n",
    "\n",
    "keys_num = np.zeros_like(df_keys)\n",
    "keys_num[df_keys == 'h'] = 1\n",
    "\n",
    "tones_array = tones_array[7:507,:]\n",
    "corrans_num = corrans_num[7:507]\n",
    "print(\"Got correct: \", np.sum(keys_num==corrans_num))"
   ]
  },
  {
   "cell_type": "code",
   "execution_count": 5,
   "metadata": {},
   "outputs": [
    {
     "data": {
      "text/plain": [
       "array([2.        , 2.03902799, 2.07805598, 2.11708397, 2.15611196,\n",
       "       2.19513995, 2.23416794, 2.27319593, 2.31222392, 2.35125192,\n",
       "       2.39027991, 2.4293079 , 2.46833589, 2.50736388, 2.54639187,\n",
       "       2.58541986, 2.62444785, 2.66347584, 2.70250383, 2.74153182,\n",
       "       2.78055981, 2.8195878 , 2.85861579, 2.89764378, 2.93667177,\n",
       "       2.97569977, 3.01472776, 3.05375575, 3.09278374, 3.13181173,\n",
       "       3.17083972, 3.20986771, 3.2488957 , 3.28792369])"
      ]
     },
     "execution_count": 5,
     "metadata": {},
     "output_type": "execute_result"
    }
   ],
   "source": [
    "trial_tones = np.repeat(tones_array,1,axis = 0)\n",
    "trial_behaviour = np.reshape(keys_num,np.prod(keys_num.shape)) \n",
    "# this has been changed to check how values change with observer responses\n",
    "\n",
    "expt_tones = np.arange(100,2000,1) #array of possible true tones\n",
    "log_freq_seq_array = np.arange(np.log10(expt_tones[0]), np.log10(expt_tones[-1]), \\\n",
    "                               np.log10(1003/1000)*30)\n",
    "log_freq_percept = np.arange(np.log10(expt_tones[0])-0.5, \\\n",
    "                             np.log10(expt_tones[-1])+0.5, 0.05) # array of possible perceptual tones\n",
    "\n",
    "idxs_with_response = np.delete(np.arange(len(trial_tones)),no_response)\n",
    "trial_tones = trial_tones[idxs_with_response,:]\n",
    "trial_behaviour = trial_behaviour[idxs_with_response]\n",
    "\n",
    "log_freq_seq_array"
   ]
  },
  {
   "cell_type": "code",
   "execution_count": 6,
   "metadata": {},
   "outputs": [],
   "source": [
    "def gaussian(x, mean, sigma):\n",
    "    return np.exp(-(x-mean)**2/(2*sigma**2))\n",
    "\n",
    "def posterior_array(log_freq_percept, n_tones, p_back, p_low, \n",
    "                    log_prior_low, log_prior_high):\n",
    "    \"\"\"\n",
    "    Arguments: \n",
    "    freq_input - range of all possible frequencies (percepts?)\n",
    "    p_back - prob of background, p_low - prob of low condition\n",
    "    log_prior_low - gaussian of low condition\n",
    "    log_prior_high - gaussian of high condition\n",
    "    \"\"\"\n",
    "    \n",
    "    log_prior_low_mean = log_prior_low[0]; log_prior_low_sigma = log_prior_low[1];\n",
    "    log_prior_high_mean = log_prior_high[0]; log_prior_high_sigma = log_prior_high[1];\n",
    "    prior_low = gaussian(x=log_freq_percept, mean=log_prior_low_mean, sigma=log_prior_low_sigma)\n",
    "    prior_high = gaussian(x=log_freq_percept, mean=log_prior_high_mean, sigma=log_prior_high_sigma)\n",
    "    prior_dist_mixed_high = p_back*(1/len(log_freq_percept)) + (1-p_back)*prior_high \\\n",
    "    #mixture model with p(T|B) = 1/no. of possible freqs\n",
    "    prior_dist_mixed_high /= prior_dist_mixed_high.sum() #normalizing\n",
    "    prior_dist_mixed_high = np.expand_dims(prior_dist_mixed_high, axis = 1)\n",
    "    prior_dist_mixed_low = p_back*(1/len(log_freq_percept)) + (1-p_back)*prior_low \\\n",
    "    #mixture model with p(T|B) = 1/no. of possible freqs\n",
    "    prior_dist_mixed_low /= prior_dist_mixed_low.sum() #normalizing\n",
    "    prior_dist_mixed_low = np.expand_dims(prior_dist_mixed_low, axis = 1)\n",
    "    \n",
    "    if n_tones == 3:\n",
    "        prior_tones_low = np.expand_dims(prior_dist_mixed_low@np.transpose\\\n",
    "                                         (prior_dist_mixed_low),axis=2)@np.transpose(prior_dist_mixed_low) \\\n",
    "        #p(T1,T2..|L) \n",
    "        prior_tones_high = np.expand_dims(prior_dist_mixed_high@np.transpose\\\n",
    "                                          (prior_dist_mixed_high),axis=2)@np.transpose(prior_dist_mixed_high) \\\n",
    "        #p(T1,T2..|H) \n",
    "    elif n_tones == 1:\n",
    "        prior_tones_low = prior_dist_mixed_low\n",
    "        prior_tones_high = prior_dist_mixed_high\n",
    "        \n",
    "    normalizer = (1-p_low)*prior_tones_high + p_low*prior_tones_low #p(H)*p(T1,T2..|H) + p(L)*p(T1,T2..|L)\n",
    "    posterior = prior_tones_high*(1-p_low)/normalizer\n",
    "    # posterior /= np.sum(posterior)\n",
    "    \n",
    "    return prior_dist_mixed_high, prior_dist_mixed_low, prior_tones_high, prior_tones_low, normalizer, posterior"
   ]
  },
  {
   "cell_type": "code",
   "execution_count": 7,
   "metadata": {},
   "outputs": [],
   "source": [
    "# define mle function\n",
    "def MLE(params):\n",
    "    log_prior_low_mean, log_prior_low_sigma, log_prior_high_mean, log_prior_high_sigma, p_back = \\\n",
    "    params[0], params[1], params[2], params[3], params[4] # inputs are guesses at our parameters\n",
    "    \n",
    "    prior_low = gaussian(x=log_freq_percept, mean=log_prior_low_mean, sigma=log_prior_low_sigma)\n",
    "    prior_high = gaussian(x=log_freq_percept, mean=log_prior_high_mean, sigma=log_prior_high_sigma)\n",
    "    prior_dist_mixed_high = p_back*(1/len(log_freq_percept)) + (1-p_back)*prior_high #mixture model\n",
    "    prior_dist_mixed_high /= prior_dist_mixed_high.sum() #normalizing\n",
    "    prior_dist_mixed_high = np.expand_dims(prior_dist_mixed_high, axis = 1)\n",
    "    prior_dist_mixed_low = p_back*(1/len(log_freq_percept)) + (1-p_back)*prior_low #mixture model\n",
    "    prior_dist_mixed_low /= prior_dist_mixed_low.sum() #normalizing\n",
    "    prior_dist_mixed_low = np.expand_dims(prior_dist_mixed_low, axis = 1)\n",
    "\n",
    "    if len(trial_tones[0]) == 3:\n",
    "        prior_tones_low = np.expand_dims(prior_dist_mixed_low@np.transpose\\\n",
    "                                         (prior_dist_mixed_low),axis=2)@np.transpose(prior_dist_mixed_low) \\\n",
    "        #p(T1,T2..|L) \n",
    "        prior_tones_high = np.expand_dims(prior_dist_mixed_high@np.transpose\\\n",
    "                                          (prior_dist_mixed_high),axis=2)@np.transpose(prior_dist_mixed_high) \\\n",
    "        #p(T1,T2..|H) \n",
    "    elif len(trial_tones[0]) == 1:\n",
    "        prior_tones_low = prior_dist_mixed_low\n",
    "        prior_tones_high = prior_dist_mixed_high\n",
    "    \n",
    "    p_low = 0.5 \n",
    "    normalizer = (1-p_low)*prior_tones_high + p_low*prior_tones_low #p(H)*p(T1,T2..|H) + p(L)*p(T1,T2..|L)\n",
    "    posterior = prior_tones_high*(1-p_low)/normalizer  \n",
    "       \n",
    "    neg_ll = 0; \n",
    "    probability_high = np.zeros((len(trial_tones),1))\n",
    "    for i_trial in range(len(trial_tones)):\n",
    "        if len(trial_tones[i_trial]) == 3: \n",
    "            input_array_0 = np.expand_dims(gaussian(log_freq_percept, \\\n",
    "                                                    mean = np.log10(trial_tones[i_trial][0]), \\\n",
    "                                                    sigma = 0.03), axis = 1)\n",
    "            input_array_1 = np.expand_dims(gaussian(log_freq_percept, \\\n",
    "                                                    mean = np.log10(trial_tones[i_trial][1]), \\\n",
    "                                                    sigma = 0.03), axis = 1)\n",
    "            input_array_2 = np.expand_dims(gaussian(log_freq_percept, \\\n",
    "                                                    mean = np.log10(trial_tones[i_trial][2]), \\\n",
    "                                                    sigma = 0.03), axis = 1)\n",
    "            input_array_mat = np.expand_dims(input_array_0@np.transpose\\\n",
    "                                             (input_array_1),axis=2)@np.transpose(input_array_2) #p(T1,T2..|H)     \n",
    "            input_array_mat /= np.sum(input_array_mat)\n",
    "            probability_high0 = np.sum(np.multiply(posterior,input_array_mat))\n",
    "            probability_high[i_trial] = np.sum(np.multiply(posterior,input_array_mat))\n",
    "            # pdb.set_trace()\n",
    "            \n",
    "        elif len(trial_tones[i_trial]) == 1:\n",
    "            for i_post in range(len(posterior)):\n",
    "                input_array = gaussian(log_freq_percept, mean = np.log10(trial_tones[i_trial][0]), sigma = 0.03)\n",
    "                input_array /= np.sum(input_array)\n",
    "                input_array = np.expand_dims(input_array, axis = 1)            \n",
    "                probability_high0 = np.transpose(posterior)@input_array\n",
    "                probability_high[i_trial] = np.transpose(posterior)@input_array\n",
    "            # pdb.set_trace()\n",
    "            \n",
    "        if trial_behaviour[i_trial]:\n",
    "            if np.isnan(np.log(probability_high0 + 0.0000001)) \\\n",
    "            or np.isinf(np.log(probability_high0 + 0.0000001)) \\\n",
    "            or np.isnan(np.log(1-probability_high0 + 0.0000001)) \\\n",
    "            or np.isinf(np.log(1-probability_high0 + 0.0000001)):\n",
    "                pdb.set_trace()\n",
    "            neg_ll += -np.log(probability_high0 + 0.0000001) # if high dist is chosen by observer\n",
    "        else:\n",
    "            neg_ll += -np.log(1 - probability_high0 + 0.0000001) # if low dist is chosen by observer\n",
    "    return(neg_ll)"
   ]
  },
  {
   "cell_type": "code",
   "execution_count": 8,
   "metadata": {
    "scrolled": false
   },
   "outputs": [
    {
     "data": {
      "application/vnd.jupyter.widget-view+json": {
       "model_id": "c16ca8d028174b06a18d4a320aed1656",
       "version_major": 2,
       "version_minor": 0
      },
      "text/plain": [
       "HBox(children=(HTML(value=''), FloatProgress(value=0.0, max=10.0), HTML(value='')))"
      ]
     },
     "metadata": {},
     "output_type": "display_data"
    },
    {
     "data": {
      "application/vnd.jupyter.widget-view+json": {
       "model_id": "",
       "version_major": 2,
       "version_minor": 0
      },
      "text/plain": [
       "HBox(children=(HTML(value='Low sigma'), FloatProgress(value=0.0, max=4.0), HTML(value='')))"
      ]
     },
     "metadata": {},
     "output_type": "display_data"
    },
    {
     "data": {
      "application/vnd.jupyter.widget-view+json": {
       "model_id": "",
       "version_major": 2,
       "version_minor": 0
      },
      "text/plain": [
       "HBox(children=(HTML(value='Low sigma'), FloatProgress(value=0.0, max=4.0), HTML(value='')))"
      ]
     },
     "metadata": {},
     "output_type": "display_data"
    },
    {
     "data": {
      "application/vnd.jupyter.widget-view+json": {
       "model_id": "",
       "version_major": 2,
       "version_minor": 0
      },
      "text/plain": [
       "HBox(children=(HTML(value='Low sigma'), FloatProgress(value=0.0, max=4.0), HTML(value='')))"
      ]
     },
     "metadata": {},
     "output_type": "display_data"
    },
    {
     "data": {
      "application/vnd.jupyter.widget-view+json": {
       "model_id": "",
       "version_major": 2,
       "version_minor": 0
      },
      "text/plain": [
       "HBox(children=(HTML(value='Low sigma'), FloatProgress(value=0.0, max=4.0), HTML(value='')))"
      ]
     },
     "metadata": {},
     "output_type": "display_data"
    },
    {
     "data": {
      "application/vnd.jupyter.widget-view+json": {
       "model_id": "",
       "version_major": 2,
       "version_minor": 0
      },
      "text/plain": [
       "HBox(children=(HTML(value='Low sigma'), FloatProgress(value=0.0, max=4.0), HTML(value='')))"
      ]
     },
     "metadata": {},
     "output_type": "display_data"
    },
    {
     "data": {
      "application/vnd.jupyter.widget-view+json": {
       "model_id": "",
       "version_major": 2,
       "version_minor": 0
      },
      "text/plain": [
       "HBox(children=(HTML(value='Low sigma'), FloatProgress(value=0.0, max=4.0), HTML(value='')))"
      ]
     },
     "metadata": {},
     "output_type": "display_data"
    },
    {
     "data": {
      "application/vnd.jupyter.widget-view+json": {
       "model_id": "",
       "version_major": 2,
       "version_minor": 0
      },
      "text/plain": [
       "HBox(children=(HTML(value='Low sigma'), FloatProgress(value=0.0, max=4.0), HTML(value='')))"
      ]
     },
     "metadata": {},
     "output_type": "display_data"
    },
    {
     "data": {
      "application/vnd.jupyter.widget-view+json": {
       "model_id": "",
       "version_major": 2,
       "version_minor": 0
      },
      "text/plain": [
       "HBox(children=(HTML(value='Low sigma'), FloatProgress(value=0.0, max=4.0), HTML(value='')))"
      ]
     },
     "metadata": {},
     "output_type": "display_data"
    },
    {
     "data": {
      "application/vnd.jupyter.widget-view+json": {
       "model_id": "",
       "version_major": 2,
       "version_minor": 0
      },
      "text/plain": [
       "HBox(children=(HTML(value='Low sigma'), FloatProgress(value=0.0, max=4.0), HTML(value='')))"
      ]
     },
     "metadata": {},
     "output_type": "display_data"
    },
    {
     "data": {
      "application/vnd.jupyter.widget-view+json": {
       "model_id": "",
       "version_major": 2,
       "version_minor": 0
      },
      "text/plain": [
       "HBox(children=(HTML(value='Low sigma'), FloatProgress(value=0.0, max=4.0), HTML(value='')))"
      ]
     },
     "metadata": {},
     "output_type": "display_data"
    },
    {
     "name": "stdout",
     "output_type": "stream",
     "text": [
      "\n"
     ]
    }
   ],
   "source": [
    "guess_low_mean = np.arange(2.1,2.6,0.05); guess_low_sigma = np.arange(0.05,0.2,0.05)\n",
    "guess_high_mean = np.arange(2.7,3.2,0.05); guess_high_sigma = np.arange(0.05,0.2,0.05)\n",
    "guess_p_back = np.arange(0.1,1,0.1)\n",
    "\n",
    "# Constraining guesses of means of low and high distributions based on observed behaviour in figure shown above. \n",
    "\n",
    "neg_ll_array = np.zeros((len(guess_low_mean),len(guess_low_sigma),\\\n",
    "                         len(guess_high_mean),len(guess_high_sigma),len(guess_p_back)))\n",
    "for lm in tqdm(range(len(guess_low_mean))):\n",
    "    for ls in tqdm(range(len(guess_low_sigma)), leave=False, desc=\"Low sigma\"):\n",
    "        for hm in range(len(guess_high_mean)):\n",
    "            for hs in range(len(guess_high_sigma)):\n",
    "                for pb in range(len(guess_p_back)):\n",
    "                    params = [guess_low_mean[lm], guess_low_sigma[ls], guess_high_mean[hm], \\\n",
    "                              guess_high_sigma[hs], guess_p_back[pb]]\n",
    "                    # print(lm, hm, pb)\n",
    "                    neg_ll_array[lm,ls,hm,hs,pb] = MLE(params)      "
   ]
  },
  {
   "cell_type": "code",
   "execution_count": 9,
   "metadata": {},
   "outputs": [
    {
     "data": {
      "text/plain": [
       "(array([2.15]),\n",
       " array([0.2]),\n",
       " array([3.1]),\n",
       " array([0.2]),\n",
       " array([0.9]),\n",
       " 181.67234095912593)"
      ]
     },
     "execution_count": 9,
     "metadata": {},
     "output_type": "execute_result"
    }
   ],
   "source": [
    "\"\"\"\n",
    "Means and p_back corresponding to the least negative log likelihood value\n",
    "\"\"\"\n",
    "idxs = np.where(neg_ll_array == np.amin(neg_ll_array)) \n",
    "guess_low_mean[idxs[0]], guess_low_sigma[idxs[1]],  guess_high_mean[idxs[2]], \\\n",
    "guess_high_sigma[idxs[3]], guess_p_back[idxs[4]], np.amin(neg_ll_array)"
   ]
  },
  {
   "cell_type": "code",
   "execution_count": 10,
   "metadata": {},
   "outputs": [
    {
     "data": {
      "image/png": "[encoded data removed]",
      "text/plain": [
       "<Figure size 432x288 with 1 Axes>"
      ]
     },
     "metadata": {
      "needs_background": "light"
     },
     "output_type": "display_data"
    }
   ],
   "source": [
    "# Influence plots the way we currently understand them (11-17-2020)\n",
    "unique_tones = np.unique(trial_tones)\n",
    "tone1_prob_behaviour = np.zeros((len(unique_tones)))\n",
    "tone2_prob_behaviour = np.zeros((len(unique_tones)))\n",
    "tone3_prob_behaviour = np.zeros((len(unique_tones)))\n",
    "\n",
    "for i_tone in range(len(unique_tones)):\n",
    "    tone1_prob_behaviour[i_tone] = np.mean(trial_behaviour[trial_tones[:,0]\\\n",
    "                                                       ==unique_tones[i_tone]])\n",
    "    tone2_prob_behaviour[i_tone] = np.mean(trial_behaviour[trial_tones[:,1]\\\n",
    "                                                       ==unique_tones[i_tone]])\n",
    "    tone3_prob_behaviour[i_tone] = np.mean(trial_behaviour[trial_tones[:,2]\\\n",
    "                                                       ==unique_tones[i_tone]])\n",
    "plt.plot(np.log10(unique_tones), tone1_prob_behaviour)\n",
    "plt.plot(np.log10(unique_tones), tone2_prob_behaviour)\n",
    "plt.plot(np.log10(unique_tones), tone3_prob_behaviour)\n",
    "plt.plot(np.log10(unique_tones), (tone1_prob_behaviour+tone2_prob_behaviour+tone3_prob_behaviour)/3,'k')\n",
    "\n",
    "_, _, _, _, _, posterior = \\\n",
    "posterior_array(log_freq_seq_array, n_tones=1, p_back=guess_p_back[idxs[4]], \\\n",
    "                p_low=0.5, log_prior_low=[guess_low_mean[idxs[0]], guess_low_sigma[idxs[1]]], \\\n",
    "                log_prior_high=[guess_high_mean[idxs[2]],guess_high_sigma[idxs[3]]])\n",
    "plt.plot(np.log10(unique_tones), posterior,'ko')\n",
    "plt.ylabel('p(B_H|T)')\n",
    "plt.xlabel('Tone')\n",
    "\n",
    "plt.savefig('figures/experimenter=Tyler Ling_categorization_task_2020-11-24_10h02.51.696,match.png')"
   ]
  },
  {
   "cell_type": "code",
   "execution_count": 11,
   "metadata": {},
   "outputs": [
    {
     "data": {
      "image/png": "[encoded data removed]",
      "text/plain": [
       "<Figure size 432x288 with 2 Axes>"
      ]
     },
     "metadata": {
      "needs_background": "light"
     },
     "output_type": "display_data"
    },
    {
     "data": {
      "image/png": "[encoded data removed]",
      "text/plain": [
       "<Figure size 432x288 with 2 Axes>"
      ]
     },
     "metadata": {
      "needs_background": "light"
     },
     "output_type": "display_data"
    }
   ],
   "source": [
    "\"\"\"\n",
    "Visualizing results from fitted parameters of one tone data\n",
    "Perceptual tones have a longer range than the experimental tones.\n",
    "\"\"\"\n",
    "\n",
    "log_freq_percept = np.arange(np.log10(expt_tones[0])-0.5, np.log10(expt_tones[-1])+0.5, 0.05) \n",
    "\n",
    "_,_,_,_,_,posterior_fit = \\\n",
    "posterior_array(log_freq_percept, n_tones=n_tones, p_back=guess_p_back[idxs[4]], p_low=0.5, \\\n",
    "                log_prior_low=[guess_low_mean[idxs[0]],guess_low_sigma[idxs[1]]],\\\n",
    "                log_prior_high=[guess_high_mean[idxs[2]],guess_high_sigma[idxs[3]]])\n",
    "\n",
    "_,_,_,_,_,posterior = \\\n",
    "posterior_array(log_freq_percept, n_tones=n_tones, p_back=0.3, p_low=0.5, \\\n",
    "                log_prior_low=[2.45,0.1],\\\n",
    "                log_prior_high=[2.85,0.1])\n",
    "\n",
    "fig = plt.figure()\n",
    "ax = fig.add_subplot(111)\n",
    "colormap = ax.imshow(posterior[:,:,0], extent=[log_freq_percept[0], log_freq_percept[-1], \\\n",
    "                                               log_freq_percept[-1], log_freq_percept[0]])\n",
    "cbar = plt.colorbar(colormap, ax=ax)\n",
    "ax.invert_yaxis()\n",
    "ax.set_xlabel('Encoded frequency ($\\~{f}$)')\n",
    "ax.set_ylabel('Frequency (f)')\n",
    "plt.show()\n",
    "\n",
    "fig = plt.figure()\n",
    "ax = fig.add_subplot(111)\n",
    "colormap = ax.imshow(posterior_fit[:,:,0], extent=[log_freq_percept[0], log_freq_percept[-1], \\\n",
    "                                               log_freq_percept[-1], log_freq_percept[0]])\n",
    "cbar = plt.colorbar(colormap, ax=ax)\n",
    "ax.invert_yaxis()\n",
    "ax.set_xlabel('Encoded frequency ($\\~{f}$)')\n",
    "ax.set_ylabel('Frequency (f)')\n",
    "plt.show()"
   ]
  },
  {
   "cell_type": "code",
   "execution_count": null,
   "metadata": {},
   "outputs": [],
   "source": []
  }
 ],
 "metadata": {
  "kernelspec": {
   "display_name": "Python 3",
   "language": "python",
   "name": "python3"
  },
  "language_info": {
   "codemirror_mode": {
    "name": "ipython",
    "version": 3
   },
   "file_extension": ".py",
   "mimetype": "text/x-python",
   "name": "python",
   "nbconvert_exporter": "python",
   "pygments_lexer": "ipython3",
   "version": "3.7.8"
  }
 },
 "nbformat": 4,
 "nbformat_minor": 4
}
