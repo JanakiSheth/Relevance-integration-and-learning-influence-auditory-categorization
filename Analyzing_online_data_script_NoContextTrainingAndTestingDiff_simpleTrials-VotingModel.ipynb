{
 "cells": [
  {
   "cell_type": "code",
   "execution_count": 1,
   "metadata": {},
   "outputs": [],
   "source": [
    "import pandas as pd\n",
    "import numpy as np\n",
    "import numpy.matlib\n",
    "import matplotlib.pyplot as plt\n",
    "import pdb\n",
    "import scipy\n",
    "from scipy.optimize import minimize, fmin\n",
    "from scipy.stats import multivariate_normal\n",
    "from tqdm.notebook import tqdm"
   ]
  },
  {
   "cell_type": "code",
   "execution_count": 2,
   "metadata": {},
   "outputs": [],
   "source": [
    "\"\"\" \n",
    "Obtaining data from a given expt\n",
    "\"\"\"\n",
    "csv_test = pd.read_csv('../auditory_categorization_noContext/important_things_not_included_in_assets/allTrials.csv')\n",
    "csv_data = pd.read_csv('auditory_categorization_prolific_online_data/human_auditory_categorization_91686_2022-01-19_20h56.51_f8da6647-2fb7-444d-9e8c-e52b3a37d4b2/609553ac4e48356e24a27aed_categorization_task_2022-01-16_22h08.24.972.csv');\n",
    "                       "
   ]
  },
  {
   "cell_type": "code",
   "execution_count": 3,
   "metadata": {},
   "outputs": [],
   "source": [
    "n_tones = 3\n",
    "n_trials = csv_data.shape[0]-47\n",
    "\n",
    "\"\"\"\n",
    "Get tones and values of keys pressed\n",
    "\"\"\"\n",
    "test_columns = list(csv_test.columns)\n",
    "test_tones_name = test_columns.index('Name')\n",
    "test_tones_col_idx = test_columns.index('Tones')\n",
    "test_tones_cat_col_idx = test_columns.index('Tonekind')\n",
    "\n",
    "df_names = (csv_test.iloc[:,test_tones_name]).values\n",
    "df_tones = (csv_test.iloc[:,test_tones_col_idx]).values\n",
    "df_tone_cat = (csv_test.iloc[:,test_tones_cat_col_idx]).values\n",
    "\n",
    "tones_array_orig = np.zeros((n_trials,n_tones))\n",
    "tones_array_idxs_keep = []\n",
    "\n",
    "tones_cat_array_orig = np.zeros((n_trials,n_tones))\n",
    "tones_cat_array_idxs_keep = []\n",
    "\n",
    "for i_wav in range(n_trials):\n",
    "    if isinstance(csv_data['Name'][i_wav+46],str):\n",
    "        tones_array_orig[i_wav,:] = np.array(df_tones[np.where(csv_data['Name'][i_wav+46]\\\n",
    "                                                          ==df_names)[0]][0][1:-1].split(',')).astype(float)  \n",
    "        tones_array_idxs_keep += [i_wav]\n",
    "\n",
    "        tones_cat_array_orig[i_wav,:] = np.array(df_tone_cat[np.where(csv_data['Name'][i_wav+46]\\\n",
    "                                                          ==df_names)[0]][0][1:-1].split(',')).astype(float)  \n",
    "        tones_cat_array_idxs_keep += [i_wav]\n",
    "\n",
    "\n",
    "df_tones = np.copy(tones_array_orig[tones_array_idxs_keep,:])\n",
    "df_tone_cat = np.copy(tones_cat_array_orig[tones_cat_array_idxs_keep,:])\n",
    "df_corrans = np.copy(csv_data['corrAns'][46:csv_data.shape[0]])[tones_array_idxs_keep]\n",
    "df_keys = np.copy(csv_data['test_resp.keys'][46:csv_data.shape[0]])[tones_array_idxs_keep]"
   ]
  },
  {
   "cell_type": "code",
   "execution_count": 4,
   "metadata": {},
   "outputs": [
    {
     "name": "stdout",
     "output_type": "stream",
     "text": [
      "Did not respond to:  []\n",
      "Got correct:  0.8216666666666667\n",
      "Got high correct:  0.8504983388704319\n",
      "Got low correct:  0.7926421404682275\n"
     ]
    }
   ],
   "source": [
    "\"\"\"\n",
    "Find no response cases in the expt\n",
    "\"\"\"\n",
    "no_response = np.intersect1d(np.where(df_keys!='h')[0],np.where(df_keys!='l')[0])\n",
    "print(\"Did not respond to: \",no_response)\n",
    "\n",
    "\"\"\"\n",
    "Convert keys ['l','h'] to [0,1] and calculate accuracies\n",
    "\"\"\"\n",
    "corrans_num_orig = np.zeros_like(df_corrans)\n",
    "corrans_num_orig[df_corrans == 'h'] = 1\n",
    "\n",
    "keys_num_orig = np.zeros_like(df_keys)\n",
    "keys_num_orig[df_keys == 'h'] = 1\n",
    "\n",
    "corrans_num = corrans_num_orig[:600]\n",
    "keys_num = keys_num_orig[:600]\n",
    "tones_array = df_tones[:600]\n",
    "print(\"Got correct: \", np.sum(keys_num==corrans_num)/len(tones_array))\n",
    "print(\"Got high correct: \", np.sum((keys_num)*(corrans_num))/np.sum(corrans_num))\n",
    "print(\"Got low correct: \", np.sum((1-keys_num)*(1-corrans_num))/np.sum(1-corrans_num))"
   ]
  },
  {
   "cell_type": "code",
   "execution_count": 5,
   "metadata": {
    "scrolled": true
   },
   "outputs": [
    {
     "name": "stderr",
     "output_type": "stream",
     "text": [
      "/home/janaki/miniconda3/envs/glm/lib/python3.9/site-packages/numpy/core/fromnumeric.py:3419: RuntimeWarning: Mean of empty slice.\n",
      "  return _methods._mean(a, axis=axis, dtype=dtype,\n",
      "/home/janaki/miniconda3/envs/glm/lib/python3.9/site-packages/numpy/core/_methods.py:188: RuntimeWarning: invalid value encountered in double_scalars\n",
      "  ret = ret.dtype.type(ret / rcount)\n"
     ]
    }
   ],
   "source": [
    "allTrial_tones = np.repeat(tones_array,1,axis = 0)\n",
    "allTrial_behaviour = np.reshape(keys_num,np.prod(keys_num.shape)) \n",
    "# this has been changed to check how values change with observer responses\n",
    "\n",
    "expt_tones = np.arange(90,3000,1) #array of possible true tones\n",
    "exptFreqSeqArray = np.arange(np.log10(expt_tones[0]), np.log10(expt_tones[-1]), np.log10(1003/1000)*40)\n",
    "log_freq_seq_array = np.arange(0.6,4.7,0.1)\n",
    "log_freq_percept = np.arange(0.6,4.7,0.1) # array of possible perceptual tones\n",
    "expt_freq_seq_mid = np.median(exptFreqSeqArray)\n",
    "low_dist = [expt_freq_seq_mid - 0.15,0.1]\n",
    "high_dist = [expt_freq_seq_mid + 0.15,0.1]\n",
    "\n",
    "idxs_with_response = np.delete(np.arange(len(allTrial_tones)),no_response)\n",
    "allTrial_tones_responded = allTrial_tones[idxs_with_response,:]\n",
    "allTrial_behaviour_responded = allTrial_behaviour[idxs_with_response]\n",
    "allTrial_tones_cat_responded = df_tone_cat[idxs_with_response]\n",
    "iAllGaussLow = 0\n",
    "iAllGaussHigh = 0\n",
    "allGaussLow = np.zeros((len(allTrial_behaviour_responded),5))\n",
    "allGaussHigh = np.zeros((len(allTrial_behaviour_responded),5))\n",
    "    \n",
    "for i_trial in range(len(allTrial_tones_responded)):\n",
    "    if sum(allTrial_tones_cat_responded[i_trial]==1)==3:\n",
    "        allGaussLow[iAllGaussLow,:3] = allTrial_tones_responded[i_trial,:]\n",
    "        allGaussLow[iAllGaussLow,3] = allTrial_behaviour_responded[i_trial]\n",
    "        allGaussLow[iAllGaussLow,4] = int(i_trial)\n",
    "        iAllGaussLow += 1\n",
    "    #if (sum(np.log10(allTrial_tones_responded[i_trial])<expt_freq_seq_mid)==3 \n",
    "    #    & sum(np.log10(allTrial_tones_responded[i_trial])>(low_dist[0]-2*low_dist[1]))==3):\n",
    "    #    allGaussLow[iAllGaussLow,:3] = allTrial_tones_responded[i_trial,:]\n",
    "    #    allGaussLow[iAllGaussLow,3] = allTrial_behaviour_responded[i_trial]\n",
    "    #    allGaussLow[iAllGaussLow,4] = int(i_trial)\n",
    "    #    print(i_trial, \n",
    "    #      allTrial_tones_cat_responded[i_trial], \n",
    "    #      np.log10(allGaussLow[iAllGaussLow,:3]),\n",
    "    #      allGaussLow[iAllGaussLow,3])\n",
    "    #    iAllGaussLow += 1\n",
    "    elif sum(allTrial_tones_cat_responded[i_trial]==2)==3:\n",
    "        allGaussHigh[iAllGaussHigh,:3] = allTrial_tones_responded[i_trial,:]\n",
    "        allGaussHigh[iAllGaussHigh,3] = allTrial_behaviour_responded[i_trial]    \n",
    "        allGaussHigh[iAllGaussHigh,4] = int(i_trial)\n",
    "        iAllGaussHigh += 1\n",
    "    #elif (sum(np.log10(allTrial_tones_responded[i_trial])>expt_freq_seq_mid)==3 \n",
    "    #    & sum(np.log10(allTrial_tones_responded[i_trial])<(high_dist[0]+2*high_dist[1]))==3): \n",
    "    #    allGaussHigh[iAllGaussHigh,:3] = allTrial_tones_responded[i_trial,:]\n",
    "    #    allGaussHigh[iAllGaussHigh,3] = allTrial_behaviour_responded[i_trial]    \n",
    "    #    allGaussHigh[iAllGaussHigh,4] = int(i_trial)        \n",
    "    #    iAllGaussHigh += 1\n",
    "AllGaussian = np.concatenate((allGaussLow[:iAllGaussLow], allGaussHigh[:iAllGaussHigh]),axis=0)    \n",
    "trial_tones = AllGaussian[:,:3]\n",
    "trial_behaviour = AllGaussian[:,3]\n",
    "\n",
    "unique_tones = np.unique(trial_tones)\n",
    "tone1_prob_behaviour = np.zeros((len(unique_tones)))\n",
    "tone2_prob_behaviour = np.zeros((len(unique_tones)))\n",
    "tone3_prob_behaviour = np.zeros((len(unique_tones)))\n",
    "\n",
    "for i_tone in range(len(unique_tones)):\n",
    "    tone1_prob_behaviour[i_tone] = np.mean(trial_behaviour[trial_tones[:,0]\\\n",
    "                                                       ==unique_tones[i_tone]])\n",
    "    tone2_prob_behaviour[i_tone] = np.mean(trial_behaviour[trial_tones[:,1]\\\n",
    "                                                       ==unique_tones[i_tone]])\n",
    "    tone3_prob_behaviour[i_tone] = np.mean(trial_behaviour[trial_tones[:,2]\\\n",
    "                                                       ==unique_tones[i_tone]])\n",
    "    \n",
    "influence = np.nanmean([tone1_prob_behaviour,tone2_prob_behaviour,\n",
    "                        tone3_prob_behaviour],axis=0)"
   ]
  },
  {
   "cell_type": "code",
   "execution_count": 6,
   "metadata": {},
   "outputs": [],
   "source": [
    "def gaussian(x, mean, sigma):\n",
    "    return np.exp(-(x-mean)**2/(2*sigma**2))\n",
    "\n",
    "def Tones3dgrid(latentTones, sigma):    \n",
    "    \n",
    "    input_array_0 = np.expand_dims(gaussian(log_freq_percept, latentTones[0], sigma), axis = 1)\n",
    "    input_array_1 = np.expand_dims(gaussian(log_freq_percept, latentTones[1], sigma), axis = 1)\n",
    "    input_array_2 = np.expand_dims(gaussian(log_freq_percept, latentTones[2], sigma), axis = 1)\n",
    "    s0 = 1/np.sum(input_array_0); \n",
    "    s1 = 1/np.sum(input_array_1); \n",
    "    s2 = 1/np.sum(input_array_2);\n",
    "    input_array_0 *= s0; \n",
    "    input_array_1 *= s1; \n",
    "    input_array_2 *= s2; \n",
    "    \n",
    "    input_array_mat = np.expand_dims(input_array_0@input_array_1.T,axis=2)@(input_array_2.T) #p(T1,T2..|H)   \n",
    "                                     \n",
    "    return input_array_mat\n",
    "\n",
    "def posterior_array(freq_input, n_tones, p_low, log_prior):\n",
    "    \"\"\"\n",
    "    Arguments: \n",
    "    freq_input - range of all possible frequencies (percepts?)\n",
    "    p_back - prob of background\n",
    "    p_low - prob of low condition\n",
    "    log_prior - list of prior parameters\n",
    "    \"\"\"\n",
    "    \n",
    "    log_prior_low_mean = log_prior[0]; log_prior_low_sigma = log_prior[2];\n",
    "    log_prior_high_mean = log_prior[1]; log_prior_high_sigma = log_prior[2];\n",
    "    prior_low = gaussian(x=freq_input, mean=log_prior_low_mean, sigma=log_prior_low_sigma)\n",
    "    prior_high = gaussian(x=freq_input, mean=log_prior_high_mean, sigma=log_prior_high_sigma)\n",
    "    prior_tones_low = np.zeros((len(freq_input), len(freq_input), len(freq_input)))\n",
    "    prior_tones_high = np.zeros_like(prior_tones_low)\n",
    "    \n",
    "    if n_tones == 3:\n",
    "        for iFreq1 in range(len(freq_input)):\n",
    "            for iFreq2 in range(len(freq_input)):\n",
    "                for iFreq3 in range(len(freq_input)):\n",
    "                    prior_tones_low[iFreq1,iFreq2,iFreq3] = (prior_low[iFreq1]*prior_low[iFreq2]+\n",
    "                                                             prior_low[iFreq2]*prior_low[iFreq3]+\n",
    "                                                             prior_low[iFreq1]*prior_low[iFreq3])/3\n",
    "                    prior_tones_high[iFreq1,iFreq2,iFreq3] = (prior_high[iFreq1]*prior_high[iFreq2]+\n",
    "                                                             prior_high[iFreq2]*prior_high[iFreq3]+\n",
    "                                                             prior_high[iFreq1]*prior_high[iFreq3])/3\n",
    "    prior_tones_low /= prior_tones_low.sum() #normalizing\n",
    "    prior_tones_high /= prior_tones_high.sum()\n",
    "        \n",
    "    normalizer = (1-p_low)*prior_tones_high + p_low*prior_tones_low #p(H)*p(T1,T2..|H) + p(L)*p(T1,T2..|L)\n",
    "    posterior = prior_tones_high*(1-p_low)/normalizer\n",
    "    # posterior /= np.sum(posterior)\n",
    "    \n",
    "    return prior_tones_high, prior_tones_low, normalizer, posterior"
   ]
  },
  {
   "cell_type": "code",
   "execution_count": 7,
   "metadata": {},
   "outputs": [],
   "source": [
    "# define mle function\n",
    "def MLE(params):\n",
    "    log_prior_low_mean, log_prior_high_mean, log_prior_sigma, sigma_sensory, prob_low = \\\n",
    "    params[0], params[1], params[2], params[3], params[4] # inputs are guesses at our parameters  \n",
    "    \n",
    "    LikelihoodLatentTonegivenHigh,LikelihoodLatentTonegivenLow,_,_ = \\\n",
    "    posterior_array(log_freq_seq_array, n_tones=len(trial_tones[0]), p_low=prob_low,\\\n",
    "                    log_prior=[log_prior_low_mean,log_prior_high_mean,log_prior_sigma])\n",
    "\n",
    "    LikelihoodPerceptgivenHigh = np.zeros((len(log_freq_percept),len(log_freq_percept),len(log_freq_percept)))\n",
    "    LikelihoodPerceptgivenLow = np.zeros((len(log_freq_percept),len(log_freq_percept),len(log_freq_percept)))\n",
    "    \n",
    "    for itrue1 in range(len(log_freq_seq_array)):\n",
    "        for itrue2 in range(len(log_freq_seq_array)):            \n",
    "            for itrue3 in range(len(log_freq_seq_array)):\n",
    "                probPerceptgivenLatentTones = Tones3dgrid([log_freq_seq_array[itrue1],\\\n",
    "                                                           log_freq_seq_array[itrue2],\\\n",
    "                                                           log_freq_seq_array[itrue3]],sigma=sigma_sensory)                                                           \n",
    "                LikelihoodPerceptgivenHigh \\\n",
    "                += probPerceptgivenLatentTones * LikelihoodLatentTonegivenHigh[itrue1,itrue2,itrue3]\n",
    "                LikelihoodPerceptgivenLow \\\n",
    "                += probPerceptgivenLatentTones * LikelihoodLatentTonegivenLow[itrue1,itrue2,itrue3]\n",
    "    probHighgivenPercept = LikelihoodPerceptgivenHigh*(1-prob_low)/\\\n",
    "    (LikelihoodPerceptgivenHigh*(1-prob_low) + LikelihoodPerceptgivenLow*(prob_low))\n",
    "        \n",
    "    neg_ll = 0; \n",
    "    probability_high = np.zeros((len(trial_tones),1))\n",
    "    for i_trial in range(len(trial_tones)):\n",
    "        input_array_mat = Tones3dgrid(np.array([np.log10(trial_tones[i_trial][0]),\\\n",
    "                                               np.log10(trial_tones[i_trial][1]),\n",
    "                                               np.log10(trial_tones[i_trial][2])]),sigma=sigma_sensory)\n",
    "        probability_high0 = np.sum(np.multiply(probHighgivenPercept>0.5,input_array_mat))\n",
    "        probability_high[i_trial] = np.sum(np.multiply(probHighgivenPercept>0.5,input_array_mat))\n",
    "            \n",
    "        if trial_behaviour[i_trial]:\n",
    "            if np.isnan(np.log(probability_high0 + 0.0000001)) \\\n",
    "            or np.isinf(np.log(probability_high0 + 0.0000001)) \\\n",
    "            or np.isnan(np.log(1-probability_high0 + 0.0000001)) \\\n",
    "            or np.isinf(np.log(1-probability_high0 + 0.0000001)):\n",
    "                pdb.set_trace()\n",
    "            neg_ll += -np.log(probability_high0 + 0.0000001) # if high dist is chosen by observer\n",
    "        else:\n",
    "            neg_ll += -np.log(1 - probability_high0 + 0.0000001) # if low dist is chosen by observer\n",
    "    return(neg_ll, probability_high)"
   ]
  },
  {
   "cell_type": "code",
   "execution_count": 8,
   "metadata": {
    "scrolled": true
   },
   "outputs": [
    {
     "data": {
      "application/vnd.jupyter.widget-view+json": {
       "model_id": "a56bdf852b654bc6bfcea911823b9fdd",
       "version_major": 2,
       "version_minor": 0
      },
      "text/plain": [
       "  0%|          | 0/5 [00:00<?, ?it/s]"
      ]
     },
     "metadata": {},
     "output_type": "display_data"
    },
    {
     "data": {
      "application/vnd.jupyter.widget-view+json": {
       "model_id": "",
       "version_major": 2,
       "version_minor": 0
      },
      "text/plain": [
       "High mean:   0%|          | 0/5 [00:00<?, ?it/s]"
      ]
     },
     "metadata": {},
     "output_type": "display_data"
    },
    {
     "name": "stderr",
     "output_type": "stream",
     "text": [
      "<ipython-input-6-125629ffb5eb>:50: RuntimeWarning: invalid value encountered in true_divide\n",
      "  posterior = prior_tones_high*(1-p_low)/normalizer\n",
      "<ipython-input-7-af1795abf1e7>:23: RuntimeWarning: invalid value encountered in true_divide\n",
      "  probHighgivenPercept = LikelihoodPerceptgivenHigh*(1-prob_low)/\\\n"
     ]
    },
    {
     "data": {
      "application/vnd.jupyter.widget-view+json": {
       "model_id": "",
       "version_major": 2,
       "version_minor": 0
      },
      "text/plain": [
       "High mean:   0%|          | 0/5 [00:00<?, ?it/s]"
      ]
     },
     "metadata": {},
     "output_type": "display_data"
    },
    {
     "data": {
      "application/vnd.jupyter.widget-view+json": {
       "model_id": "",
       "version_major": 2,
       "version_minor": 0
      },
      "text/plain": [
       "High mean:   0%|          | 0/5 [00:00<?, ?it/s]"
      ]
     },
     "metadata": {},
     "output_type": "display_data"
    },
    {
     "data": {
      "application/vnd.jupyter.widget-view+json": {
       "model_id": "",
       "version_major": 2,
       "version_minor": 0
      },
      "text/plain": [
       "High mean:   0%|          | 0/5 [00:00<?, ?it/s]"
      ]
     },
     "metadata": {},
     "output_type": "display_data"
    },
    {
     "data": {
      "application/vnd.jupyter.widget-view+json": {
       "model_id": "",
       "version_major": 2,
       "version_minor": 0
      },
      "text/plain": [
       "High mean:   0%|          | 0/5 [00:00<?, ?it/s]"
      ]
     },
     "metadata": {},
     "output_type": "display_data"
    },
    {
     "name": "stdout",
     "output_type": "stream",
     "text": [
      "0.02 [63.91709402] [[2.55]\n",
      " [2.85]\n",
      " [0.15]\n",
      " [0.5 ]]\n"
     ]
    },
    {
     "data": {
      "application/vnd.jupyter.widget-view+json": {
       "model_id": "17985a2cb32b449b86ec21762fc0ab4f",
       "version_major": 2,
       "version_minor": 0
      },
      "text/plain": [
       "  0%|          | 0/5 [00:00<?, ?it/s]"
      ]
     },
     "metadata": {},
     "output_type": "display_data"
    },
    {
     "data": {
      "application/vnd.jupyter.widget-view+json": {
       "model_id": "",
       "version_major": 2,
       "version_minor": 0
      },
      "text/plain": [
       "High mean:   0%|          | 0/5 [00:00<?, ?it/s]"
      ]
     },
     "metadata": {},
     "output_type": "display_data"
    },
    {
     "data": {
      "application/vnd.jupyter.widget-view+json": {
       "model_id": "",
       "version_major": 2,
       "version_minor": 0
      },
      "text/plain": [
       "High mean:   0%|          | 0/5 [00:00<?, ?it/s]"
      ]
     },
     "metadata": {},
     "output_type": "display_data"
    },
    {
     "data": {
      "application/vnd.jupyter.widget-view+json": {
       "model_id": "",
       "version_major": 2,
       "version_minor": 0
      },
      "text/plain": [
       "High mean:   0%|          | 0/5 [00:00<?, ?it/s]"
      ]
     },
     "metadata": {},
     "output_type": "display_data"
    },
    {
     "data": {
      "application/vnd.jupyter.widget-view+json": {
       "model_id": "",
       "version_major": 2,
       "version_minor": 0
      },
      "text/plain": [
       "High mean:   0%|          | 0/5 [00:00<?, ?it/s]"
      ]
     },
     "metadata": {},
     "output_type": "display_data"
    },
    {
     "data": {
      "application/vnd.jupyter.widget-view+json": {
       "model_id": "",
       "version_major": 2,
       "version_minor": 0
      },
      "text/plain": [
       "High mean:   0%|          | 0/5 [00:00<?, ?it/s]"
      ]
     },
     "metadata": {},
     "output_type": "display_data"
    },
    {
     "name": "stdout",
     "output_type": "stream",
     "text": [
      "1.0 [69.4117652] [[2.7 ]\n",
      " [3.3 ]\n",
      " [0.25]\n",
      " [0.45]]\n"
     ]
    }
   ],
   "source": [
    "\"\"\"\n",
    "New optimization algorithm: uses scipy.optimize.fmin. \n",
    "Crude grid initially and then find minimum using the function.\n",
    "\"\"\"\n",
    "guess_VaryingSigma = np.asarray([0.02,1])\n",
    "nll_VaryingSigma = np.zeros(len(guess_VaryingSigma))\n",
    "thetas_VaryingSigma = np.zeros((len(guess_VaryingSigma),4))\n",
    "for s in range(len(guess_VaryingSigma)):\n",
    "    guess_low_mean = np.arange(2.1,2.71,0.15); guess_high_mean = np.arange(2.7,3.31,0.15); \n",
    "    guess_sensory_sigma = np.arange(0.05,0.37,0.1); guess_p_low = np.arange(0.4,0.61,0.05)\n",
    "\n",
    "    # Constraining guesses of means of low and high distributions based on observed behaviour in figure shown above. \n",
    "\n",
    "    neg_ll_array = np.zeros((len(guess_low_mean), len(guess_high_mean),\n",
    "                             len(guess_sensory_sigma), len(guess_p_low)))\n",
    "    for lm in tqdm(range(len(guess_low_mean))):\n",
    "        for hm in tqdm(range(len(guess_high_mean)), leave=False, desc=\"High mean\"):\n",
    "            for ss in range(len(guess_sensory_sigma)):\n",
    "                for pl in range(len(guess_p_low)):\n",
    "                    params = [guess_low_mean[lm], guess_high_mean[hm], guess_VaryingSigma[s], \\\n",
    "                              guess_sensory_sigma[ss], guess_p_low[pl]]\n",
    "                    # print(lm, hm, pb)\n",
    "                    neg_ll_array[lm,hm,ss,pl],_ = MLE(params) \n",
    "\n",
    "    \"\"\"\n",
    "    Means and p_back corresponding to the least negative log likelihood value\n",
    "    \"\"\"\n",
    "    idxs = np.where(neg_ll_array == np.amin(neg_ll_array)) \n",
    "    best_thetas = np.array([guess_low_mean[idxs[0]], guess_high_mean[idxs[1]], \n",
    "                            guess_sensory_sigma[idxs[2]], guess_p_low[idxs[3]]])\n",
    "    \n",
    "    print(guess_VaryingSigma[s], neg_ll_array[idxs], best_thetas)\n",
    "    #nll_VaryingSigma[s] = neg_ll_array[idxs]\n",
    "    #thetas_VaryingSigma[s,:] = best_thetas"
   ]
  },
  {
   "cell_type": "code",
   "execution_count": 13,
   "metadata": {
    "scrolled": true
   },
   "outputs": [
    {
     "name": "stderr",
     "output_type": "stream",
     "text": [
      "<ipython-input-6-125629ffb5eb>:50: RuntimeWarning: invalid value encountered in true_divide\n",
      "  posterior = prior_tones_high*(1-p_low)/normalizer\n"
     ]
    },
    {
     "name": "stdout",
     "output_type": "stream",
     "text": [
      "[2.55 2.85 0.02 0.15 0.5 ] 63.917094015746024\n",
      "[2.55 2.85 0.02 0.15 0.5 ] 63.917094015746024\n",
      "[3.55 2.85 0.02 0.15 0.5 ] 1867.4649876893925\n",
      "[0.931966 2.85     0.02     0.15     0.5     ] 1934.1657410716307\n",
      "[2.55 2.85 0.02 0.15 0.5 ] 63.917094015746024\n",
      "[1.93196603 2.85       0.02       0.15       0.5       ] 581.1528059631\n",
      "[2.931966 2.85     0.02     0.15     0.5     ] 728.2572670825608\n",
      "[2.40341501 2.85       0.02       0.15       0.5       ] 87.2253383973567\n",
      "[2.53199939 2.85       0.02       0.15       0.5       ] 68.95515887437051\n",
      "[2.69589803 2.85       0.02       0.15       0.5       ] 74.23401231566007\n",
      "[2.60642031 2.85       0.02       0.15       0.5       ] 64.34520836676874\n",
      "[2.57722796 2.85       0.02       0.15       0.5       ] 64.34520836676874\n",
      "[2.56040016 2.85       0.02       0.15       0.5       ] 64.44615872125802\n",
      "[2.54312438 2.85       0.02       0.15       0.5       ] 66.58227405313677\n",
      "[2.55397251 2.85       0.02       0.15       0.5       ] 64.14803670710339\n",
      "[2.54737375 2.85       0.02       0.15       0.5       ] 65.64667532404212\n",
      "[2.55151736 2.85       0.02       0.15       0.5       ] 64.054468128601\n",
      "[2.54899686 2.85       0.02       0.15       0.5       ] 65.74916949187991\n",
      "[2.55057958 2.85       0.02       0.15       0.5       ] 63.94821524998729\n",
      "[2.54960634 2.85       0.02       0.15       0.5       ] 65.82175349747439\n",
      "[2.55022138 2.85       0.02       0.15       0.5       ] 63.95156061660723\n",
      "[2.54984963 2.85       0.02       0.15       0.5       ] 65.82391213692253\n",
      "[2.55008456 2.85       0.02       0.15       0.5       ] 63.91646789594416\n",
      "[2.55007227 2.85       0.02       0.15       0.5       ] 63.91646789594416\n",
      "[2.55007842 2.85       0.02       0.15       0.5       ] 63.91646789594416\n",
      "[2.55007607 2.85       0.02       0.15       0.5       ] 63.91646789594416\n",
      "[2.55007462 2.85       0.02       0.15       0.5       ] 63.91646789594416\n",
      "[2.55007372 2.85       0.02       0.15       0.5       ] 63.91646789594416\n",
      "[2.55007372 2.85       0.02       0.15       0.5       ] 63.91646789594416\n",
      "[2.55007372 3.85       0.02       0.15       0.5       ] 1068.1048942704374\n",
      "[2.55007372 1.231966   0.02       0.15       0.5       ] 1692.3667224702913\n",
      "[2.55007372 2.85       0.02       0.15       0.5       ] 63.91646789594416\n",
      "[2.55007372 2.23196603 0.02       0.15       0.5       ] 1173.5047167334897\n",
      "[2.55007372 3.231966   0.02       0.15       0.5       ] 169.17706881245098\n",
      "[2.55007372 2.9744486  0.02       0.15       0.5       ] 77.15901112705532\n",
      "[2.55007372 2.83123183 0.02       0.15       0.5       ] 67.87785335951853\n",
      "[2.55007372 2.88822325 0.02       0.15       0.5       ] 65.4941639673612\n",
      "[2.55007372 2.86459998 0.02       0.15       0.5       ] 65.49414945809067\n",
      "[2.55007372 2.8428312  0.02       0.15       0.5       ] 66.18649020711173\n",
      "[2.55007372 2.8555767  0.02       0.15       0.5       ] 64.17638069923207\n",
      "[2.55007372 2.84936668 0.02       0.15       0.5       ] 65.79066725026523\n",
      "[2.55007372 2.85213011 0.02       0.15       0.5       ] 64.06676950553894\n",
      "[2.55007372 2.85081363 0.02       0.15       0.5       ] 64.00150615847151\n",
      "[2.55007372 2.85031078 0.02       0.15       0.5       ] 63.95156061660723\n",
      "[2.55007372 2.84975809 0.02       0.15       0.5       ] 65.8256421611368\n",
      "[2.55007372 2.85011871 0.02       0.15       0.5       ] 63.95119141153756\n",
      "[2.55007372 2.8499076  0.02       0.15       0.5       ] 65.88440147777334\n",
      "[2.55007372 2.85004534 0.02       0.15       0.5       ] 63.93019270202597\n",
      "[2.55007372 2.84996471 0.02       0.15       0.5       ] 63.91646788136199\n",
      "[2.55007372 2.84998235 0.02       0.15       0.5       ] 63.91646788137537\n",
      "[2.55007372 2.84997351 0.02       0.15       0.5       ] 63.91646788137537\n",
      "[2.55007372 2.84994289 0.02       0.15       0.5       ] 63.914634566827694\n",
      "[2.55007372 2.84992941 0.02       0.15       0.5       ] 63.90701765535542\n",
      "[2.55007372 2.84992108 0.02       0.15       0.5       ] 65.89389428514467\n",
      "[2.55007372 2.84993456 0.02       0.15       0.5       ] 63.91004513326474\n",
      "[2.55007372 2.84992623 0.02       0.15       0.5       ] 65.89514564420638\n",
      "[2.55007372 2.84993138 0.02       0.15       0.5       ] 63.90701804456455\n",
      "[2.55007372 2.84992871 0.02       0.15       0.5       ] 63.90701765535542\n",
      "[2.55007372 2.84992799 0.02       0.15       0.5       ] 63.90675900649463\n",
      "[2.55007372 2.84992727 0.02       0.15       0.5       ] 63.90675900563449\n",
      "[2.55007372 2.84992727 0.02       0.15       0.5       ] 63.90675900563449\n",
      "[2.55007372 2.84992727 1.02       0.15       0.5       ] 70.27857914266083\n",
      "[ 2.55007372  2.84992727 -1.598034    0.15        0.5       ] 79.05959449517859\n",
      "[2.55007372 2.84992727 0.02       0.15       0.5       ] 63.90675900563449\n",
      "[ 2.55007372  2.84992727 -0.59803397  0.15        0.5       ] 69.67692727953964\n",
      "[2.55007372 2.84992727 0.401966   0.15       0.5       ] 69.56902646211138\n",
      "[ 2.55007372  2.84992727 -0.09580097  0.15        0.5       ] 63.90551267388009\n",
      "[ 2.55007372  2.84992727 -0.03808131  0.15        0.5       ] 63.905646308982185\n",
      "[ 2.55007372  2.84992727 -0.07490048  0.15        0.5       ] 63.90555692445955\n",
      "[ 2.55007372  2.84992727 -0.2876369   0.15        0.5       ] 67.57523412331126\n",
      "[ 2.55007372  2.84992727 -0.28216251  0.15        0.5       ] 67.31464538453136\n",
      "[ 2.55007372  2.84992727 -0.16698474  0.15        0.5       ] 64.94718912617591\n",
      "[ 2.55007372  2.84992727 -0.12299075  0.15        0.5       ] 64.21442785929217\n",
      "[ 2.55007372  2.84992727 -0.10618654  0.15        0.5       ] 64.09037057957751\n",
      "[ 2.55007372  2.84992727 -0.0878177   0.15        0.5       ] 63.90551296201964\n",
      "[ 2.55007372  2.84992727 -0.09192135  0.15        0.5       ] 63.90551267388009\n",
      "[ 2.55007372  2.84992727 -0.09080213  0.15        0.5       ] 63.90551267388009\n",
      "[ 2.55007372  2.84992727 -0.08966218  0.15        0.5       ] 63.90551267388009\n",
      "[ 2.55007372  2.84992727 -0.08966218  0.15        0.5       ] 63.90551267388009\n",
      "[ 2.55007372  2.84992727 -0.08966218  1.15        0.5       ] 130.027391854226\n",
      "[ 2.55007372  2.84992727 -0.08966218 -1.468034    0.5       ] 137.81760599763646\n",
      "[ 2.55007372  2.84992727 -0.08966218  0.15        0.5       ] 63.90551267388009\n",
      "[ 2.55007372  2.84992727 -0.08966218 -0.46803397  0.5       ] 97.97583660017\n",
      "[ 2.55007372  2.84992727 -0.08966218  0.531966    0.5       ] 103.07266787003236\n",
      "[ 2.55007372  2.84992727 -0.08966218  0.01580283  0.5       ] 320.0666833274953\n",
      "[ 2.55007372  2.84992727 -0.08966218  0.29589803  0.5       ] 79.06686982628676\n",
      "[ 2.55007372  2.84992727 -0.08966218  0.20572809  0.5       ] 67.37428146841798\n",
      "[ 2.55007372  2.84992727 -0.08966218  0.11052318  0.5       ] 72.24677653572151\n",
      "[ 2.55007372  2.84992727 -0.08966218  0.16703201  0.5       ] 64.15833041183052\n",
      "[ 2.55007372  2.84992727 -0.08966218  0.15245712  0.5       ] 63.88225722527448\n"
     ]
    },
    {
     "ename": "KeyboardInterrupt",
     "evalue": "",
     "output_type": "error",
     "traceback": [
      "\u001b[0;31m---------------------------------------------------------------------------\u001b[0m",
      "\u001b[0;31mKeyboardInterrupt\u001b[0m                         Traceback (most recent call last)",
      "\u001b[0;32m<ipython-input-13-1dd3fc9b31c6>\u001b[0m in \u001b[0;36m<module>\u001b[0;34m\u001b[0m\n\u001b[1;32m     48\u001b[0m \u001b[0mOptimization\u001b[0m \u001b[0musing\u001b[0m \u001b[0mneadler\u001b[0m \u001b[0mmead\u001b[0m \u001b[0mmethod\u001b[0m \u001b[0;32mand\u001b[0m \u001b[0ma\u001b[0m \u001b[0msimplex\u001b[0m \u001b[0malgorithm\u001b[0m\u001b[0;34m\u001b[0m\u001b[0;34m\u001b[0m\u001b[0m\n\u001b[1;32m     49\u001b[0m \"\"\"\n\u001b[0;32m---> 50\u001b[0;31m minimum_nll = scipy.optimize.minimize(MLE_fmin, [2.55,2.85,0.02,0.15,0.5], \n\u001b[0m\u001b[1;32m     51\u001b[0m                                     \u001b[0mmethod\u001b[0m \u001b[0;34m=\u001b[0m \u001b[0;34m'Powell'\u001b[0m\u001b[0;34m,\u001b[0m\u001b[0;34m\u001b[0m\u001b[0;34m\u001b[0m\u001b[0m\n\u001b[1;32m     52\u001b[0m                                     options={'maxiter':30000, 'maxfev':30000,'ftol':0.01, 'disp':0})\n",
      "\u001b[0;32m~/miniconda3/envs/glm/lib/python3.9/site-packages/scipy/optimize/_minimize.py\u001b[0m in \u001b[0;36mminimize\u001b[0;34m(fun, x0, args, method, jac, hess, hessp, bounds, constraints, tol, callback, options)\u001b[0m\n\u001b[1;32m    612\u001b[0m                                     **options)\n\u001b[1;32m    613\u001b[0m     \u001b[0;32melif\u001b[0m \u001b[0mmeth\u001b[0m \u001b[0;34m==\u001b[0m \u001b[0;34m'powell'\u001b[0m\u001b[0;34m:\u001b[0m\u001b[0;34m\u001b[0m\u001b[0;34m\u001b[0m\u001b[0m\n\u001b[0;32m--> 614\u001b[0;31m         \u001b[0;32mreturn\u001b[0m \u001b[0m_minimize_powell\u001b[0m\u001b[0;34m(\u001b[0m\u001b[0mfun\u001b[0m\u001b[0;34m,\u001b[0m \u001b[0mx0\u001b[0m\u001b[0;34m,\u001b[0m \u001b[0margs\u001b[0m\u001b[0;34m,\u001b[0m \u001b[0mcallback\u001b[0m\u001b[0;34m,\u001b[0m \u001b[0mbounds\u001b[0m\u001b[0;34m,\u001b[0m \u001b[0;34m**\u001b[0m\u001b[0moptions\u001b[0m\u001b[0;34m)\u001b[0m\u001b[0;34m\u001b[0m\u001b[0;34m\u001b[0m\u001b[0m\n\u001b[0m\u001b[1;32m    615\u001b[0m     \u001b[0;32melif\u001b[0m \u001b[0mmeth\u001b[0m \u001b[0;34m==\u001b[0m \u001b[0;34m'cg'\u001b[0m\u001b[0;34m:\u001b[0m\u001b[0;34m\u001b[0m\u001b[0;34m\u001b[0m\u001b[0m\n\u001b[1;32m    616\u001b[0m         \u001b[0;32mreturn\u001b[0m \u001b[0m_minimize_cg\u001b[0m\u001b[0;34m(\u001b[0m\u001b[0mfun\u001b[0m\u001b[0;34m,\u001b[0m \u001b[0mx0\u001b[0m\u001b[0;34m,\u001b[0m \u001b[0margs\u001b[0m\u001b[0;34m,\u001b[0m \u001b[0mjac\u001b[0m\u001b[0;34m,\u001b[0m \u001b[0mcallback\u001b[0m\u001b[0;34m,\u001b[0m \u001b[0;34m**\u001b[0m\u001b[0moptions\u001b[0m\u001b[0;34m)\u001b[0m\u001b[0;34m\u001b[0m\u001b[0;34m\u001b[0m\u001b[0m\n",
      "\u001b[0;32m~/miniconda3/envs/glm/lib/python3.9/site-packages/scipy/optimize/optimize.py\u001b[0m in \u001b[0;36m_minimize_powell\u001b[0;34m(func, x0, args, callback, bounds, xtol, ftol, maxiter, maxfev, disp, direc, return_all, **unknown_options)\u001b[0m\n\u001b[1;32m   3029\u001b[0m             \u001b[0mdirec1\u001b[0m \u001b[0;34m=\u001b[0m \u001b[0mdirec\u001b[0m\u001b[0;34m[\u001b[0m\u001b[0mi\u001b[0m\u001b[0;34m]\u001b[0m\u001b[0;34m\u001b[0m\u001b[0;34m\u001b[0m\u001b[0m\n\u001b[1;32m   3030\u001b[0m             \u001b[0mfx2\u001b[0m \u001b[0;34m=\u001b[0m \u001b[0mfval\u001b[0m\u001b[0;34m\u001b[0m\u001b[0;34m\u001b[0m\u001b[0m\n\u001b[0;32m-> 3031\u001b[0;31m             fval, x, direc1 = _linesearch_powell(func, x, direc1,\n\u001b[0m\u001b[1;32m   3032\u001b[0m                                                  \u001b[0mtol\u001b[0m\u001b[0;34m=\u001b[0m\u001b[0mxtol\u001b[0m \u001b[0;34m*\u001b[0m \u001b[0;36m100\u001b[0m\u001b[0;34m,\u001b[0m\u001b[0;34m\u001b[0m\u001b[0;34m\u001b[0m\u001b[0m\n\u001b[1;32m   3033\u001b[0m                                                  \u001b[0mlower_bound\u001b[0m\u001b[0;34m=\u001b[0m\u001b[0mlower_bound\u001b[0m\u001b[0;34m,\u001b[0m\u001b[0;34m\u001b[0m\u001b[0;34m\u001b[0m\u001b[0m\n",
      "\u001b[0;32m~/miniconda3/envs/glm/lib/python3.9/site-packages/scipy/optimize/optimize.py\u001b[0m in \u001b[0;36m_linesearch_powell\u001b[0;34m(func, p, xi, tol, lower_bound, upper_bound, fval)\u001b[0m\n\u001b[1;32m   2760\u001b[0m     \u001b[0;32melif\u001b[0m \u001b[0mlower_bound\u001b[0m \u001b[0;32mis\u001b[0m \u001b[0;32mNone\u001b[0m \u001b[0;32mand\u001b[0m \u001b[0mupper_bound\u001b[0m \u001b[0;32mis\u001b[0m \u001b[0;32mNone\u001b[0m\u001b[0;34m:\u001b[0m\u001b[0;34m\u001b[0m\u001b[0;34m\u001b[0m\u001b[0m\n\u001b[1;32m   2761\u001b[0m         \u001b[0;31m# non-bounded minimization\u001b[0m\u001b[0;34m\u001b[0m\u001b[0;34m\u001b[0m\u001b[0;34m\u001b[0m\u001b[0m\n\u001b[0;32m-> 2762\u001b[0;31m         \u001b[0malpha_min\u001b[0m\u001b[0;34m,\u001b[0m \u001b[0mfret\u001b[0m\u001b[0;34m,\u001b[0m \u001b[0m_\u001b[0m\u001b[0;34m,\u001b[0m \u001b[0m_\u001b[0m \u001b[0;34m=\u001b[0m \u001b[0mbrent\u001b[0m\u001b[0;34m(\u001b[0m\u001b[0mmyfunc\u001b[0m\u001b[0;34m,\u001b[0m \u001b[0mfull_output\u001b[0m\u001b[0;34m=\u001b[0m\u001b[0;36m1\u001b[0m\u001b[0;34m,\u001b[0m \u001b[0mtol\u001b[0m\u001b[0;34m=\u001b[0m\u001b[0mtol\u001b[0m\u001b[0;34m)\u001b[0m\u001b[0;34m\u001b[0m\u001b[0;34m\u001b[0m\u001b[0m\n\u001b[0m\u001b[1;32m   2763\u001b[0m         \u001b[0mxi\u001b[0m \u001b[0;34m=\u001b[0m \u001b[0malpha_min\u001b[0m \u001b[0;34m*\u001b[0m \u001b[0mxi\u001b[0m\u001b[0;34m\u001b[0m\u001b[0;34m\u001b[0m\u001b[0m\n\u001b[1;32m   2764\u001b[0m         \u001b[0;32mreturn\u001b[0m \u001b[0msqueeze\u001b[0m\u001b[0;34m(\u001b[0m\u001b[0mfret\u001b[0m\u001b[0;34m)\u001b[0m\u001b[0;34m,\u001b[0m \u001b[0mp\u001b[0m \u001b[0;34m+\u001b[0m \u001b[0mxi\u001b[0m\u001b[0;34m,\u001b[0m \u001b[0mxi\u001b[0m\u001b[0;34m\u001b[0m\u001b[0;34m\u001b[0m\u001b[0m\n",
      "\u001b[0;32m~/miniconda3/envs/glm/lib/python3.9/site-packages/scipy/optimize/optimize.py\u001b[0m in \u001b[0;36mbrent\u001b[0;34m(func, args, brack, tol, full_output, maxiter)\u001b[0m\n\u001b[1;32m   2362\u001b[0m     options = {'xtol': tol,\n\u001b[1;32m   2363\u001b[0m                'maxiter': maxiter}\n\u001b[0;32m-> 2364\u001b[0;31m     \u001b[0mres\u001b[0m \u001b[0;34m=\u001b[0m \u001b[0m_minimize_scalar_brent\u001b[0m\u001b[0;34m(\u001b[0m\u001b[0mfunc\u001b[0m\u001b[0;34m,\u001b[0m \u001b[0mbrack\u001b[0m\u001b[0;34m,\u001b[0m \u001b[0margs\u001b[0m\u001b[0;34m,\u001b[0m \u001b[0;34m**\u001b[0m\u001b[0moptions\u001b[0m\u001b[0;34m)\u001b[0m\u001b[0;34m\u001b[0m\u001b[0;34m\u001b[0m\u001b[0m\n\u001b[0m\u001b[1;32m   2365\u001b[0m     \u001b[0;32mif\u001b[0m \u001b[0mfull_output\u001b[0m\u001b[0;34m:\u001b[0m\u001b[0;34m\u001b[0m\u001b[0;34m\u001b[0m\u001b[0m\n\u001b[1;32m   2366\u001b[0m         \u001b[0;32mreturn\u001b[0m \u001b[0mres\u001b[0m\u001b[0;34m[\u001b[0m\u001b[0;34m'x'\u001b[0m\u001b[0;34m]\u001b[0m\u001b[0;34m,\u001b[0m \u001b[0mres\u001b[0m\u001b[0;34m[\u001b[0m\u001b[0;34m'fun'\u001b[0m\u001b[0;34m]\u001b[0m\u001b[0;34m,\u001b[0m \u001b[0mres\u001b[0m\u001b[0;34m[\u001b[0m\u001b[0;34m'nit'\u001b[0m\u001b[0;34m]\u001b[0m\u001b[0;34m,\u001b[0m \u001b[0mres\u001b[0m\u001b[0;34m[\u001b[0m\u001b[0;34m'nfev'\u001b[0m\u001b[0;34m]\u001b[0m\u001b[0;34m\u001b[0m\u001b[0;34m\u001b[0m\u001b[0m\n",
      "\u001b[0;32m~/miniconda3/envs/glm/lib/python3.9/site-packages/scipy/optimize/optimize.py\u001b[0m in \u001b[0;36m_minimize_scalar_brent\u001b[0;34m(func, brack, args, xtol, maxiter, **unknown_options)\u001b[0m\n\u001b[1;32m   2394\u001b[0m                   full_output=True, maxiter=maxiter)\n\u001b[1;32m   2395\u001b[0m     \u001b[0mbrent\u001b[0m\u001b[0;34m.\u001b[0m\u001b[0mset_bracket\u001b[0m\u001b[0;34m(\u001b[0m\u001b[0mbrack\u001b[0m\u001b[0;34m)\u001b[0m\u001b[0;34m\u001b[0m\u001b[0;34m\u001b[0m\u001b[0m\n\u001b[0;32m-> 2396\u001b[0;31m     \u001b[0mbrent\u001b[0m\u001b[0;34m.\u001b[0m\u001b[0moptimize\u001b[0m\u001b[0;34m(\u001b[0m\u001b[0;34m)\u001b[0m\u001b[0;34m\u001b[0m\u001b[0;34m\u001b[0m\u001b[0m\n\u001b[0m\u001b[1;32m   2397\u001b[0m     \u001b[0mx\u001b[0m\u001b[0;34m,\u001b[0m \u001b[0mfval\u001b[0m\u001b[0;34m,\u001b[0m \u001b[0mnit\u001b[0m\u001b[0;34m,\u001b[0m \u001b[0mnfev\u001b[0m \u001b[0;34m=\u001b[0m \u001b[0mbrent\u001b[0m\u001b[0;34m.\u001b[0m\u001b[0mget_result\u001b[0m\u001b[0;34m(\u001b[0m\u001b[0mfull_output\u001b[0m\u001b[0;34m=\u001b[0m\u001b[0;32mTrue\u001b[0m\u001b[0;34m)\u001b[0m\u001b[0;34m\u001b[0m\u001b[0;34m\u001b[0m\u001b[0m\n\u001b[1;32m   2398\u001b[0m \u001b[0;34m\u001b[0m\u001b[0m\n",
      "\u001b[0;32m~/miniconda3/envs/glm/lib/python3.9/site-packages/scipy/optimize/optimize.py\u001b[0m in \u001b[0;36moptimize\u001b[0;34m(self)\u001b[0m\n\u001b[1;32m   2245\u001b[0m             \u001b[0;32melse\u001b[0m\u001b[0;34m:\u001b[0m\u001b[0;34m\u001b[0m\u001b[0;34m\u001b[0m\u001b[0m\n\u001b[1;32m   2246\u001b[0m                 \u001b[0mu\u001b[0m \u001b[0;34m=\u001b[0m \u001b[0mx\u001b[0m \u001b[0;34m+\u001b[0m \u001b[0mrat\u001b[0m\u001b[0;34m\u001b[0m\u001b[0;34m\u001b[0m\u001b[0m\n\u001b[0;32m-> 2247\u001b[0;31m             \u001b[0mfu\u001b[0m \u001b[0;34m=\u001b[0m \u001b[0mfunc\u001b[0m\u001b[0;34m(\u001b[0m\u001b[0;34m*\u001b[0m\u001b[0;34m(\u001b[0m\u001b[0;34m(\u001b[0m\u001b[0mu\u001b[0m\u001b[0;34m,\u001b[0m\u001b[0;34m)\u001b[0m \u001b[0;34m+\u001b[0m \u001b[0mself\u001b[0m\u001b[0;34m.\u001b[0m\u001b[0margs\u001b[0m\u001b[0;34m)\u001b[0m\u001b[0;34m)\u001b[0m      \u001b[0;31m# calculate new output value\u001b[0m\u001b[0;34m\u001b[0m\u001b[0;34m\u001b[0m\u001b[0m\n\u001b[0m\u001b[1;32m   2248\u001b[0m             \u001b[0mfuncalls\u001b[0m \u001b[0;34m+=\u001b[0m \u001b[0;36m1\u001b[0m\u001b[0;34m\u001b[0m\u001b[0;34m\u001b[0m\u001b[0m\n\u001b[1;32m   2249\u001b[0m \u001b[0;34m\u001b[0m\u001b[0m\n",
      "\u001b[0;32m~/miniconda3/envs/glm/lib/python3.9/site-packages/scipy/optimize/optimize.py\u001b[0m in \u001b[0;36mmyfunc\u001b[0;34m(alpha)\u001b[0m\n\u001b[1;32m   2753\u001b[0m     \"\"\"\n\u001b[1;32m   2754\u001b[0m     \u001b[0;32mdef\u001b[0m \u001b[0mmyfunc\u001b[0m\u001b[0;34m(\u001b[0m\u001b[0malpha\u001b[0m\u001b[0;34m)\u001b[0m\u001b[0;34m:\u001b[0m\u001b[0;34m\u001b[0m\u001b[0;34m\u001b[0m\u001b[0m\n\u001b[0;32m-> 2755\u001b[0;31m         \u001b[0;32mreturn\u001b[0m \u001b[0mfunc\u001b[0m\u001b[0;34m(\u001b[0m\u001b[0mp\u001b[0m \u001b[0;34m+\u001b[0m \u001b[0malpha\u001b[0m\u001b[0;34m*\u001b[0m\u001b[0mxi\u001b[0m\u001b[0;34m)\u001b[0m\u001b[0;34m\u001b[0m\u001b[0;34m\u001b[0m\u001b[0m\n\u001b[0m\u001b[1;32m   2756\u001b[0m \u001b[0;34m\u001b[0m\u001b[0m\n\u001b[1;32m   2757\u001b[0m     \u001b[0;31m# if xi is zero, then don't optimize\u001b[0m\u001b[0;34m\u001b[0m\u001b[0;34m\u001b[0m\u001b[0;34m\u001b[0m\u001b[0m\n",
      "\u001b[0;32m~/miniconda3/envs/glm/lib/python3.9/site-packages/scipy/optimize/optimize.py\u001b[0m in \u001b[0;36mfunction_wrapper\u001b[0;34m(x, *wrapper_args)\u001b[0m\n\u001b[1;32m    462\u001b[0m     \u001b[0;32mdef\u001b[0m \u001b[0mfunction_wrapper\u001b[0m\u001b[0;34m(\u001b[0m\u001b[0mx\u001b[0m\u001b[0;34m,\u001b[0m \u001b[0;34m*\u001b[0m\u001b[0mwrapper_args\u001b[0m\u001b[0;34m)\u001b[0m\u001b[0;34m:\u001b[0m\u001b[0;34m\u001b[0m\u001b[0;34m\u001b[0m\u001b[0m\n\u001b[1;32m    463\u001b[0m         \u001b[0mncalls\u001b[0m\u001b[0;34m[\u001b[0m\u001b[0;36m0\u001b[0m\u001b[0;34m]\u001b[0m \u001b[0;34m+=\u001b[0m \u001b[0;36m1\u001b[0m\u001b[0;34m\u001b[0m\u001b[0;34m\u001b[0m\u001b[0m\n\u001b[0;32m--> 464\u001b[0;31m         \u001b[0;32mreturn\u001b[0m \u001b[0mfunction\u001b[0m\u001b[0;34m(\u001b[0m\u001b[0mnp\u001b[0m\u001b[0;34m.\u001b[0m\u001b[0mcopy\u001b[0m\u001b[0;34m(\u001b[0m\u001b[0mx\u001b[0m\u001b[0;34m)\u001b[0m\u001b[0;34m,\u001b[0m \u001b[0;34m*\u001b[0m\u001b[0;34m(\u001b[0m\u001b[0mwrapper_args\u001b[0m \u001b[0;34m+\u001b[0m \u001b[0margs\u001b[0m\u001b[0;34m)\u001b[0m\u001b[0;34m)\u001b[0m\u001b[0;34m\u001b[0m\u001b[0;34m\u001b[0m\u001b[0m\n\u001b[0m\u001b[1;32m    465\u001b[0m \u001b[0;34m\u001b[0m\u001b[0m\n\u001b[1;32m    466\u001b[0m     \u001b[0;32mreturn\u001b[0m \u001b[0mncalls\u001b[0m\u001b[0;34m,\u001b[0m \u001b[0mfunction_wrapper\u001b[0m\u001b[0;34m\u001b[0m\u001b[0;34m\u001b[0m\u001b[0m\n",
      "\u001b[0;32m<ipython-input-13-1dd3fc9b31c6>\u001b[0m in \u001b[0;36mMLE_fmin\u001b[0;34m(params)\u001b[0m\n\u001b[1;32m     14\u001b[0m         \u001b[0;32mfor\u001b[0m \u001b[0mitrue2\u001b[0m \u001b[0;32min\u001b[0m \u001b[0mrange\u001b[0m\u001b[0;34m(\u001b[0m\u001b[0mlen\u001b[0m\u001b[0;34m(\u001b[0m\u001b[0mlog_freq_seq_array\u001b[0m\u001b[0;34m)\u001b[0m\u001b[0;34m)\u001b[0m\u001b[0;34m:\u001b[0m\u001b[0;34m\u001b[0m\u001b[0;34m\u001b[0m\u001b[0m\n\u001b[1;32m     15\u001b[0m             \u001b[0;32mfor\u001b[0m \u001b[0mitrue3\u001b[0m \u001b[0;32min\u001b[0m \u001b[0mrange\u001b[0m\u001b[0;34m(\u001b[0m\u001b[0mlen\u001b[0m\u001b[0;34m(\u001b[0m\u001b[0mlog_freq_seq_array\u001b[0m\u001b[0;34m)\u001b[0m\u001b[0;34m)\u001b[0m\u001b[0;34m:\u001b[0m\u001b[0;34m\u001b[0m\u001b[0;34m\u001b[0m\u001b[0m\n\u001b[0;32m---> 16\u001b[0;31m                 probPerceptgivenLatentTones = Tones3dgrid([log_freq_seq_array[itrue1],\\\n\u001b[0m\u001b[1;32m     17\u001b[0m                                                            \u001b[0mlog_freq_seq_array\u001b[0m\u001b[0;34m[\u001b[0m\u001b[0mitrue2\u001b[0m\u001b[0;34m]\u001b[0m\u001b[0;34m,\u001b[0m\u001b[0;31m\\\u001b[0m\u001b[0;34m\u001b[0m\u001b[0;34m\u001b[0m\u001b[0m\n\u001b[1;32m     18\u001b[0m                                                            log_freq_seq_array[itrue3]],sigma=sigma_sensory)                                                           \n",
      "\u001b[0;32m<ipython-input-6-125629ffb5eb>\u001b[0m in \u001b[0;36mTones3dgrid\u001b[0;34m(latentTones, sigma)\u001b[0m\n\u001b[1;32m     14\u001b[0m     \u001b[0minput_array_2\u001b[0m \u001b[0;34m*=\u001b[0m \u001b[0ms2\u001b[0m\u001b[0;34m;\u001b[0m\u001b[0;34m\u001b[0m\u001b[0;34m\u001b[0m\u001b[0m\n\u001b[1;32m     15\u001b[0m \u001b[0;34m\u001b[0m\u001b[0m\n\u001b[0;32m---> 16\u001b[0;31m     \u001b[0minput_array_mat\u001b[0m \u001b[0;34m=\u001b[0m \u001b[0mnp\u001b[0m\u001b[0;34m.\u001b[0m\u001b[0mexpand_dims\u001b[0m\u001b[0;34m(\u001b[0m\u001b[0minput_array_0\u001b[0m\u001b[0;34m@\u001b[0m\u001b[0minput_array_1\u001b[0m\u001b[0;34m.\u001b[0m\u001b[0mT\u001b[0m\u001b[0;34m,\u001b[0m\u001b[0maxis\u001b[0m\u001b[0;34m=\u001b[0m\u001b[0;36m2\u001b[0m\u001b[0;34m)\u001b[0m\u001b[0;34m@\u001b[0m\u001b[0;34m(\u001b[0m\u001b[0minput_array_2\u001b[0m\u001b[0;34m.\u001b[0m\u001b[0mT\u001b[0m\u001b[0;34m)\u001b[0m \u001b[0;31m#p(T1,T2..|H)\u001b[0m\u001b[0;34m\u001b[0m\u001b[0;34m\u001b[0m\u001b[0m\n\u001b[0m\u001b[1;32m     17\u001b[0m \u001b[0;34m\u001b[0m\u001b[0m\n\u001b[1;32m     18\u001b[0m     \u001b[0;32mreturn\u001b[0m \u001b[0minput_array_mat\u001b[0m\u001b[0;34m\u001b[0m\u001b[0;34m\u001b[0m\u001b[0m\n",
      "\u001b[0;31mKeyboardInterrupt\u001b[0m: "
     ]
    }
   ],
   "source": [
    "# define mle function\n",
    "def MLE_fmin(params):\n",
    "    log_prior_low_mean, log_prior_high_mean, log_prior_sigma, sigma_sensory, prob_low = \\\n",
    "    params[0], params[1], params[2], params[3], params[4] # inputs are guesses at our parameters  \n",
    "    \n",
    "    LikelihoodLatentTonegivenHigh,LikelihoodLatentTonegivenLow,_,_ = \\\n",
    "    posterior_array(log_freq_seq_array, n_tones=len(trial_tones[0]), p_low=prob_low,\\\n",
    "                    log_prior=[log_prior_low_mean,log_prior_high_mean,log_prior_sigma])\n",
    "\n",
    "    LikelihoodPerceptgivenHigh = np.zeros((len(log_freq_percept),len(log_freq_percept),len(log_freq_percept)))\n",
    "    LikelihoodPerceptgivenLow = np.zeros((len(log_freq_percept),len(log_freq_percept),len(log_freq_percept)))\n",
    "    \n",
    "    for itrue1 in range(len(log_freq_seq_array)):\n",
    "        for itrue2 in range(len(log_freq_seq_array)):            \n",
    "            for itrue3 in range(len(log_freq_seq_array)):\n",
    "                probPerceptgivenLatentTones = Tones3dgrid([log_freq_seq_array[itrue1],\\\n",
    "                                                           log_freq_seq_array[itrue2],\\\n",
    "                                                           log_freq_seq_array[itrue3]],sigma=sigma_sensory)                                                           \n",
    "                LikelihoodPerceptgivenHigh \\\n",
    "                += probPerceptgivenLatentTones * LikelihoodLatentTonegivenHigh[itrue1,itrue2,itrue3]\n",
    "                LikelihoodPerceptgivenLow \\\n",
    "                += probPerceptgivenLatentTones * LikelihoodLatentTonegivenLow[itrue1,itrue2,itrue3]\n",
    "    probHighgivenPercept = LikelihoodPerceptgivenHigh*(1-prob_low)/\\\n",
    "    (LikelihoodPerceptgivenHigh*(1-prob_low) + LikelihoodPerceptgivenLow*(prob_low))\n",
    "        \n",
    "    neg_ll = 0; \n",
    "    probability_high = np.zeros((len(trial_tones),1))\n",
    "    for i_trial in range(len(trial_tones)):\n",
    "        input_array_mat = Tones3dgrid(np.array([np.log10(trial_tones[i_trial][0]),\\\n",
    "                                               np.log10(trial_tones[i_trial][1]),\n",
    "                                               np.log10(trial_tones[i_trial][2])]),sigma=sigma_sensory)\n",
    "        probability_high0 = np.sum(np.multiply(probHighgivenPercept>0.5,input_array_mat))\n",
    "        probability_high[i_trial] = np.sum(np.multiply(probHighgivenPercept>0.5,input_array_mat))\n",
    "            \n",
    "        if trial_behaviour[i_trial]:\n",
    "            if np.isnan(np.log(probability_high0 + 0.0000001)) \\\n",
    "            or np.isinf(np.log(probability_high0 + 0.0000001)) \\\n",
    "            or np.isnan(np.log(1-probability_high0 + 0.0000001)) \\\n",
    "            or np.isinf(np.log(1-probability_high0 + 0.0000001)):\n",
    "                pdb.set_trace()\n",
    "            neg_ll += -np.log(probability_high0 + 0.0000001) # if high dist is chosen by observer\n",
    "        else:\n",
    "            neg_ll += -np.log(1 - probability_high0 + 0.0000001) # if low dist is chosen by observer\n",
    "    print(params, neg_ll)\n",
    "    return(neg_ll)\n",
    "\n",
    "\"\"\"\n",
    "Optimization using neadler mead method and a simplex algorithm\n",
    "\"\"\"\n",
    "minimum_nll = scipy.optimize.minimize(MLE_fmin, [2.55,2.85,0.02,0.15,0.5], \n",
    "                                    method = 'Powell', \n",
    "                                    options={'maxiter':30000, 'maxfev':30000,'ftol':0.01, 'disp':0})\n",
    "\n",
    "print(minimum_nll)\n"
   ]
  },
  {
   "cell_type": "code",
   "execution_count": null,
   "metadata": {},
   "outputs": [],
   "source": [
    "Influence plots the way we currently understand them (11-17-2020)\n",
    "unique_tones = np.unique(trial_tones)\n",
    "tone1_prob_behaviour = np.zeros((len(unique_tones)))\n",
    "tone2_prob_behaviour = np.zeros((len(unique_tones)))\n",
    "tone3_prob_behaviour = np.zeros((len(unique_tones)))\n",
    "\n",
    "for i_tone in range(len(unique_tones)):\n",
    "    tone1_prob_behaviour[i_tone] = np.mean(trial_behaviour[trial_tones[:,0]\\\n",
    "                                                       ==unique_tones[i_tone]])\n",
    "    tone2_prob_behaviour[i_tone] = np.mean(trial_behaviour[trial_tones[:,1]\\\n",
    "                                                       ==unique_tones[i_tone]])\n",
    "    tone3_prob_behaviour[i_tone] = np.mean(trial_behaviour[trial_tones[:,2]\\\n",
    "                                                       ==unique_tones[i_tone]])\n",
    "influence1, = plt.plot(np.log10(unique_tones), tone1_prob_behaviour, label = 'Influence of Tone 1')\n",
    "influence2, = plt.plot(np.log10(unique_tones), tone2_prob_behaviour, label = 'Influence of Tone 2')\n",
    "influence3, = plt.plot(np.log10(unique_tones), tone3_prob_behaviour, label = 'Influence of Tone 3')\n",
    "influence, = plt.plot(np.log10(unique_tones), (tone1_prob_behaviour+tone2_prob_behaviour+tone3_prob_behaviour)/3,\n",
    "                       'k', label = 'Average Influence')\n",
    "\n",
    "_, probability_high = MLE(minimum_nll)\n",
    "\n",
    "tone1_prob_behaviour = np.zeros((len(unique_tones)))\n",
    "tone2_prob_behaviour = np.zeros((len(unique_tones)))\n",
    "tone3_prob_behaviour = np.zeros((len(unique_tones)))\n",
    "\n",
    "for i_tone in range(len(unique_tones)):\n",
    "    tone1_prob_behaviour[i_tone] = np.mean(probability_high[trial_tones[:,0]\\\n",
    "                                                       ==unique_tones[i_tone]])\n",
    "    tone2_prob_behaviour[i_tone] = np.mean(probability_high[trial_tones[:,2]\\\n",
    "                                                       ==unique_tones[i_tone]])\n",
    "    tone3_prob_behaviour[i_tone] = np.mean(probability_high[trial_tones[:,2]\\\n",
    "                                                      ==unique_tones[i_tone]])\n",
    "mnll_influence, = plt.plot(np.log10(unique_tones),\n",
    "                           (tone1_prob_behaviour+tone2_prob_behaviour+tone3_prob_behaviour)/3,'k.',\n",
    "                          label = 'p(B_H|T) given fmin parameters')\n",
    "\n",
    "\"\"\"\n",
    " _, probability_high = MLE(best_thetas)\n",
    "\n",
    "tone1_prob_behaviour = np.zeros((len(unique_tones)))\n",
    "tone2_prob_behaviour = np.zeros((len(unique_tones)))\n",
    "tone3_prob_behaviour = np.zeros((len(unique_tones)))\n",
    "\n",
    "for i_tone in range(len(unique_tones)):\n",
    "    tone1_prob_behaviour[i_tone] = np.mean(probability_high[trial_tones[:,0]\\\n",
    "                                                       ==unique_tones[i_tone]])\n",
    "    tone2_prob_behaviour[i_tone] = np.mean(probability_high[trial_tones[:,1]\\\n",
    "                                                       ==unique_tones[i_tone]])\n",
    "    tone3_prob_behaviour[i_tone] = np.mean(probability_high[trial_tones[:,2]\\\n",
    "                                                       ==unique_tones[i_tone]])\n",
    "grid_influence, = plt.plot(np.log10(unique_tones),\n",
    "                           (tone1_prob_behaviour+tone2_prob_behaviour+tone3_prob_behaviour)/3,'k--',\n",
    "                          label = 'p(B_H|T) given grid parameters')\n",
    "\"\"\"\n",
    "plt.legend(handles=[influence, mnll_influence])\n",
    "\n",
    "#plt.xlim([1.9,3.6])\n",
    "plt.ylim([-0.2,1.1])\n",
    "plt.xlabel('log10(Tones)')\n",
    "plt.ylabel('p(B_H|T)')\n",
    "# plt.savefig('figures/experimenter=mark_categorization_task_2020-12-28_18h57.17.409_plow_additional_parameter.png')"
   ]
  }
 ],
 "metadata": {
  "kernelspec": {
   "display_name": "Python 3",
   "language": "python",
   "name": "python3"
  },
  "language_info": {
   "codemirror_mode": {
    "name": "ipython",
    "version": 3
   },
   "file_extension": ".py",
   "mimetype": "text/x-python",
   "name": "python",
   "nbconvert_exporter": "python",
   "pygments_lexer": "ipython3",
   "version": "3.9.1"
  }
 },
 "nbformat": 4,
 "nbformat_minor": 4
}
